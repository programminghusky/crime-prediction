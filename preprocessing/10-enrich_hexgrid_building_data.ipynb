{
 "cells": [
  {
   "cell_type": "code",
   "execution_count": 20,
   "id": "fd88102e-7ecd-4afe-9a7a-6f2fbea32750",
   "metadata": {},
   "outputs": [],
   "source": [
    "import numpy as np\n",
    "import pandas as pd\n",
    "import geopandas as gpd\n",
    "from shapely import wkt\n",
    "import json\n",
    "import datetime\n",
    "import pyproj\n",
    "import os\n",
    "os.chdir(\"D:/Projects/crime-prediction\")"
   ]
  },
  {
   "cell_type": "code",
   "execution_count": 21,
   "id": "de98244e-aa23-4c61-bb0c-4a5e015a7b29",
   "metadata": {},
   "outputs": [],
   "source": [
    "buildings_data_file_path = 'data/preprocessed/buildings_data.geojson'\n",
    "hex_grid_path = 'data/preprocessed/hex_grid.geojson'"
   ]
  },
  {
   "cell_type": "code",
   "execution_count": 22,
   "id": "6c746fd0-aebd-448c-b7e1-5f0080d59a1a",
   "metadata": {},
   "outputs": [],
   "source": [
    "def parse_hex_grid():\n",
    "    gdf = gpd.read_file(hex_grid_path)\n",
    "    return gdf"
   ]
  },
  {
   "cell_type": "code",
   "execution_count": 23,
   "id": "60975a6a-ccdb-4259-a9d5-1feb04250a10",
   "metadata": {},
   "outputs": [],
   "source": [
    "hex_grid_gdf = parse_hex_grid()\n",
    "estimated_utm_crs = hex_grid_gdf.estimate_utm_crs()\n",
    "hex_grid_gdf_projected = hex_grid_gdf.to_crs(estimated_utm_crs)"
   ]
  },
  {
   "cell_type": "code",
   "execution_count": 24,
   "id": "2ae1bd67-85fc-45e8-ba7a-dbf2a2bf2b12",
   "metadata": {},
   "outputs": [],
   "source": [
    "def parse_buildings_data():\n",
    "    gdf = gpd.read_file(buildings_data_file_path)\n",
    "    estimated_utm_crs = gdf.estimate_utm_crs()\n",
    "    gdf_projected = gdf.to_crs(estimated_utm_crs)\n",
    "    return gdf_projected"
   ]
  },
  {
   "cell_type": "code",
   "execution_count": 25,
   "id": "1c1a0fcb-ccd5-49f4-9160-cb66ac2abe19",
   "metadata": {},
   "outputs": [],
   "source": [
    "buidlings_gdf = parse_buildings_data()"
   ]
  },
  {
   "cell_type": "code",
   "execution_count": 26,
   "id": "c84c449c-0666-4d35-8bc0-4c182d7b43c4",
   "metadata": {},
   "outputs": [],
   "source": [
    "def compute_building_counts(hex_grid_gdf, buidlings_gdf):\n",
    "    joined_gdf = gpd.sjoin(buidlings_gdf, hex_grid_gdf, how=\"left\", predicate=\"within\")\n",
    "    building_counts = joined_gdf.groupby('index_right').size().reset_index(name='Building Count')\n",
    "\n",
    "    hex_grid_gdf = hex_grid_gdf.reset_index().merge(building_counts, left_on='index', right_on='index_right', how='left').set_index('index')\n",
    "    hex_grid_gdf['Building Count'] = hex_grid_gdf['Building Count'].fillna(0).astype(int)  # Handle regions with no points\n",
    "    return hex_grid_gdf"
   ]
  },
  {
   "cell_type": "code",
   "execution_count": 27,
   "id": "e1db6a40-5603-4dad-9c53-63352bc9a8bd",
   "metadata": {},
   "outputs": [],
   "source": [
    "hex_grid_gdf_projected = compute_building_counts(hex_grid_gdf_projected, buidlings_gdf)\n",
    "hex_grid_gdf['Building Count'] = hex_grid_gdf_projected['Building Count']"
   ]
  },
  {
   "cell_type": "code",
   "execution_count": 28,
   "id": "1916d9eb-ce7d-4e70-9e6f-b367a0a724f3",
   "metadata": {},
   "outputs": [],
   "source": [
    "hex_grid_gdf.to_file('data/preprocessed/hex_grid.geojson', driver=\"GeoJSON\")"
   ]
  },
  {
   "cell_type": "code",
   "execution_count": null,
   "id": "e71e8930-44e1-4971-867e-7e160b5fb4d4",
   "metadata": {},
   "outputs": [],
   "source": []
  }
 ],
 "metadata": {
  "kernelspec": {
   "display_name": "Python 3 (ipykernel)",
   "language": "python",
   "name": "python3"
  },
  "language_info": {
   "codemirror_mode": {
    "name": "ipython",
    "version": 3
   },
   "file_extension": ".py",
   "mimetype": "text/x-python",
   "name": "python",
   "nbconvert_exporter": "python",
   "pygments_lexer": "ipython3",
   "version": "3.13.5"
  }
 },
 "nbformat": 4,
 "nbformat_minor": 5
}
