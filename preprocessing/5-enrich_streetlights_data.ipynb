{
 "cells": [
  {
   "cell_type": "code",
   "execution_count": 11,
   "id": "b25f4330-a5f1-4dd0-9343-00d02476a699",
   "metadata": {},
   "outputs": [],
   "source": [
    "import numpy as np\n",
    "import pandas as pd\n",
    "import geopandas as gpd\n",
    "from shapely import wkt\n",
    "import json\n",
    "import datetime\n",
    "import pyproj\n",
    "import os\n",
    "os.chdir(\"D:/Projects/crime-prediction\")"
   ]
  },
  {
   "cell_type": "code",
   "execution_count": 12,
   "id": "ebfe0887-68f5-4236-b442-991ad60f838c",
   "metadata": {},
   "outputs": [],
   "source": [
    "pre_processed_file_path = 'data/preprocessed/preprocessed-4.csv'\n",
    "streetlights_data_file_path = 'data/preprocessed/streetlights_data.geojson'"
   ]
  },
  {
   "cell_type": "code",
   "execution_count": 13,
   "id": "19f6d730-c552-4874-83d6-cd3f87d90314",
   "metadata": {},
   "outputs": [],
   "source": [
    "def parse_preprocessed_data():\n",
    "    df = pd.read_csv(\n",
    "                         pre_processed_file_path,\n",
    "                         parse_dates=['Offense Date'],                       \n",
    "                         dtype={\n",
    "                             'Precinct': 'category',\n",
    "                             'Offense Category': 'category',\n",
    "                             'Latitude': np.float32,\n",
    "                             'Longitude': np.float32\n",
    "                         }\n",
    "                        )\n",
    "    df[\"Id\"] = df.index\n",
    "    gdf = gpd.GeoDataFrame(df, geometry= df[\"geometry\"].apply(wkt.loads), crs='EPSG:4326')\n",
    "    return gdf"
   ]
  },
  {
   "cell_type": "code",
   "execution_count": 14,
   "id": "e3e371e0-d001-4306-8bb9-1446a66c9edd",
   "metadata": {},
   "outputs": [],
   "source": [
    "crime_gdf = parse_preprocessed_data()"
   ]
  },
  {
   "cell_type": "code",
   "execution_count": 15,
   "id": "437551ea-090f-4dc2-9502-747fcb7cf647",
   "metadata": {},
   "outputs": [],
   "source": [
    "utm_crs = crime_gdf.estimate_utm_crs()\n",
    "crime_gdf_proj = crime_gdf.to_crs(utm_crs)"
   ]
  },
  {
   "cell_type": "code",
   "execution_count": 16,
   "id": "72c7a51e-2754-41a0-849a-4dac3360b883",
   "metadata": {},
   "outputs": [],
   "source": [
    "streetlights_gdf = gpd.read_file(streetlights_data_file_path)"
   ]
  },
  {
   "cell_type": "code",
   "execution_count": 17,
   "id": "50f23573-e7ae-485c-85a4-32366e264738",
   "metadata": {},
   "outputs": [],
   "source": [
    "streetlights_gdf_proj = streetlights_gdf.to_crs(utm_crs)"
   ]
  },
  {
   "cell_type": "code",
   "execution_count": 18,
   "id": "faedd847-cd90-44ef-aaaf-db57d1bb4a37",
   "metadata": {},
   "outputs": [],
   "source": [
    "streetlights_within_100m = crime_gdf_proj.sjoin_nearest(streetlights_gdf_proj, how=\"left\", max_distance=100, distance_col=\"distance_from_crime\") \\\n",
    "                            .groupby(\"Id\")[\"distance_from_crime\"] \\\n",
    "                            .count() \\\n",
    "                            .rename('StreetLight Count') \\\n",
    "                            .to_frame() \n"
   ]
  },
  {
   "cell_type": "code",
   "execution_count": 19,
   "id": "b7289705-7563-4bd1-b67b-dacddc13df53",
   "metadata": {},
   "outputs": [],
   "source": [
    "crime_gdf['StreetLight Count'] = streetlights_within_100m['StreetLight Count']"
   ]
  },
  {
   "cell_type": "code",
   "execution_count": 20,
   "id": "a8e22138-9e38-4137-9cc2-5aeca85d68c4",
   "metadata": {},
   "outputs": [],
   "source": [
    "crime_gdf.to_csv('data/preprocessed/preprocessed-5.csv', index=False)"
   ]
  }
 ],
 "metadata": {
  "kernelspec": {
   "display_name": "Python 3 (ipykernel)",
   "language": "python",
   "name": "python3"
  },
  "language_info": {
   "codemirror_mode": {
    "name": "ipython",
    "version": 3
   },
   "file_extension": ".py",
   "mimetype": "text/x-python",
   "name": "python",
   "nbconvert_exporter": "python",
   "pygments_lexer": "ipython3",
   "version": "3.13.5"
  }
 },
 "nbformat": 4,
 "nbformat_minor": 5
}
