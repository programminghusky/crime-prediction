{
 "cells": [
  {
   "cell_type": "code",
   "execution_count": 1,
   "id": "db6fd867-3cc7-414a-8234-53275437379c",
   "metadata": {},
   "outputs": [],
   "source": [
    "import numpy as np\n",
    "import pandas as pd\n",
    "import geopandas as gpd\n",
    "from shapely import wkt\n",
    "import json\n",
    "import datetime\n",
    "import pyproj\n",
    "import os\n",
    "os.chdir(\"D:/Projects/crime-prediction\")\n",
    "pyproj.datadir.set_data_dir(\"D:/ProgramData/anaconda3/envs/crime-prediction/Library/share/proj\")"
   ]
  },
  {
   "cell_type": "code",
   "execution_count": 2,
   "id": "6ca73c39-cd0e-4205-ad16-0439fe48574b",
   "metadata": {},
   "outputs": [],
   "source": [
    "pre_processed_file_path = 'data/preprocessed/preprocessed-2.csv'\n",
    "poverty_data_file_path = 'data/preprocessed/poverty_data.geojson'"
   ]
  },
  {
   "cell_type": "code",
   "execution_count": 3,
   "id": "0e4b9815-f243-4f77-9898-2ab2889c74d6",
   "metadata": {},
   "outputs": [],
   "source": [
    "def parse_preprocessed_data():\n",
    "    df = pd.read_csv(\n",
    "                         pre_processed_file_path,\n",
    "                         parse_dates=['Offense Date'],                       \n",
    "                         dtype={\n",
    "                             'Precinct': 'category',\n",
    "                             'Offense Category': 'category',\n",
    "                             'Latitude': np.float32,\n",
    "                             'Longitude': np.float32\n",
    "                         }\n",
    "                        )\n",
    "    gdf = gpd.GeoDataFrame(df, geometry= df[\"geometry\"].apply(wkt.loads), crs='EPSG:4326')\n",
    "    return gdf"
   ]
  },
  {
   "cell_type": "code",
   "execution_count": 12,
   "id": "1de3a019-229b-4149-9836-746dc2195b06",
   "metadata": {},
   "outputs": [],
   "source": [
    "crime_gdf = parse_preprocessed_data()"
   ]
  },
  {
   "cell_type": "code",
   "execution_count": 8,
   "id": "8e00d76c-278e-4de4-aadd-44768348f37a",
   "metadata": {},
   "outputs": [],
   "source": [
    "poverty_gdf = gpd.read_file(poverty_data_file_path)"
   ]
  },
  {
   "cell_type": "code",
   "execution_count": 13,
   "id": "c88e1778-1a08-4bfe-b258-6d4c0673fdb6",
   "metadata": {},
   "outputs": [
    {
     "name": "stdout",
     "output_type": "stream",
     "text": [
      "Index(['Tract Name', 'Tract Population', 'Tract Population Below Poverty',\n",
      "       'geometry'],\n",
      "      dtype='object')\n",
      "Index(['Offense Date', 'Latitude', 'Longitude', 'Beat', 'Precinct', 'Sector',\n",
      "       'Neighborhood', 'Reporting Area', 'Offense Category', 'geometry',\n",
      "       'centroid', 'Temperature', 'Wind Speed', 'Precipitation', 'Visibility'],\n",
      "      dtype='object')\n"
     ]
    }
   ],
   "source": [
    "print(poverty_gdf.columns)\n",
    "print(crime_gdf.columns)"
   ]
  },
  {
   "cell_type": "code",
   "execution_count": 14,
   "id": "2b66871a-0fa7-4735-abb1-9a63828751a1",
   "metadata": {},
   "outputs": [
    {
     "name": "stdout",
     "output_type": "stream",
     "text": [
      "Index(['Offense Date', 'Latitude', 'Longitude', 'Beat', 'Precinct', 'Sector',\n",
      "       'Neighborhood', 'Reporting Area', 'Offense Category', 'geometry',\n",
      "       'centroid', 'Temperature', 'Wind Speed', 'Precipitation', 'Visibility',\n",
      "       'Tract Name', 'Tract Population', 'Tract Population Below Poverty'],\n",
      "      dtype='object')\n"
     ]
    }
   ],
   "source": [
    "crime_gdf = gpd.sjoin(crime_gdf, poverty_gdf, how=\"left\", predicate=\"within\") \\\n",
    "                .drop(columns=['index_right'])\n",
    "print(crime_gdf.columns)"
   ]
  },
  {
   "cell_type": "code",
   "execution_count": 16,
   "id": "0113edde-fe98-434a-bf62-577663719be1",
   "metadata": {},
   "outputs": [],
   "source": [
    "crime_gdf.to_csv('data/preprocessed/preprocessed-3.csv', index=False)"
   ]
  },
  {
   "cell_type": "code",
   "execution_count": null,
   "id": "880877ec-d913-4f1f-aae5-6436b9f635aa",
   "metadata": {},
   "outputs": [],
   "source": []
  }
 ],
 "metadata": {
  "kernelspec": {
   "display_name": "Python 3 (ipykernel)",
   "language": "python",
   "name": "python3"
  },
  "language_info": {
   "codemirror_mode": {
    "name": "ipython",
    "version": 3
   },
   "file_extension": ".py",
   "mimetype": "text/x-python",
   "name": "python",
   "nbconvert_exporter": "python",
   "pygments_lexer": "ipython3",
   "version": "3.13.5"
  }
 },
 "nbformat": 4,
 "nbformat_minor": 5
}
