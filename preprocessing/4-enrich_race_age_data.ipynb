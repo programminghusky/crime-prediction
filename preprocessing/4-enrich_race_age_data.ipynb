{
 "cells": [
  {
   "cell_type": "code",
   "execution_count": 1,
   "id": "24b86591-7180-41cb-9247-c488e133308f",
   "metadata": {},
   "outputs": [],
   "source": [
    "import numpy as np\n",
    "import pandas as pd\n",
    "import geopandas as gpd\n",
    "from shapely import wkt\n",
    "import json\n",
    "import datetime\n",
    "import pyproj\n",
    "import os\n",
    "os.chdir(\"D:/Projects/crime-prediction\")\n",
    "pyproj.datadir.set_data_dir(\"D:/ProgramData/anaconda3/envs/crime-prediction/Library/share/proj\")"
   ]
  },
  {
   "cell_type": "code",
   "execution_count": 2,
   "id": "baffb6c2-543f-4a33-bb4c-fa218247fdee",
   "metadata": {},
   "outputs": [],
   "source": [
    "pre_processed_file_path = 'data/preprocessed/preprocessed-3.csv'\n",
    "race_and_age_data_file_path = 'data/preprocessed/race_and_age_data.geojson'"
   ]
  },
  {
   "cell_type": "code",
   "execution_count": 3,
   "id": "635f71ce-c6cf-48c6-b3c7-61afc1a0af7b",
   "metadata": {},
   "outputs": [],
   "source": [
    "def parse_preprocessed_data():\n",
    "    df = pd.read_csv(\n",
    "                         pre_processed_file_path,\n",
    "                         parse_dates=['Offense Date'],                       \n",
    "                         dtype={\n",
    "                             'Precinct': 'category',\n",
    "                             'Offense Category': 'category',\n",
    "                             'Latitude': np.float32,\n",
    "                             'Longitude': np.float32\n",
    "                         }\n",
    "                        )\n",
    "    df[\"Id\"] = df.index\n",
    "    gdf = gpd.GeoDataFrame(df, geometry= df[\"geometry\"].apply(wkt.loads), crs='EPSG:4326')\n",
    "    return gdf"
   ]
  },
  {
   "cell_type": "code",
   "execution_count": 4,
   "id": "c18125c6-195c-4461-9e7b-524db11eb0e2",
   "metadata": {},
   "outputs": [
    {
     "name": "stdout",
     "output_type": "stream",
     "text": [
      "1280004\n"
     ]
    }
   ],
   "source": [
    "crime_gdf = parse_preprocessed_data()\n",
    "print(len(crime_gdf))"
   ]
  },
  {
   "cell_type": "code",
   "execution_count": 5,
   "id": "62307b6f-4b8e-4870-8348-1ff64b8d35c3",
   "metadata": {},
   "outputs": [],
   "source": [
    "race_and_age_gdf = gpd.read_file(race_and_age_data_file_path)"
   ]
  },
  {
   "cell_type": "code",
   "execution_count": 6,
   "id": "c2b3dfb1-6bde-4474-947a-977fd6fc3f92",
   "metadata": {},
   "outputs": [
    {
     "name": "stdout",
     "output_type": "stream",
     "text": [
      "Index(['Tract Name', 'White_Total', 'Black_Total', 'Color_Total',\n",
      "       '18_Under_Total', '65_Over_Total', 'geometry'],\n",
      "      dtype='object')\n",
      "Index(['Report Number', 'Offense Date', 'Latitude', 'Longitude', 'Beat',\n",
      "       'Precinct', 'Sector', 'Neighborhood', 'Reporting Area',\n",
      "       'Offense Category', 'geometry', 'centroid', 'Temperature', 'Wind Speed',\n",
      "       'Precipitation', 'Visibility', 'Tract Name', 'Tract Population',\n",
      "       'Tract Population Below Poverty', 'Id'],\n",
      "      dtype='object')\n"
     ]
    }
   ],
   "source": [
    "print(race_and_age_gdf.columns)\n",
    "print(crime_gdf.columns)"
   ]
  },
  {
   "cell_type": "code",
   "execution_count": 7,
   "id": "dc735bb4-1d4d-485d-8a8f-72addc10cae7",
   "metadata": {},
   "outputs": [
    {
     "name": "stdout",
     "output_type": "stream",
     "text": [
      "Index(['Report Number', 'Offense Date', 'Latitude', 'Longitude', 'Beat',\n",
      "       'Precinct', 'Sector', 'Neighborhood', 'Reporting Area',\n",
      "       'Offense Category', 'geometry', 'centroid', 'Temperature', 'Wind Speed',\n",
      "       'Precipitation', 'Visibility', 'Tract Name', 'Tract Population',\n",
      "       'Tract Population Below Poverty', 'White_Total', 'Black_Total',\n",
      "       'Color_Total', '18_Under_Total', '65_Over_Total'],\n",
      "      dtype='object')\n"
     ]
    }
   ],
   "source": [
    "crime_gdf = gpd.sjoin(crime_gdf, race_and_age_gdf, how=\"left\", predicate=\"within\") \\\n",
    "                .drop(columns=['index_right', 'Tract Name_right']) \\\n",
    "                .rename(columns={'Tract Name_left': 'Tract Name'}) \\\n",
    "                .groupby(\"Id\") \\\n",
    "                .first()\n",
    "print(crime_gdf.columns)"
   ]
  },
  {
   "cell_type": "code",
   "execution_count": 8,
   "id": "8c1f6f70-f38e-40e3-b4c7-2279077a5d06",
   "metadata": {},
   "outputs": [],
   "source": [
    "crime_gdf.to_csv('data/preprocessed/preprocessed-4.csv', index=False)"
   ]
  }
 ],
 "metadata": {
  "kernelspec": {
   "display_name": "Python 3 (ipykernel)",
   "language": "python",
   "name": "python3"
  },
  "language_info": {
   "codemirror_mode": {
    "name": "ipython",
    "version": 3
   },
   "file_extension": ".py",
   "mimetype": "text/x-python",
   "name": "python",
   "nbconvert_exporter": "python",
   "pygments_lexer": "ipython3",
   "version": "3.13.5"
  }
 },
 "nbformat": 4,
 "nbformat_minor": 5
}
