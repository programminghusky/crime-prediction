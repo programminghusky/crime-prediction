{
 "cells": [
  {
   "cell_type": "code",
   "execution_count": 23,
   "id": "1a03c129-5b86-4210-a120-152f28870a24",
   "metadata": {},
   "outputs": [],
   "source": [
    "import numpy as np\n",
    "import pandas as pd\n",
    "import geopandas as gpd\n",
    "from shapely import wkt\n",
    "import matplotlib as plt\n",
    "import requests\n",
    "from urllib.parse import quote\n",
    "import json\n",
    "import pyproj\n",
    "import os\n",
    "os.chdir(\"D:/Projects/crime-prediction\")\n",
    "\n",
    "import common.census_tract as tract\n",
    "\n",
    "pyproj.datadir.set_data_dir(\"D:/ProgramData/anaconda3/envs/crime-prediction/Library/share/proj\")"
   ]
  },
  {
   "cell_type": "code",
   "execution_count": 24,
   "id": "c12cc170-15d2-4d8a-b525-bcf37dedfd0a",
   "metadata": {},
   "outputs": [],
   "source": [
    "race_and_age_path = 'data/race_and_age_data.csv'\n",
    "census_tracts_path='data/preprocessed/census_tracts_data.geojson'"
   ]
  },
  {
   "cell_type": "code",
   "execution_count": 25,
   "id": "ea7d8041-c600-4e96-996b-12e76701fc6c",
   "metadata": {},
   "outputs": [],
   "source": [
    "def parse_census_tracts_data():\n",
    "    gdf = gpd.read_file(census_tracts_path)\n",
    "    return gdf"
   ]
  },
  {
   "cell_type": "code",
   "execution_count": 26,
   "id": "c5511f2c-8b23-412a-ba76-71128aa95b6f",
   "metadata": {},
   "outputs": [],
   "source": [
    "tracts_gdf = parse_census_tracts_data()"
   ]
  },
  {
   "cell_type": "code",
   "execution_count": 27,
   "id": "5724425a-f3a6-4dd5-9608-81752a731535",
   "metadata": {},
   "outputs": [],
   "source": [
    "def parse_race_age_data():\n",
    "    # Read poverty level data from CSV file, selecting only needed columns\n",
    "    df = pd.read_csv(\n",
    "         race_and_age_path,\n",
    "         usecols= [\n",
    "             'NAME',\n",
    "             'White Total', \n",
    "             'Black or African American Total',\n",
    "             'Person of Color Total',\n",
    "             'Total Under 18',\n",
    "             'Total 65 and Over'\n",
    "         ],\n",
    "         dtype={\n",
    "             'Tract Name': 'category'  # Set Tract Name as categorical data type for efficiency\n",
    "         }\n",
    "        )\n",
    "\n",
    "    # Rename columns to more concise names\n",
    "    df = df.rename(columns={\n",
    "        'NAME': 'Tract Name',\n",
    "        'White Total': 'White_Total', \n",
    "        'Black or African American Total': 'Black_Total',\n",
    "        'Person of Color Total': 'Color_Total',\n",
    "        'Total Under 18': '18_Under_Total',\n",
    "        'Total 65 and Over': '65_Over_Total'\n",
    "    })\n",
    "\n",
    "    \n",
    "    # Format tract names using helper function\n",
    "    df[\"Tract Name\"] = df.apply(lambda row:tract.formatTractName(row[\"Tract Name\"]) , axis=1)\n",
    "    \n",
    "    # Create tract group names using helper function\n",
    "    df[\"Tract Group Name\"] = df.apply(lambda row: tract.formatTractGroupName(row[\"Tract Name\"]) , axis=1)\n",
    "\n",
    "    # Aggregate data at the tract level (mean values)\n",
    "    df_1 = df.groupby(\"Tract Name\")[[\n",
    "         'White_Total', \n",
    "         'Black_Total',\n",
    "         'Color_Total',\n",
    "         '18_Under_Total',\n",
    "         '65_Over_Total'\n",
    "    ]].agg('mean').reset_index()\n",
    "    \n",
    "    # Aggregate data at the tract group level (mean values)\n",
    "    df_2 = df.groupby(\"Tract Group Name\")[[\n",
    "         'White_Total', \n",
    "         'Black_Total',\n",
    "         'Color_Total',\n",
    "         '18_Under_Total',\n",
    "         '65_Over_Total'\n",
    "    ]].agg('mean') \\\n",
    "        .reset_index() \\\n",
    "        .rename(columns={'Tract Group Name': 'Tract Name'})\n",
    "    \n",
    "    # Combine both aggregations and calculate mean values if there are duplicates\n",
    "    df = pd.concat([df_1, df_2]).groupby(\"Tract Name\")[[\n",
    "         'White_Total', \n",
    "         'Black_Total',\n",
    "         'Color_Total',\n",
    "         '18_Under_Total',\n",
    "         '65_Over_Total'\n",
    "    ]].agg('mean').reset_index()\n",
    "    \n",
    "    # Filter to only include tracts that exist in the tracts_gdf dataset\n",
    "    df = df[df['Tract Name'].isin(set(tracts_gdf[\"Tract Name\"]))]\n",
    "    \n",
    "    # Merge with geographic data from tracts_gdf\n",
    "    df = pd.merge(df, tracts_gdf, on='Tract Name', how='inner')\n",
    "    \n",
    "    # Convert to GeoDataFrame with appropriate coordinate reference system\n",
    "    df = gpd.GeoDataFrame(df, geometry=df[\"geometry\"], crs=\"EPSG:4326\")\n",
    "    \n",
    "    return df"
   ]
  },
  {
   "cell_type": "code",
   "execution_count": 28,
   "id": "2f7d9157-6b25-4f94-b7e7-32941a0394ab",
   "metadata": {},
   "outputs": [],
   "source": [
    "race_and_age_gdf = parse_race_age_data()"
   ]
  },
  {
   "cell_type": "code",
   "execution_count": 29,
   "id": "8bf4c5fc-900a-42eb-a26e-1c0b5f4a9bfb",
   "metadata": {},
   "outputs": [
    {
     "data": {
      "image/png": "[encoded data removed]",
      "text/plain": [
       "<Figure size 640x480 with 1 Axes>"
      ]
     },
     "metadata": {},
     "output_type": "display_data"
    }
   ],
   "source": [
    "race_and_age_gdf.plot()\n",
    "race_and_age_gdf.to_file('data/preprocessed/poverty_data.geojson', driver=\"GeoJSON\")"
   ]
  },
  {
   "cell_type": "code",
   "execution_count": null,
   "id": "c3850a07-9025-4127-b5d9-e44029e7424d",
   "metadata": {},
   "outputs": [],
   "source": []
  }
 ],
 "metadata": {
  "kernelspec": {
   "display_name": "Python 3 (ipykernel)",
   "language": "python",
   "name": "python3"
  },
  "language_info": {
   "codemirror_mode": {
    "name": "ipython",
    "version": 3
   },
   "file_extension": ".py",
   "mimetype": "text/x-python",
   "name": "python",
   "nbconvert_exporter": "python",
   "pygments_lexer": "ipython3",
   "version": "3.13.5"
  }
 },
 "nbformat": 4,
 "nbformat_minor": 5
}
