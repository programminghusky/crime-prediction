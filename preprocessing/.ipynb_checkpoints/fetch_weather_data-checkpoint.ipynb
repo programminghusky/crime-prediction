{
 "cells": [
  {
   "cell_type": "code",
   "execution_count": 4,
   "id": "d706ecba-3262-41dd-b0f2-25cbe85b4247",
   "metadata": {},
   "outputs": [],
   "source": [
    "import numpy as np\n",
    "import pandas as pd\n",
    "import geopandas as gpd\n",
    "from shapely import wkt\n",
    "import matplotlib as plt\n",
    "import requests\n",
    "from urllib.parse import quote\n",
    "import json\n",
    "import pyproj\n",
    "import os\n",
    "os.chdir(\"D:/Projects/crime-prediction\")\n",
    "pyproj.datadir.set_data_dir(\"D:/ProgramData/anaconda3/envs/crime-prediction/Library/share/proj\")"
   ]
  },
  {
   "cell_type": "code",
   "execution_count": 5,
   "id": "1fbd7230-2501-47ad-bd39-0fa77541c670",
   "metadata": {},
   "outputs": [],
   "source": [
    "pre_processed_file_path = 'data/preprocessed/preprocessed-1.csv'\n",
    "city_limits_path = 'data/preprocessed/city-limits.csv'\n",
    "weather_apikey = 'MQK9MND4NLXX6MGYRAWDVZX6E'"
   ]
  },
  {
   "cell_type": "code",
   "execution_count": 6,
   "id": "6f359092-6e61-475b-8e49-7431d9d11f7e",
   "metadata": {},
   "outputs": [],
   "source": [
    "def parse_preprocessed_data_1():\n",
    "    df = pd.read_csv(\n",
    "                         pre_processed_file_path,\n",
    "                         parse_dates=['Offense Date'],                       \n",
    "                         dtype={\n",
    "                             'Precinct': 'category',\n",
    "                             'Offense Category': 'category',\n",
    "                             'Latitude': np.float32,\n",
    "                             'Longitude': np.float32\n",
    "                         }\n",
    "                        )\n",
    "    gdf = gpd.GeoDataFrame(df, geometry= df[\"geometry\"].apply(wkt.loads), crs='EPSG:4326')\n",
    "    return gdf"
   ]
  },
  {
   "cell_type": "code",
   "execution_count": 7,
   "id": "3b397bda-09ac-4073-9e10-52e1c6974d21",
   "metadata": {},
   "outputs": [],
   "source": [
    "def parse_citylimits():\n",
    "    df = pd.read_csv(city_limits_path)\n",
    "    df[\"geometry\"] = df[\"geometry\"].apply(wkt.loads)\n",
    "    df[\"centroid\"] = gpd.GeoSeries.from_wkt(df['centroid'])\n",
    "    gdf = gpd.GeoDataFrame(df, geometry= 'geometry', crs='EPSG:4326')    \n",
    "    return gdf"
   ]
  },
  {
   "cell_type": "code",
   "execution_count": 32,
   "id": "7007d620-08f2-4974-ab72-5f9f0c01b0e8",
   "metadata": {},
   "outputs": [],
   "source": [
    "def get_weather_visualcrossing(lat, long, date_time, api_key):\n",
    "    date_str = date.replace(tzinfo=None).isoformat()\n",
    "    location = quote(f\"{long},{lat}\")\n",
    "    base_url = \"https://weather.visualcrossing.com/VisualCrossingWebServices/rest/services/timeline\"\n",
    "    url =f\"{base_url}/{location}/{date_str}?unitGroup=metric&include=hours&key={api_key}&contentType=json&timezone=Z\"\n",
    "    response = requests.get(url)\n",
    "    return response.json()"
   ]
  },
  {
   "cell_type": "code",
   "execution_count": 12,
   "id": "004c8bee-50bd-48b1-b0cd-fb91622c7d01",
   "metadata": {},
   "outputs": [],
   "source": [
    "gdf = parse_preprocessed_data_1()"
   ]
  },
  {
   "cell_type": "code",
   "execution_count": 13,
   "id": "663dcb81-b17b-43d5-8ec8-9910e518d40f",
   "metadata": {},
   "outputs": [],
   "source": [
    "city_limits_gdf = parse_citylimits()"
   ]
  },
  {
   "cell_type": "code",
   "execution_count": 15,
   "id": "6a8a2e96-9e27-42cf-9432-97dff91ddc7e",
   "metadata": {},
   "outputs": [
    {
     "name": "stdout",
     "output_type": "stream",
     "text": [
      "6401\n"
     ]
    }
   ],
   "source": [
    "gdf['Offense Date Rounded Day'] = gdf['Offense Date'].dt.round('D')\n",
    "weather_dates = set(gdf['Offense Date Rounded Day'])\n",
    "print(len(weather_dates))"
   ]
  },
  {
   "cell_type": "code",
   "execution_count": 18,
   "id": "b77d852e-6aa2-4414-8ad5-9e989e736af8",
   "metadata": {},
   "outputs": [
    {
     "name": "stdout",
     "output_type": "stream",
     "text": [
      "0    POINT (-122.33667 47.62049)\n",
      "Name: centroid, dtype: geometry\n"
     ]
    }
   ],
   "source": [
    "city_center =city_limits_gdf[\"centroid\"]\n",
    "print(city_center)"
   ]
  },
  {
   "cell_type": "code",
   "execution_count": 33,
   "id": "94dd80cb-4f95-4522-9938-a9ec19b99980",
   "metadata": {},
   "outputs": [
    {
     "data": {
      "application/vnd.jupyter.widget-view+json": {
       "model_id": "e17d21c625374da9a897599c1f320332",
       "version_major": 2,
       "version_minor": 0
      },
      "text/plain": [
       "IntProgress(value=0, max=6401)"
      ]
     },
     "metadata": {},
     "output_type": "display_data"
    }
   ],
   "source": [
    "from ipywidgets import IntProgress\n",
    "from IPython.display import display\n",
    "\n",
    "f = IntProgress(min=0, max=len(weather_dates)) # instantiate the bar\n",
    "display(f)\n",
    "\n",
    "weather_data = {}\n",
    "for date in weather_dates:    \n",
    "    weather_for_date = get_weather_visualcrossing(city_center[0].x, city_center[0].y, date, weather_apikey)\n",
    "    weather_data[date_str] = list(map(lambda d: {\"feelslike\": d[\"feelslike\"], \"windspeed\": d[\"windspeed\"], \"precip\":d[\"precip\"], \"visibility\":d[\"visibility\"]}, weather_for_date['days'][0]['hours']))\n",
    "    f.value += 1 \n",
    "                                  \n",
    "    "
   ]
  },
  {
   "cell_type": "code",
   "execution_count": 34,
   "id": "95199918-fe28-436b-a1bc-31060e42c6bb",
   "metadata": {},
   "outputs": [],
   "source": [
    "filename = \"data/preprocessed/weather_data.json\"\n",
    "with open(filename, 'w') as f:\n",
    "    json.dump(weather_data, f, indent=4)\n"
   ]
  },
  {
   "cell_type": "code",
   "execution_count": null,
   "id": "71fcd341-14d5-4f13-8c1b-30ddcfaf6ca9",
   "metadata": {},
   "outputs": [],
   "source": []
  }
 ],
 "metadata": {
  "kernelspec": {
   "display_name": "crime-prediction",
   "language": "python",
   "name": "crime-prediction"
  },
  "language_info": {
   "codemirror_mode": {
    "name": "ipython",
    "version": 3
   },
   "file_extension": ".py",
   "mimetype": "text/x-python",
   "name": "python",
   "nbconvert_exporter": "python",
   "pygments_lexer": "ipython3",
   "version": "3.13.5"
  }
 },
 "nbformat": 4,
 "nbformat_minor": 5
}
