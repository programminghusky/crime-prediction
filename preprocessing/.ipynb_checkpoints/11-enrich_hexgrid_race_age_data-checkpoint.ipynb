{
 "cells": [
  {
   "cell_type": "code",
   "execution_count": 275,
   "id": "99aa9188-e571-411e-868c-26d70a3862fc",
   "metadata": {},
   "outputs": [],
   "source": [
    "import numpy as np\n",
    "import pandas as pd\n",
    "import geopandas as gpd\n",
    "from shapely import wkt\n",
    "import json\n",
    "import datetime\n",
    "import pyproj\n",
    "import os\n",
    "os.chdir(\"D:/Projects/crime-prediction\")"
   ]
  },
  {
   "cell_type": "code",
   "execution_count": 276,
   "id": "fa4bf604-c747-4a4a-8710-f9ca7528abc2",
   "metadata": {},
   "outputs": [],
   "source": [
    "household_income_data_file_path = 'data/preprocessed/household_income_data.geojson'\n",
    "hex_grid_path = 'data/preprocessed/hex_grid.geojson'\n",
    "hex_grid_tract_intersections_path = 'data/preprocessed/hex_grid_census_tract_intersections.csv'"
   ]
  },
  {
   "cell_type": "code",
   "execution_count": 277,
   "id": "b9bab440-0e2e-4ea9-9afd-f0ed441efc19",
   "metadata": {},
   "outputs": [],
   "source": [
    "household_income_gdf = gpd.read_file(household_income_data_file_path)"
   ]
  },
  {
   "cell_type": "code",
   "execution_count": 278,
   "id": "28773c54-d3bd-49ed-800d-b6d670e53f17",
   "metadata": {},
   "outputs": [
    {
     "name": "stdout",
     "output_type": "stream",
     "text": [
      "Index(['Tract Name', 'HouseHold Income', 'geometry'], dtype='object')\n"
     ]
    }
   ],
   "source": [
    "print(household_income_gdf.columns)"
   ]
  },
  {
   "cell_type": "code",
   "execution_count": 279,
   "id": "2abc4259-a179-4076-9256-e5e96de9e469",
   "metadata": {},
   "outputs": [],
   "source": [
    "def parse_hex_grid():\n",
    "    gdf = gpd.read_file(hex_grid_path)\n",
    "    return gdf"
   ]
  },
  {
   "cell_type": "code",
   "execution_count": 280,
   "id": "ce266d4c-8cdc-4be1-8d57-a02be2146c8b",
   "metadata": {},
   "outputs": [],
   "source": [
    "hex_grid_gdf = parse_hex_grid()"
   ]
  },
  {
   "cell_type": "code",
   "execution_count": 281,
   "id": "c3ad2f49-5b01-47b9-8093-276378495072",
   "metadata": {},
   "outputs": [],
   "source": [
    "def parse_grid_tract_data():\n",
    "    df = pd.read_csv(hex_grid_tract_path)\n",
    "    return df"
   ]
  },
  {
   "cell_type": "code",
   "execution_count": 282,
   "id": "ae7c09bc-7c0b-4751-a8ac-9d0c5a697554",
   "metadata": {},
   "outputs": [],
   "source": [
    "hex_grid_tract_intersections_df = parse_grid_tract_data()"
   ]
  },
  {
   "cell_type": "code",
   "execution_count": 283,
   "id": "4330600e-171b-4957-8531-fcc0e91a43db",
   "metadata": {},
   "outputs": [
    {
     "name": "stdout",
     "output_type": "stream",
     "text": [
      "Index(['Grid Id', 'Tract Name', 'Area Fraction'], dtype='object')\n"
     ]
    }
   ],
   "source": [
    "print(hex_grid_tract_intersections_df.columns)"
   ]
  },
  {
   "cell_type": "code",
   "execution_count": 284,
   "id": "b99768e8-dda9-4b1a-bfe1-f7984fc1909d",
   "metadata": {},
   "outputs": [
    {
     "name": "stdout",
     "output_type": "stream",
     "text": [
      "Index(['Grid Id', 'Grid Area', 'Streetlight Count', 'geometry'], dtype='object')\n"
     ]
    }
   ],
   "source": [
    "print(hex_grid_gdf.columns)"
   ]
  },
  {
   "cell_type": "code",
   "execution_count": 285,
   "id": "3ded8d82-e9ea-42d3-a07c-3c4a478cfa64",
   "metadata": {},
   "outputs": [],
   "source": [
    "hex_grid_tract_intersections_joined_df = pd.merge(hex_grid_gdf, hex_grid_tract_intersections_df, on='Grid Id', how='inner')"
   ]
  },
  {
   "cell_type": "code",
   "execution_count": 286,
   "id": "e4f73c09-8713-4ead-8afb-31eb4e390fbc",
   "metadata": {},
   "outputs": [
    {
     "name": "stdout",
     "output_type": "stream",
     "text": [
      "Index(['Grid Id', 'Grid Area', 'Streetlight Count', 'geometry', 'Tract Name',\n",
      "       'Area Fraction'],\n",
      "      dtype='object')\n"
     ]
    }
   ],
   "source": [
    "print(hex_grid_tract_intersections_joined_df.columns)"
   ]
  },
  {
   "cell_type": "code",
   "execution_count": 287,
   "id": "c11459bc-1733-42c3-9f2a-b069182097ba",
   "metadata": {},
   "outputs": [
    {
     "name": "stdout",
     "output_type": "stream",
     "text": [
      "163205.8586326773\n"
     ]
    }
   ],
   "source": [
    "def computeTractHouseHoldIncome(row):\n",
    "    x = row['Area Fraction'] * household_income_gdf[household_income_gdf['Tract Name'] == row['Tract Name']]['HouseHold Income']\n",
    "    return x[x.index[0]]    \n",
    "        \n",
    "def computeHouseHoldIncome(row):  \n",
    "    household_incomes = pd.DataFrame()\n",
    "    household_incomes['Income'] = hex_grid_tract_intersections_joined_df[hex_grid_tract_intersections_joined_df['Grid Id'] == row['Grid Id']].apply(computeTractHouseHoldIncome, axis=1)\n",
    "    if row['Grid Id'] == 11:\n",
    "        print(household_incomes['Income'].sum())\n",
    "    return household_incomes['Income'].sum()\n",
    "    \n",
    "hex_grid_gdf['HouseHold Income'] = hex_grid_gdf.apply(computeHouseHoldIncome, axis=1)"
   ]
  },
  {
   "cell_type": "code",
   "execution_count": 288,
   "id": "9a29ee58-d16b-4cde-b34b-d9e6014af111",
   "metadata": {},
   "outputs": [
    {
     "name": "stdout",
     "output_type": "stream",
     "text": [
      "    Grid Id     Grid Area  Streetlight Count  \\\n",
      "11       11  78400.737054                  0   \n",
      "\n",
      "                                             geometry  HouseHold Income  \n",
      "11  POLYGON ((-122.41966 47.65473, -122.41801 47.6...     163205.858633  \n"
     ]
    }
   ],
   "source": [
    "print(hex_grid_gdf[hex_grid_gdf['Grid Id'] ==11])"
   ]
  },
  {
   "cell_type": "code",
   "execution_count": 289,
   "id": "a8f26f72-32a8-4058-9426-77824f66413e",
   "metadata": {},
   "outputs": [],
   "source": [
    "hex_grid_gdf.to_file('data/preprocessed/hex_grid.geojson', driver=\"GeoJSON\")"
   ]
  },
  {
   "cell_type": "code",
   "execution_count": null,
   "id": "1cf8ee3d-3216-45a2-a3e8-0fdd5a8b84ed",
   "metadata": {},
   "outputs": [],
   "source": []
  }
 ],
 "metadata": {
  "kernelspec": {
   "display_name": "Python 3 (ipykernel)",
   "language": "python",
   "name": "python3"
  },
  "language_info": {
   "codemirror_mode": {
    "name": "ipython",
    "version": 3
   },
   "file_extension": ".py",
   "mimetype": "text/x-python",
   "name": "python",
   "nbconvert_exporter": "python",
   "pygments_lexer": "ipython3",
   "version": "3.13.5"
  }
 },
 "nbformat": 4,
 "nbformat_minor": 5
}
