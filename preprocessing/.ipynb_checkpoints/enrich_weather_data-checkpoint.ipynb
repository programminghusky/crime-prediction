{
 "cells": [
  {
   "cell_type": "code",
   "execution_count": 10,
   "id": "d706ecba-3262-41dd-b0f2-25cbe85b4247",
   "metadata": {},
   "outputs": [],
   "source": [
    "import numpy as np\n",
    "from sklearn.cluster import DBSCAN\n",
    "import pandas as pd\n",
    "import geopandas as gpd\n",
    "from shapely import wkt\n",
    "import matplotlib as plt\n",
    "import pyproj\n",
    "import os\n",
    "os.chdir(\"D:/Projects/crime-prediction\")\n",
    "pyproj.datadir.set_data_dir(\"D:/ProgramData/anaconda3/envs/crime-prediction/Library/share/proj\")"
   ]
  },
  {
   "cell_type": "code",
   "execution_count": 21,
   "id": "1fbd7230-2501-47ad-bd39-0fa77541c670",
   "metadata": {},
   "outputs": [],
   "source": [
    "pre_processed_file_path = 'data/preprocessed/preprocessed-1.csv'\n",
    "city_limits_path = 'data/preprocessed/city-limits.csv'\n",
    "weather_apikey = 'MQK9MND4NLXX6MGYRAWDVZX6E'"
   ]
  },
  {
   "cell_type": "code",
   "execution_count": 13,
   "id": "6f359092-6e61-475b-8e49-7431d9d11f7e",
   "metadata": {},
   "outputs": [],
   "source": [
    "def parse_preprocessed_data_1():\n",
    "    df = pd.read_csv(\n",
    "                         pre_processed_file_path,\n",
    "                         parse_dates=['Offense Date'],                       \n",
    "                         dtype={\n",
    "                             'Precinct': 'category',\n",
    "                             'Offense Category': 'category',\n",
    "                             'Latitude': np.float32,\n",
    "                             'Longitude': np.float32\n",
    "                         }\n",
    "                        )\n",
    "    gdf = gpd.GeoDataFrame(df, geometry= df[\"geometry\"].apply(wkt.loads), crs='EPSG:4326')\n",
    "    return gdf"
   ]
  },
  {
   "cell_type": "code",
   "execution_count": 23,
   "id": "3b397bda-09ac-4073-9e10-52e1c6974d21",
   "metadata": {},
   "outputs": [],
   "source": [
    "def parse_citylimits():\n",
    "    df = pd.read_csv(city_limits_path)\n",
    "    df[\"geometry\"] = df[\"geometry\"].apply(wkt.loads)\n",
    "    df[\"centroid\"] = df[\"centroid\"].apply(wkt.loads)\n",
    "    gdf = gpd.GeoDataFrame(df, geometry= 'geometry', crs='EPSG:4326')    \n",
    "    return gdf"
   ]
  },
  {
   "cell_type": "code",
   "execution_count": null,
   "id": "7007d620-08f2-4974-ab72-5f9f0c01b0e8",
   "metadata": {},
   "outputs": [],
   "source": [
    "def get_weather_visualcrossing(location, date_time, api_key):\n",
    "    base_url =\"https://{location}/{date_time}?unitGroup=metric&include=hours&key={api_key}&contentType=json\"\n",
    "    response = requests.get(url)\n",
    "    return response.json()"
   ]
  },
  {
   "cell_type": "code",
   "execution_count": 14,
   "id": "004c8bee-50bd-48b1-b0cd-fb91622c7d01",
   "metadata": {},
   "outputs": [],
   "source": [
    "gdf = parse_preprocessed_data_1()"
   ]
  },
  {
   "cell_type": "code",
   "execution_count": 26,
   "id": "663dcb81-b17b-43d5-8ec8-9910e518d40f",
   "metadata": {},
   "outputs": [
    {
     "name": "stdout",
     "output_type": "stream",
     "text": [
      "0    POINT (-122.33667448624294 47.62048706590659)\n",
      "Name: centroid, dtype: object\n"
     ]
    }
   ],
   "source": [
    "city_limits_gdf = parse_citylimits()"
   ]
  },
  {
   "cell_type": "code",
   "execution_count": 18,
   "id": "6a8a2e96-9e27-42cf-9432-97dff91ddc7e",
   "metadata": {},
   "outputs": [],
   "source": [
    "gdf['Offense Date Rounded Hour'] = gdf['Offense Date'].dt.round('h')\n",
    "unique_combinations = gdf[['Latitude', 'Longitude','Offense Date Rounded Hour']].drop_duplicates()\n",
    "grouped_df = unique_combinations.groupby('Offense Date Rounded Hour').agg('count')"
   ]
  },
  {
   "cell_type": "code",
   "execution_count": 16,
   "id": "fd1ed2dc-1048-4c67-8359-e5a5b41214ca",
   "metadata": {},
   "outputs": [],
   "source": [
    "cf.to_csv('data/preprocessed/preprocessed-2.csv', index=False)"
   ]
  },
  {
   "cell_type": "code",
   "execution_count": 17,
   "id": "28bf783e-e1d1-4aad-bf5f-f4f4692c5aaf",
   "metadata": {},
   "outputs": [
    {
     "name": "stdout",
     "output_type": "stream",
     "text": [
      "                           Latitude\n",
      "Offense Date Rounded Hour          \n",
      "2020-03-08 00:00:00             295\n",
      "2020-05-01 00:00:00             247\n",
      "2020-03-15 00:00:00             220\n",
      "2020-04-01 00:00:00             162\n",
      "2020-05-10 00:00:00             142\n",
      "...                             ...\n",
      "2015-11-10 05:00:00               2\n",
      "2023-02-05 19:00:00               2\n",
      "2023-02-05 23:00:00               2\n",
      "2023-02-06 02:00:00               2\n",
      "2023-02-05 06:00:00               2\n",
      "\n",
      "[147811 rows x 1 columns]\n"
     ]
    }
   ],
   "source": [
    "group_counts =  grouped_df['Latitude'].size().to_frame().sort_values(by='Latitude', ascending=False)\n",
    "print(group_counts[group_counts['Latitude']>1])"
   ]
  },
  {
   "cell_type": "code",
   "execution_count": null,
   "id": "95199918-fe28-436b-a1bc-31060e42c6bb",
   "metadata": {},
   "outputs": [],
   "source": []
  }
 ],
 "metadata": {
  "kernelspec": {
   "display_name": "crime-prediction",
   "language": "python",
   "name": "crime-prediction"
  },
  "language_info": {
   "codemirror_mode": {
    "name": "ipython",
    "version": 3
   },
   "file_extension": ".py",
   "mimetype": "text/x-python",
   "name": "python",
   "nbconvert_exporter": "python",
   "pygments_lexer": "ipython3",
   "version": "3.13.5"
  }
 },
 "nbformat": 4,
 "nbformat_minor": 5
}
