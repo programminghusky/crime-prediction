{
 "cells": [
  {
   "cell_type": "code",
   "execution_count": 234,
   "id": "63921b50-f59b-4463-8091-d7a3cc73c6b2",
   "metadata": {},
   "outputs": [],
   "source": [
    "from osgeo import gdal\n",
    "import geopandas as gpd\n",
    "import gemgis as gg\n",
    "import numpy as np\n",
    "import pandas as pd\n",
    "import geopandas as gpd\n",
    "from shapely import wkt\n",
    "from shapely.geometry import Point, Polygon\n",
    "import matplotlib.pyplot as plt\n",
    "import json\n",
    "import datetime\n",
    "import os\n",
    "os.chdir(\"D:/Projects/crime-prediction\")"
   ]
  },
  {
   "cell_type": "code",
   "execution_count": 235,
   "id": "21609aa8-2079-427b-bc2c-dc913b2c7eca",
   "metadata": {},
   "outputs": [],
   "source": [
    "census_tracts_path='data/preprocessed/census_tracts_data.geojson'\n",
    "hex_grid_path = 'data/preprocessed/hex_grid.geojson'"
   ]
  },
  {
   "cell_type": "code",
   "execution_count": 236,
   "id": "87532469-1db5-4b90-afe8-fe0b4ed9f891",
   "metadata": {},
   "outputs": [],
   "source": [
    "def parse_hex_grid():\n",
    "    gdf = gpd.read_file(hex_grid_path)\n",
    "    estimated_utm_crs = gdf.estimate_utm_crs()\n",
    "    gdf_projected = gdf.to_crs(estimated_utm_crs)\n",
    "    return gdf_projected"
   ]
  },
  {
   "cell_type": "code",
   "execution_count": 237,
   "id": "1751d43b-4a4c-4f44-86cb-b956c2c325b2",
   "metadata": {},
   "outputs": [],
   "source": [
    "hex_grid_gdf = parse_hex_grid()"
   ]
  },
  {
   "cell_type": "code",
   "execution_count": 238,
   "id": "39efc2d8-3331-459c-ba4e-096d79f2801a",
   "metadata": {},
   "outputs": [],
   "source": [
    "def parse_census_tracts():\n",
    "    gdf = gpd.read_file(census_tracts_path)\n",
    "    estimated_utm_crs = gdf.estimate_utm_crs()\n",
    "    gdf_projected = gdf.to_crs(estimated_utm_crs)\n",
    "    return gdf_projected"
   ]
  },
  {
   "cell_type": "code",
   "execution_count": 239,
   "id": "78d94f78-3540-4f10-b4cd-3c5c8424dc86",
   "metadata": {},
   "outputs": [],
   "source": [
    "census_tracts_gdf = parse_census_tracts()"
   ]
  },
  {
   "cell_type": "code",
   "execution_count": 240,
   "id": "3ae0b3d8-036c-4542-85c5-6c56d2ede797",
   "metadata": {},
   "outputs": [],
   "source": [
    "hex_grid_census_tract_intersection_gdf = gpd.overlay(hex_grid_gdf, census_tracts_gdf, how='intersection')"
   ]
  },
  {
   "cell_type": "code",
   "execution_count": 241,
   "id": "26843e8b-aae4-4fc8-aebf-338b953114ac",
   "metadata": {},
   "outputs": [
    {
     "name": "stdout",
     "output_type": "stream",
     "text": [
      "3893\n"
     ]
    }
   ],
   "source": [
    "print(len(hex_grid_census_tract_intersection_gdf))"
   ]
  },
  {
   "cell_type": "code",
   "execution_count": 242,
   "id": "cf63d819-b8eb-4d0c-bc80-c9634d19bb58",
   "metadata": {},
   "outputs": [
    {
     "name": "stdout",
     "output_type": "stream",
     "text": [
      "Index(['Grid Id', 'Tract Name', 'Is Group', 'geometry'], dtype='object')\n"
     ]
    }
   ],
   "source": [
    "print(hex_grid_census_tract_intersection_gdf.columns)"
   ]
  },
  {
   "cell_type": "code",
   "execution_count": 243,
   "id": "0d9c71f0-7ca1-481b-98d2-7012fed43b88",
   "metadata": {},
   "outputs": [],
   "source": [
    "hex_grid_tract_df = pd.DataFrame(columns=['Grid Id', 'Tract Name', 'Area Fraction'])\n",
    "for name, group_df in hex_grid_census_tract_intersection_gdf.groupby('Grid Id'):\n",
    "    for index, row in group_df.iterrows():\n",
    "        if row['Is Group'] == False:\n",
    "            area_fract = row.geometry.area / (census_tracts_gdf.loc[census_tracts_gdf['Tract Name'] == row['Tract Name']].area.iloc[0])\n",
    "            row_to_append = pd.DataFrame([{'Grid Id': name, 'Tract Name': row['Tract Name'], 'Area Fraction': area_fract}])\n",
    "            hex_grid_tract_df = pd.concat([grid_tract_df,row_to_append])"
   ]
  },
  {
   "cell_type": "code",
   "execution_count": 244,
   "id": "82f76bcb-098c-49e6-a6d3-d457adc8ad39",
   "metadata": {},
   "outputs": [],
   "source": [
    "hex_grid_tract_df.to_csv('data/preprocessed/hex_grid_census_tract_intersections.csv', index=False)"
   ]
  },
  {
   "cell_type": "code",
   "execution_count": 245,
   "id": "da8138eb-9fc5-4d60-a82e-ad2bd58fc67e",
   "metadata": {},
   "outputs": [
    {
     "name": "stdout",
     "output_type": "stream",
     "text": [
      "Tract Name\n",
      "Census Tract 1.01     1.00000\n",
      "Census Tract 1.02     1.00000\n",
      "Census Tract 10       1.00000\n",
      "Census Tract 100.01   1.00000\n",
      "Census Tract 100.02   1.00000\n",
      "Census Tract 101.01   1.00000\n",
      "Census Tract 101.02   1.00000\n",
      "Census Tract 102      1.00000\n",
      "Census Tract 103.01   1.00000\n",
      "Census Tract 103.02   1.00000\n",
      "Census Tract 104.01   1.00000\n",
      "Census Tract 104.02   1.00000\n",
      "Census Tract 105.01   1.00000\n",
      "Census Tract 105.02   1.00000\n",
      "Census Tract 106.01   1.00000\n",
      "Census Tract 106.02   1.00000\n",
      "Census Tract 107.01   1.00000\n",
      "Census Tract 107.02   1.00000\n",
      "Census Tract 108      1.00000\n",
      "Census Tract 109      0.96984\n",
      "Census Tract 11       1.00000\n",
      "Census Tract 110.01   1.00000\n",
      "Census Tract 110.02   1.00000\n",
      "Census Tract 111.01   1.00000\n",
      "Census Tract 111.02   1.00000\n",
      "Census Tract 112      1.00000\n",
      "Census Tract 113      1.00000\n",
      "Census Tract 114.01   1.00000\n",
      "Census Tract 114.02   1.00000\n",
      "Census Tract 115      1.00000\n",
      "Census Tract 116.01   1.00000\n",
      "Census Tract 116.02   1.00000\n",
      "Census Tract 117      1.00000\n",
      "Census Tract 118.01   1.00000\n",
      "Census Tract 118.02   1.00000\n",
      "Census Tract 119.01   1.00000\n",
      "Census Tract 119.02   1.00000\n",
      "Census Tract 12.01    1.00000\n",
      "Census Tract 12.02    1.00000\n",
      "Census Tract 120      1.00000\n",
      "Census Tract 121      1.00000\n",
      "Census Tract 13       1.00000\n",
      "Census Tract 14       1.00000\n",
      "Census Tract 15       1.00000\n",
      "Census Tract 16       1.00000\n",
      "Census Tract 17.01    1.00000\n",
      "Census Tract 17.02    1.00000\n",
      "Census Tract 18       1.00000\n",
      "Census Tract 19       1.00000\n",
      "Census Tract 2.01     1.00000\n",
      "Census Tract 2.02     1.00000\n",
      "Census Tract 20       1.00000\n",
      "Census Tract 209      0.06146\n",
      "Census Tract 21       1.00000\n",
      "Census Tract 210      0.06354\n",
      "Census Tract 211      0.07223\n",
      "Census Tract 213      0.09327\n",
      "Census Tract 22       1.00000\n",
      "Census Tract 24       1.00000\n",
      "Census Tract 25       1.00000\n",
      "Census Tract 253.02   0.00085\n",
      "Census Tract 26       1.00000\n",
      "Census Tract 260.01   0.35693\n",
      "Census Tract 261.01   0.09607\n",
      "Census Tract 261.02   0.23911\n",
      "Census Tract 263      0.31794\n",
      "Census Tract 264      0.13764\n",
      "Census Tract 265      0.54797\n",
      "Census Tract 266      0.64641\n",
      "Census Tract 267      0.17602\n",
      "Census Tract 268.01   0.02267\n",
      "Census Tract 27       1.00000\n",
      "Census Tract 28       1.00000\n",
      "Census Tract 29       1.00000\n",
      "Census Tract 3        1.00000\n",
      "Census Tract 30       1.00000\n",
      "Census Tract 31       1.00000\n",
      "Census Tract 32.01    1.00000\n",
      "Census Tract 32.02    1.00000\n",
      "Census Tract 33.01    1.00000\n",
      "Census Tract 33.02    1.00000\n",
      "Census Tract 34       1.00000\n",
      "Census Tract 35       1.00000\n",
      "Census Tract 36.01    1.00000\n",
      "Census Tract 36.02    1.00000\n",
      "Census Tract 38       1.00000\n",
      "Census Tract 39       1.00000\n",
      "Census Tract 4.02     1.00000\n",
      "Census Tract 4.03     1.00000\n",
      "Census Tract 4.04     1.00000\n",
      "Census Tract 40       1.00000\n",
      "Census Tract 41.01    1.00000\n",
      "Census Tract 41.02    1.00000\n",
      "Census Tract 42.01    1.00000\n",
      "Census Tract 42.02    1.00000\n",
      "Census Tract 43.01    1.00000\n",
      "Census Tract 43.02    1.00000\n",
      "Census Tract 44.01    1.00000\n",
      "Census Tract 44.02    1.00000\n",
      "Census Tract 45       1.00000\n",
      "Census Tract 46       1.00000\n",
      "Census Tract 47.01    1.00000\n",
      "Census Tract 47.02    1.00000\n",
      "Census Tract 47.03    1.00000\n",
      "Census Tract 48       1.00000\n",
      "Census Tract 49.01    1.00000\n",
      "Census Tract 49.02    1.00000\n",
      "Census Tract 5        1.00000\n",
      "Census Tract 50       1.00000\n",
      "Census Tract 51       1.00000\n",
      "Census Tract 52.01    1.00000\n",
      "Census Tract 52.02    1.00000\n",
      "Census Tract 53.03    1.00000\n",
      "Census Tract 53.04    1.00000\n",
      "Census Tract 53.05    1.00000\n",
      "Census Tract 53.06    1.00000\n",
      "Census Tract 53.07    1.00000\n",
      "Census Tract 54.01    1.00000\n",
      "Census Tract 54.02    1.00000\n",
      "Census Tract 56       1.00000\n",
      "Census Tract 57       1.00000\n",
      "Census Tract 58.01    1.00000\n",
      "Census Tract 58.03    1.00000\n",
      "Census Tract 58.04    1.00000\n",
      "Census Tract 59.01    1.00000\n",
      "Census Tract 59.02    1.00000\n",
      "Census Tract 6.01     1.00000\n",
      "Census Tract 6.02     1.00000\n",
      "Census Tract 60       1.00000\n",
      "Census Tract 61       1.00000\n",
      "Census Tract 62       1.00000\n",
      "Census Tract 63       1.00000\n",
      "Census Tract 64       1.00000\n",
      "Census Tract 65       1.00000\n",
      "Census Tract 66       1.00000\n",
      "Census Tract 67.01    1.00000\n",
      "Census Tract 67.02    1.00000\n",
      "Census Tract 67.03    1.00000\n",
      "Census Tract 68       1.00000\n",
      "Census Tract 69       1.00000\n",
      "Census Tract 7        1.00000\n",
      "Census Tract 70.01    1.00000\n",
      "Census Tract 70.02    1.00000\n",
      "Census Tract 71.01    1.00000\n",
      "Census Tract 71.02    1.00000\n",
      "Census Tract 72.01    1.00000\n",
      "Census Tract 72.02    1.00000\n",
      "Census Tract 72.03    1.00000\n",
      "Census Tract 73.01    1.00000\n",
      "Census Tract 73.02    1.00000\n",
      "Census Tract 73.03    1.00000\n",
      "Census Tract 74.03    1.00000\n",
      "Census Tract 74.04    1.00000\n",
      "Census Tract 74.05    1.00000\n",
      "Census Tract 74.06    1.00000\n",
      "Census Tract 75.01    1.00000\n",
      "Census Tract 75.02    1.00000\n",
      "Census Tract 75.03    1.00000\n",
      "Census Tract 76       1.00000\n",
      "Census Tract 77       1.00000\n",
      "Census Tract 78       1.00000\n",
      "Census Tract 79.01    1.00000\n",
      "Census Tract 79.02    1.00000\n",
      "Census Tract 8        1.00000\n",
      "Census Tract 80.02    1.00000\n",
      "Census Tract 80.03    1.00000\n",
      "Census Tract 80.04    1.00000\n",
      "Census Tract 81.01    1.00000\n",
      "Census Tract 81.02    1.00000\n",
      "Census Tract 82       1.00000\n",
      "Census Tract 83       1.00000\n",
      "Census Tract 84.01    1.00000\n",
      "Census Tract 84.02    1.00000\n",
      "Census Tract 85       1.00000\n",
      "Census Tract 86       1.00000\n",
      "Census Tract 87       1.00000\n",
      "Census Tract 88       1.00000\n",
      "Census Tract 89       1.00000\n",
      "Census Tract 9        1.00000\n",
      "Census Tract 90       1.00000\n",
      "Census Tract 91       1.00000\n",
      "Census Tract 92       1.00000\n",
      "Census Tract 93       1.00000\n",
      "Census Tract 94       1.00000\n",
      "Census Tract 95       1.00000\n",
      "Census Tract 96       1.00000\n",
      "Census Tract 97.01    1.00000\n",
      "Census Tract 97.02    1.00000\n",
      "Census Tract 98.01    1.00000\n",
      "Census Tract 98.02    1.00000\n",
      "Census Tract 99       1.00000\n",
      "Name: Area Fraction, dtype: float64\n"
     ]
    }
   ],
   "source": [
    "pd.set_option('display.max_rows', None)\n",
    "print(hex_grid_tract_df.groupby('Tract Name')['Area Fraction'].sum())"
   ]
  },
  {
   "cell_type": "code",
   "execution_count": null,
   "id": "d71afca2-ab56-4934-85a2-9b2481cd6c88",
   "metadata": {},
   "outputs": [],
   "source": []
  }
 ],
 "metadata": {
  "kernelspec": {
   "display_name": "crime-prediction",
   "language": "python",
   "name": "crime-prediction"
  },
  "language_info": {
   "codemirror_mode": {
    "name": "ipython",
    "version": 3
   },
   "file_extension": ".py",
   "mimetype": "text/x-python",
   "name": "python",
   "nbconvert_exporter": "python",
   "pygments_lexer": "ipython3",
   "version": "3.13.5"
  }
 },
 "nbformat": 4,
 "nbformat_minor": 5
}
