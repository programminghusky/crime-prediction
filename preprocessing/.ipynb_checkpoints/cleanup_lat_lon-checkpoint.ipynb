{
 "cells": [
  {
   "cell_type": "code",
   "execution_count": 1,
   "id": "ff04e7c4-0ca3-43bf-88c0-2a423aa42fb3",
   "metadata": {},
   "outputs": [
    {
     "name": "stderr",
     "output_type": "stream",
     "text": [
      "D:\\ProgramData\\anaconda3\\envs\\crime-prediction\\Lib\\site-packages\\pyproj\\network.py:59: UserWarning: pyproj unable to set PROJ database path.\n",
      "  _set_context_ca_bundle_path(ca_bundle_path)\n"
     ]
    }
   ],
   "source": [
    "import sys\n",
    "import os\n",
    "import pandas as pd\n",
    "import geopandas as gpd\n",
    "import numpy as np\n",
    "from datetime import datetime\n",
    "from shapely.geometry import Point\n",
    "import random\n",
    "import pyproj\n",
    "\n",
    "pyproj.datadir.set_data_dir(\"D:/ProgramData/anaconda3/envs/crime-prediction/Library/share/proj\")"
   ]
  },
  {
   "cell_type": "code",
   "execution_count": 2,
   "id": "0391c0b8-079c-4f7f-8e94-571772abc250",
   "metadata": {},
   "outputs": [],
   "source": [
    "raw_file_path = 'data/SPD_Crime_Data__2008-Present_20250710.csv'"
   ]
  },
  {
   "cell_type": "code",
   "execution_count": 3,
   "id": "f87c1fc6-e3e7-424c-aee5-21036d382aa9",
   "metadata": {},
   "outputs": [
    {
     "name": "stderr",
     "output_type": "stream",
     "text": [
      "D:\\ProgramData\\anaconda3\\envs\\crime-prediction\\Lib\\site-packages\\pyogrio\\core.py:36: RuntimeWarning: Could not detect PROJ data files. Set PROJ_LIB environment variable to the correct path.\n",
      "  _init_proj_data()\n"
     ]
    }
   ],
   "source": [
    "# read beats data to determine if crime locatiosn are within seattle city limits\n",
    "beats_file =\"data/beats-data.geojson\"\n",
    "beats = gpd.read_file(beats_file)\n",
    "city_limits = gpd.GeoDataFrame(pd.DataFrame({\"City\": \"Seattle\"}, index=[0]), geometry=[beats.geometry.union_all()], crs=\"EPSG:4326\")"
   ]
  },
  {
   "cell_type": "code",
   "execution_count": 4,
   "id": "afa11932-d4e3-4894-9ad5-607f36dd6f04",
   "metadata": {},
   "outputs": [],
   "source": [
    "# read raw data of crimes from seattle crime data\n",
    "def parse_float(value):\n",
    "    if value =='REDACTED':\n",
    "        return -1.0\n",
    "    return float(value)\n",
    "\n",
    "def parse_beat(value):\n",
    "    if value == '-' or value == '99' or value == 'OOJ':\n",
    "        return None\n",
    "    return value\n",
    "\n",
    "def parse_raw_data():\n",
    "    raw_df = pd.read_csv(\n",
    "                         raw_file_path,\n",
    "                         usecols= [\n",
    "                             'Offense Date', \n",
    "                             'Report DateTime',\n",
    "                             'Precinct',\n",
    "                             'Offense Category',\n",
    "                             'Latitude',\n",
    "                             'Longitude',\n",
    "                             'Beat',\n",
    "                             'Sector',\n",
    "                             'Precinct',\n",
    "                             'Neighborhood',\n",
    "                             'Reporting Area'\n",
    "                         ],\n",
    "                         parse_dates=['Offense Date', 'Report DateTime'],\n",
    "                         converters={\n",
    "                             'Latitude': parse_float,\n",
    "                             'Longitude': parse_float,\n",
    "                             'Beat': parse_beat\n",
    "                         },                                 \n",
    "                         date_format=\"%m/%d/%Y %I:%M:%S %p\",\n",
    "                         dtype={\n",
    "                             'Precinct': 'category',\n",
    "                             'Offense Category': 'category'\n",
    "                         }\n",
    "                        )\n",
    "    # find locations that are outside the seattle city boundary for cleanup\n",
    "    raw_gdf = gpd.GeoDataFrame(raw_df, geometry=gpd.points_from_xy(raw_df[\"Longitude\"], raw_df[\"Latitude\"]), crs=\"EPSG:4326\")\n",
    "    raw_gdf = gpd.sjoin(raw_gdf, city_limits, how=\"left\", predicate=\"within\")\n",
    "    \n",
    "    \n",
    "    # set the latitude and longitude to None for locations outside the city boundary.\n",
    "    # later these latitude and longitude will be sampled from the beat\n",
    "    raw_gdf.loc[pd.notna(raw_gdf['City']) == False, ['Latitude', 'Longitude']] = [None, None]\n",
    "    raw_gdf.drop('index_right', axis=1, inplace=True) \n",
    "    raw_gdf.drop('City', axis=1, inplace=True) \n",
    "    \n",
    "    # replace offense date older than 2008 with report date\n",
    "    raw_gdf.loc[raw_gdf[\"Offense Date\"].dt.year < 2008, 'Offense Date'] = raw_gdf[\"Report DateTime\"]\n",
    "    \n",
    "    \n",
    "    print(f\"Raw data count: {len(raw_gdf):,}\")\n",
    "    print(f\"Missing Lat Long data count: {len(raw_gdf.loc[pd.notna(raw_gdf['Latitude']) == False]):,}\")\n",
    "    print(f\"Date Range: {raw_gdf['Offense Date'].min()} to {raw_gdf['Offense Date'].max()}\")\n",
    "    return raw_gdf"
   ]
  },
  {
   "cell_type": "code",
   "execution_count": 5,
   "id": "8b329b6d-d37f-431a-a53a-cd2d38947f7e",
   "metadata": {
    "scrolled": true
   },
   "outputs": [
    {
     "name": "stdout",
     "output_type": "stream",
     "text": [
      "Raw data count: 1,466,080\n",
      "Missing Lat Long data count: 388,166\n",
      "Date Range: 1975-12-16 15:00:00 to 2025-07-09 22:52:00\n"
     ]
    }
   ],
   "source": [
    "raw_gdf = parse_raw_data()"
   ]
  },
  {
   "cell_type": "code",
   "execution_count": 6,
   "id": "8529c4b2-1f4b-4106-98b8-6c9f0f054d27",
   "metadata": {},
   "outputs": [],
   "source": [
    "def sample_point_in_beat(beat_polygon):\n",
    "    min_x, min_y, max_x, max_y = beat_polygon.bounds\n",
    "    while True:\n",
    "        point = Point(random.uniform(min_x, max_x), random.uniform(min_y, max_y))\n",
    "        if beat_polygon.contains(point):\n",
    "            return point\n",
    "            \n",
    "def fill_missing_coordinates(df, beats_gdf):\n",
    "    beat_polygons = beats.set_index('name')['geometry']\n",
    "    points =  df.loc[pd.notna(df['Latitude']) == False, 'Beat'].map(\n",
    "        lambda x: sample_point_in_beat(beat_polygons[x]) if pd.notna(x) else None\n",
    "    )\n",
    "    df.loc[pd.notna(df['Latitude']) == False, 'Latitude'] = points.apply(lambda p: p.x if p else None)\n",
    "    df.loc[pd.notna(df['Longitude']) == False, 'Longitude'] = points.apply(lambda p: p.y if p else None)\n",
    "\n",
    "    \n",
    "    \n",
    "    "
   ]
  },
  {
   "cell_type": "code",
   "execution_count": 7,
   "id": "6e36b37a-787b-4af2-a3e8-6a5c1a1744a1",
   "metadata": {},
   "outputs": [
    {
     "name": "stdout",
     "output_type": "stream",
     "text": [
      "Data with missing location count: 14,268\n"
     ]
    }
   ],
   "source": [
    "fill_missing_coordinates(raw_gdf, beats)\n",
    "print(f\"Data with missing location count: {len(raw_gdf.loc[pd.notna(raw_gdf['Latitude']) == False]):,}\")\n",
    "raw_gdf = raw_gdf.loc[pd.notna(raw_gdf['Latitude'])]"
   ]
  },
  {
   "cell_type": "code",
   "execution_count": 9,
   "id": "a0a690b9-3482-412b-8058-80c3958a16d7",
   "metadata": {},
   "outputs": [],
   "source": [
    "raw_gdf.to_csv('data/preprocessed/preprocessed-1.csv', index=False)"
   ]
  },
  {
   "cell_type": "code",
   "execution_count": null,
   "id": "35e6fc87-930c-4371-a2bb-fa06e715064b",
   "metadata": {},
   "outputs": [],
   "source": []
  }
 ],
 "metadata": {
  "kernelspec": {
   "display_name": "crime-prediction",
   "language": "python",
   "name": "crime-prediction"
  },
  "language_info": {
   "codemirror_mode": {
    "name": "ipython",
    "version": 3
   },
   "file_extension": ".py",
   "mimetype": "text/x-python",
   "name": "python",
   "nbconvert_exporter": "python",
   "pygments_lexer": "ipython3",
   "version": "3.13.5"
  }
 },
 "nbformat": 4,
 "nbformat_minor": 5
}
