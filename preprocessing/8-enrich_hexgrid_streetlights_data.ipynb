{
 "cells": [
  {
   "cell_type": "code",
   "execution_count": 19,
   "id": "a358d32c-8fb6-4814-abad-7f18915f21f7",
   "metadata": {},
   "outputs": [],
   "source": [
    "import numpy as np\n",
    "import pandas as pd\n",
    "import geopandas as gpd\n",
    "from shapely import wkt\n",
    "import json\n",
    "import datetime\n",
    "import pyproj\n",
    "import os\n",
    "os.chdir(\"D:/Projects/crime-prediction\")"
   ]
  },
  {
   "cell_type": "code",
   "execution_count": 20,
   "id": "b3d12dee-87f9-4bcb-bf75-442eb5530863",
   "metadata": {},
   "outputs": [],
   "source": [
    "streetlights_data_file_path = 'data/preprocessed/streetlights_data.geojson'\n",
    "hex_grid_path = 'data/preprocessed/hex_grid.geojson'"
   ]
  },
  {
   "cell_type": "code",
   "execution_count": 21,
   "id": "923d0f3d-e294-4247-a186-2049edafcfd8",
   "metadata": {},
   "outputs": [],
   "source": [
    "def parse_hex_grid():\n",
    "    gdf = gpd.read_file(hex_grid_path)\n",
    "    return gdf"
   ]
  },
  {
   "cell_type": "code",
   "execution_count": 22,
   "id": "b717a5d1-ba37-4a70-b1bd-4111c0f791c1",
   "metadata": {},
   "outputs": [],
   "source": [
    "hex_grid_gdf = parse_hex_grid()\n",
    "estimated_utm_crs = hex_grid_gdf.estimate_utm_crs()\n",
    "hex_grid_gdf_projected = hex_grid_gdf.to_crs(estimated_utm_crs)"
   ]
  },
  {
   "cell_type": "code",
   "execution_count": 23,
   "id": "526a4123-3e44-4fc0-9773-795f1750cfd9",
   "metadata": {},
   "outputs": [],
   "source": [
    "def parse_streetlights_data():\n",
    "    gdf = gpd.read_file(streetlights_data_file_path)\n",
    "    estimated_utm_crs = gdf.estimate_utm_crs()\n",
    "    gdf_projected = gdf.to_crs(estimated_utm_crs)\n",
    "    return gdf_projected"
   ]
  },
  {
   "cell_type": "code",
   "execution_count": 24,
   "id": "152d2c8c-1561-47a6-a775-4948b5f499a0",
   "metadata": {},
   "outputs": [],
   "source": [
    "streetlights_gdf = parse_streetlights_data()"
   ]
  },
  {
   "cell_type": "code",
   "execution_count": 25,
   "id": "534c9a99-4578-44c1-a60b-437cc442387b",
   "metadata": {},
   "outputs": [],
   "source": [
    "def compute_streelight_counts(hex_grid_gdf, streetlights_gdf):\n",
    "    joined_gdf = gpd.sjoin(streetlights_gdf, hex_grid_gdf, how=\"left\", predicate=\"within\")\n",
    "    streetlight_counts = joined_gdf.groupby('index_right').size().reset_index(name='Streetlight Count')\n",
    "\n",
    "    hex_grid_gdf = hex_grid_gdf.reset_index().merge(streetlight_counts, left_on='index', right_on='index_right', how='left').set_index('index')\n",
    "    hex_grid_gdf['Streetlight Count'] = hex_grid_gdf['Streetlight Count'].fillna(0).astype(int)  # Handle regions with no points\n",
    "    return hex_grid_gdf"
   ]
  },
  {
   "cell_type": "code",
   "execution_count": 26,
   "id": "bafb478f-32ee-4937-ac51-771749e48e78",
   "metadata": {},
   "outputs": [],
   "source": [
    "hex_grid_gdf_projected = compute_streelight_counts(hex_grid_gdf_projected, streetlights_gdf)\n",
    "hex_grid_gdf['Streetlight Count'] = hex_grid_gdf_projected['Streetlight Count']"
   ]
  },
  {
   "cell_type": "code",
   "execution_count": 27,
   "id": "7c08faad-3e5a-4b12-b2c9-28deca2aa4f5",
   "metadata": {},
   "outputs": [],
   "source": [
    "hex_grid_gdf.to_file('data/preprocessed/hex_grid.geojson', driver=\"GeoJSON\")"
   ]
  },
  {
   "cell_type": "code",
   "execution_count": null,
   "id": "3d3d644a-8101-415d-89c0-1b333cc5e399",
   "metadata": {},
   "outputs": [],
   "source": []
  }
 ],
 "metadata": {
  "kernelspec": {
   "display_name": "Python 3 (ipykernel)",
   "language": "python",
   "name": "python3"
  },
  "language_info": {
   "codemirror_mode": {
    "name": "ipython",
    "version": 3
   },
   "file_extension": ".py",
   "mimetype": "text/x-python",
   "name": "python",
   "nbconvert_exporter": "python",
   "pygments_lexer": "ipython3",
   "version": "3.13.5"
  }
 },
 "nbformat": 4,
 "nbformat_minor": 5
}
