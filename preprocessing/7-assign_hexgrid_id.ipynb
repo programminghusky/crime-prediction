{
 "cells": [
  {
   "cell_type": "code",
   "execution_count": 9,
   "id": "82e4ac1f-1a8a-4065-8ae2-96be9c8b6316",
   "metadata": {},
   "outputs": [],
   "source": [
    "from osgeo import gdal\n",
    "import geopandas as gpd\n",
    "import gemgis as gg\n",
    "import numpy as np\n",
    "import pandas as pd\n",
    "import geopandas as gpd\n",
    "from shapely import wkt\n",
    "from shapely.geometry import Point, Polygon\n",
    "import matplotlib.pyplot as plt\n",
    "import json\n",
    "import datetime\n",
    "import os\n",
    "os.chdir(\"D:/Projects/crime-prediction\")"
   ]
  },
  {
   "cell_type": "code",
   "execution_count": 10,
   "id": "0dda054d-279e-4c61-99fd-07c1871ec186",
   "metadata": {},
   "outputs": [],
   "source": [
    "pre_processed_file_path = 'data/preprocessed/preprocessed-6.csv'\n",
    "hex_grid_path = 'data/preprocessed/hex_grid.geojson'"
   ]
  },
  {
   "cell_type": "code",
   "execution_count": 11,
   "id": "521e861d-cb9b-428d-99af-031177563b3b",
   "metadata": {},
   "outputs": [],
   "source": [
    "def parse_preprocessed_data():\n",
    "    df = pd.read_csv(\n",
    "                         pre_processed_file_path,\n",
    "                         parse_dates=['Offense Date'],                       \n",
    "                         dtype={\n",
    "                             'Precinct': 'category',\n",
    "                             'Offense Category': 'category',\n",
    "                             'Latitude': np.float32,\n",
    "                             'Longitude': np.float32\n",
    "                         }\n",
    "                        )\n",
    "    df[\"Id\"] = df.index\n",
    "    gdf = gpd.GeoDataFrame(df, geometry= df[\"geometry\"].apply(wkt.loads), crs='EPSG:4326')\n",
    "    return gdf"
   ]
  },
  {
   "cell_type": "code",
   "execution_count": 12,
   "id": "5021b32b-f970-4b93-8d24-c10b11e5887b",
   "metadata": {},
   "outputs": [
    {
     "name": "stdout",
     "output_type": "stream",
     "text": [
      "1280004\n"
     ]
    }
   ],
   "source": [
    "crime_gdf = parse_preprocessed_data()\n",
    "print(len(crime_gdf))"
   ]
  },
  {
   "cell_type": "code",
   "execution_count": 13,
   "id": "7ac2dfe6-b4d6-4b94-b74b-660f1415ec48",
   "metadata": {},
   "outputs": [],
   "source": [
    "estimated_utm_crs = crime_gdf.estimate_utm_crs()\n",
    "crime_gdf_projected = crime_gdf.to_crs(estimated_utm_crs)"
   ]
  },
  {
   "cell_type": "code",
   "execution_count": 14,
   "id": "89641276-b38f-47a6-9e89-891a1efeabce",
   "metadata": {},
   "outputs": [],
   "source": [
    "def parse_hex_grid():\n",
    "    gdf = gpd.read_file(hex_grid_path)\n",
    "    estimated_utm_crs = gdf.estimate_utm_crs()\n",
    "    gdf_projected = gdf.to_crs(estimated_utm_crs)\n",
    "    return gdf_projected"
   ]
  },
  {
   "cell_type": "code",
   "execution_count": 15,
   "id": "5020130c-186f-42d3-b33a-0f64b60ea5e7",
   "metadata": {},
   "outputs": [],
   "source": [
    "hex_grid_gdf = parse_hex_grid()"
   ]
  },
  {
   "cell_type": "code",
   "execution_count": 16,
   "id": "feaf4184-ee58-4976-9c19-129e7b76b86d",
   "metadata": {},
   "outputs": [],
   "source": [
    "crime_gdf_projected = gpd.sjoin(crime_gdf_projected, hex_grid_gdf, how=\"inner\", predicate=\"intersects\")"
   ]
  },
  {
   "cell_type": "code",
   "execution_count": 17,
   "id": "c48db49f-1b8d-4ebf-9e0a-ef71aafca0fa",
   "metadata": {},
   "outputs": [],
   "source": [
    "crime_gdf['Grid Id'] = crime_gdf_projected['index_right']"
   ]
  },
  {
   "cell_type": "code",
   "execution_count": 18,
   "id": "e6d21403-bccb-481a-bee8-cf45c55476f4",
   "metadata": {},
   "outputs": [],
   "source": [
    "crime_gdf.to_csv('data/preprocessed/preprocessed-8.csv', index=False)"
   ]
  },
  {
   "cell_type": "code",
   "execution_count": null,
   "id": "5949e633-9c05-492f-a981-6aecdfbfaf1c",
   "metadata": {},
   "outputs": [],
   "source": []
  }
 ],
 "metadata": {
  "kernelspec": {
   "display_name": "Python 3 (ipykernel)",
   "language": "python",
   "name": "python3"
  },
  "language_info": {
   "codemirror_mode": {
    "name": "ipython",
    "version": 3
   },
   "file_extension": ".py",
   "mimetype": "text/x-python",
   "name": "python",
   "nbconvert_exporter": "python",
   "pygments_lexer": "ipython3",
   "version": "3.13.5"
  }
 },
 "nbformat": 4,
 "nbformat_minor": 5
}
