{
 "cells": [
  {
   "cell_type": "code",
   "execution_count": 68,
   "id": "d706ecba-3262-41dd-b0f2-25cbe85b4247",
   "metadata": {},
   "outputs": [],
   "source": [
    "import numpy as np\n",
    "from sklearn.cluster import DBSCAN\n",
    "import pandas as pd\n",
    "import geopandas as gpd\n",
    "from shapely import wkt\n",
    "import matplotlib as plt\n",
    "import requests\n",
    "from urllib.parse import quote\n",
    "import pyproj\n",
    "import os\n",
    "os.chdir(\"D:/Projects/crime-prediction\")\n",
    "pyproj.datadir.set_data_dir(\"D:/ProgramData/anaconda3/envs/crime-prediction/Library/share/proj\")"
   ]
  },
  {
   "cell_type": "code",
   "execution_count": null,
   "id": "1fbd7230-2501-47ad-bd39-0fa77541c670",
   "metadata": {},
   "outputs": [],
   "source": [
    "pre_processed_file_path = 'data/preprocessed/preprocessed-1.csv'\n",
    "city_limits_path = 'data/preprocessed/city-limits.csv'\n",
    "weather_apikey = 'MQK9MND4NLXX6MGYRAWDVZX6E'"
   ]
  },
  {
   "cell_type": "code",
   "execution_count": null,
   "id": "6f359092-6e61-475b-8e49-7431d9d11f7e",
   "metadata": {},
   "outputs": [],
   "source": [
    "def parse_preprocessed_data_1():\n",
    "    df = pd.read_csv(\n",
    "                         pre_processed_file_path,\n",
    "                         parse_dates=['Offense Date'],                       \n",
    "                         dtype={\n",
    "                             'Precinct': 'category',\n",
    "                             'Offense Category': 'category',\n",
    "                             'Latitude': np.float32,\n",
    "                             'Longitude': np.float32\n",
    "                         }\n",
    "                        )\n",
    "    gdf = gpd.GeoDataFrame(df, geometry= df[\"geometry\"].apply(wkt.loads), crs='EPSG:4326')\n",
    "    return gdf"
   ]
  },
  {
   "cell_type": "code",
   "execution_count": null,
   "id": "3b397bda-09ac-4073-9e10-52e1c6974d21",
   "metadata": {},
   "outputs": [],
   "source": [
    "def parse_citylimits():\n",
    "    df = pd.read_csv(city_limits_path)\n",
    "    df[\"geometry\"] = df[\"geometry\"].apply(wkt.loads)\n",
    "    df[\"centroid\"] = gpd.GeoSeries.from_wkt(df['centroid'])\n",
    "    gdf = gpd.GeoDataFrame(df, geometry= 'geometry', crs='EPSG:4326')    \n",
    "    return gdf"
   ]
  },
  {
   "cell_type": "code",
   "execution_count": 75,
   "id": "7007d620-08f2-4974-ab72-5f9f0c01b0e8",
   "metadata": {},
   "outputs": [],
   "source": [
    "def get_weather_visualcrossing(lat, long, date_time, api_key):\n",
    "    location = quote(f\"{long},{lat}\")\n",
    "    base_url = \"https://weather.visualcrossing.com/VisualCrossingWebServices/rest/services/timeline\"\n",
    "    url =f\"{base_url}/{location}/{date_time}?unitGroup=metric&include=hours&key={api_key}&contentType=json\"\n",
    "    print(url)\n",
    "    response = requests.get(url)\n",
    "    print(response.text)\n",
    "    return response.json()"
   ]
  },
  {
   "cell_type": "code",
   "execution_count": null,
   "id": "004c8bee-50bd-48b1-b0cd-fb91622c7d01",
   "metadata": {},
   "outputs": [],
   "source": [
    "gdf = parse_preprocessed_data_1()"
   ]
  },
  {
   "cell_type": "code",
   "execution_count": null,
   "id": "663dcb81-b17b-43d5-8ec8-9910e518d40f",
   "metadata": {},
   "outputs": [],
   "source": [
    "city_limits_gdf = parse_citylimits()"
   ]
  },
  {
   "cell_type": "code",
   "execution_count": null,
   "id": "6a8a2e96-9e27-42cf-9432-97dff91ddc7e",
   "metadata": {},
   "outputs": [],
   "source": [
    "gdf['Offense Date Rounded Hour'] = gdf['Offense Date'].dt.round('h')\n",
    "unique_combinations = gdf[['Latitude', 'Longitude','Offense Date Rounded Hour']].drop_duplicates()\n",
    "grouped_df = unique_combinations.groupby('Offense Date Rounded Hour').agg('count')"
   ]
  },
  {
   "cell_type": "code",
   "execution_count": null,
   "id": "fd1ed2dc-1048-4c67-8359-e5a5b41214ca",
   "metadata": {},
   "outputs": [],
   "source": [
    "cf.to_csv('data/preprocessed/preprocessed-2.csv', index=False)"
   ]
  },
  {
   "cell_type": "code",
   "execution_count": null,
   "id": "28bf783e-e1d1-4aad-bf5f-f4f4692c5aaf",
   "metadata": {},
   "outputs": [],
   "source": [
    "group_counts =  grouped_df['Latitude'].size().to_frame().sort_values(by='Latitude', ascending=False)\n",
    "print(group_counts[group_counts['Latitude']>1])"
   ]
  },
  {
   "cell_type": "code",
   "execution_count": 76,
   "id": "95199918-fe28-436b-a1bc-31060e42c6bb",
   "metadata": {},
   "outputs": [
    {
     "name": "stdout",
     "output_type": "stream",
     "text": [
      "https://weather.visualcrossing.com/VisualCrossingWebServices/rest/services/timeline/47.62048706590659%2C-122.33667448624294/2021-12-22T05:00:00?unitGroup=metric&include=hours&key=MQK9MND4NLXX6MGYRAWDVZX6E&contentType=json\n",
      "{\"queryCost\":24,\"latitude\":47.62048706590659,\"longitude\":-122.33667448624294,\"resolvedAddress\":\"47.62048706590659,-122.33667448624294\",\"address\":\"47.62048706590659,-122.33667448624294\",\"timezone\":\"America/Los_Angeles\",\"tzoffset\":-8.0,\"days\":[{\"datetime\":\"2021-12-22\",\"datetimeEpoch\":1640160000,\"tempmax\":9.9,\"tempmin\":4.8,\"temp\":7.9,\"feelslikemax\":7.8,\"feelslikemin\":2.0,\"feelslike\":5.3,\"dew\":6.0,\"humidity\":87.9,\"precip\":12.191,\"precipprob\":100.0,\"precipcover\":58.33,\"preciptype\":[\"rain\"],\"snow\":0.0,\"snowdepth\":0.0,\"windgust\":42.5,\"windspeed\":23.4,\"winddir\":157.3,\"pressure\":1003.3,\"cloudcover\":96.2,\"visibility\":13.3,\"solarradiation\":49.4,\"solarenergy\":4.3,\"uvindex\":1.0,\"sunrise\":\"07:55:35\",\"sunriseEpoch\":1640188535,\"sunset\":\"16:20:53\",\"sunsetEpoch\":1640218853,\"moonphase\":0.62,\"conditions\":\"Rain, Overcast\",\"description\":\"Cloudy skies throughout the day with a chance of rain throughout the day.\",\"icon\":\"rain\",\"stations\":[\"AT200\",\"72793024233\",\"KSEA\",\"KBFI\",\"D9722\",\"72793524234\",\"72793494248\",\"F0821\",\"F9061\",\"KRNT\"],\"source\":\"obs\",\"hours\":[{\"datetime\":\"00:00:00\",\"datetimeEpoch\":1640160000,\"temp\":4.8,\"feelslike\":2.0,\"humidity\":97.6,\"dew\":4.5,\"precip\":1.194,\"precipprob\":100.0,\"snow\":0.0,\"snowdepth\":0.0,\"preciptype\":[\"rain\"],\"windgust\":null,\"windspeed\":12.7,\"winddir\":152.0,\"pressure\":1008.6,\"visibility\":5.2,\"cloudcover\":100.0,\"solarradiation\":13.0,\"solarenergy\":0.0,\"uvindex\":0.0,\"conditions\":\"Rain, Overcast\",\"icon\":\"rain\",\"stations\":[\"72793024233\",\"KSEA\",\"KBFI\",\"D9722\",\"72793524234\",\"72793494248\",\"KRNT\"],\"source\":\"obs\"},{\"datetime\":\"01:00:00\",\"datetimeEpoch\":1640163600,\"temp\":6.6,\"feelslike\":3.1,\"humidity\":93.77,\"dew\":5.6,\"precip\":0.0,\"precipprob\":0.0,\"snow\":0.0,\"snowdepth\":0.0,\"preciptype\":null,\"windgust\":33.5,\"windspeed\":20.1,\"winddir\":179.0,\"pressure\":1008.4,\"visibility\":12.0,\"cloudcover\":100.0,\"solarradiation\":53.0,\"solarenergy\":0.2,\"uvindex\":0.0,\"conditions\":\"Overcast\",\"icon\":\"cloudy\",\"stations\":[\"72793024233\",\"KSEA\",\"KBFI\",\"D9722\",\"72793524234\",\"72793494248\",\"KRNT\"],\"source\":\"obs\"},{\"datetime\":\"02:00:00\",\"datetimeEpoch\":1640167200,\"temp\":8.3,\"feelslike\":5.7,\"humidity\":87.77,\"dew\":6.4,\"precip\":0.0,\"precipprob\":0.0,\"snow\":0.0,\"snowdepth\":0.0,\"preciptype\":null,\"windgust\":29.5,\"windspeed\":15.7,\"winddir\":179.0,\"pressure\":1009.0,\"visibility\":11.6,\"cloudcover\":100.0,\"solarradiation\":112.0,\"solarenergy\":0.4,\"uvindex\":0.0,\"conditions\":\"Overcast\",\"icon\":\"cloudy\",\"stations\":[\"72793024233\",\"KSEA\",\"KBFI\",\"D9722\",\"72793524234\",\"72793494248\",\"KRNT\"],\"source\":\"obs\"},{\"datetime\":\"03:00:00\",\"datetimeEpoch\":1640170800,\"temp\":8.3,\"feelslike\":5.4,\"humidity\":87.77,\"dew\":6.4,\"precip\":0.296,\"precipprob\":100.0,\"snow\":0.0,\"snowdepth\":0.0,\"preciptype\":[\"rain\"],\"windgust\":35.3,\"windspeed\":18.0,\"winddir\":175.0,\"pressure\":1008.8,\"visibility\":15.5,\"cloudcover\":100.0,\"solarradiation\":143.0,\"solarenergy\":0.5,\"uvindex\":0.0,\"conditions\":\"Rain, Overcast\",\"icon\":\"rain\",\"stations\":[\"72793024233\",\"KSEA\",\"KBFI\",\"D9722\",\"72793524234\",\"72793494248\",\"KRNT\"],\"source\":\"obs\"},{\"datetime\":\"04:00:00\",\"datetimeEpoch\":1640174400,\"temp\":8.0,\"feelslike\":4.6,\"humidity\":89.88,\"dew\":6.5,\"precip\":2.126,\"precipprob\":100.0,\"snow\":0.0,\"snowdepth\":0.0,\"preciptype\":[\"rain\"],\"windgust\":null,\"windspeed\":23.4,\"winddir\":95.0,\"pressure\":1008.2,\"visibility\":12.4,\"cloudcover\":100.0,\"solarradiation\":292.0,\"solarenergy\":1.1,\"uvindex\":0.0,\"conditions\":\"Rain, Overcast\",\"icon\":\"rain\",\"stations\":[\"72793024233\",\"KSEA\",\"KBFI\",\"D9722\",\"72793524234\",\"72793494248\",\"KRNT\"],\"source\":\"obs\"},{\"datetime\":\"05:00:00\",\"datetimeEpoch\":1640178000,\"temp\":8.0,\"feelslike\":5.7,\"humidity\":89.55,\"dew\":6.4,\"precip\":0.325,\"precipprob\":100.0,\"snow\":0.0,\"snowdepth\":0.0,\"preciptype\":[\"rain\"],\"windgust\":37.1,\"windspeed\":13.0,\"winddir\":177.0,\"pressure\":1007.6,\"visibility\":9.7,\"cloudcover\":100.0,\"solarradiation\":15.0,\"solarenergy\":0.1,\"uvindex\":0.0,\"conditions\":\"Rain, Overcast\",\"icon\":\"rain\",\"stations\":[\"AT200\",\"72793024233\",\"KSEA\",\"KBFI\",\"72793524234\",\"72793494248\",\"KRNT\"],\"source\":\"obs\"},{\"datetime\":\"06:00:00\",\"datetimeEpoch\":1640181600,\"temp\":8.2,\"feelslike\":5.3,\"humidity\":89.16,\"dew\":6.5,\"precip\":0.314,\"precipprob\":100.0,\"snow\":0.0,\"snowdepth\":0.0,\"preciptype\":[\"rain\"],\"windgust\":40.7,\"windspeed\":17.8,\"winddir\":173.0,\"pressure\":1007.2,\"visibility\":13.7,\"cloudcover\":100.0,\"solarradiation\":63.0,\"solarenergy\":0.2,\"uvindex\":0.0,\"conditions\":\"Rain, Overcast\",\"icon\":\"rain\",\"stations\":[\"AT200\",\"72793024233\",\"KSEA\",\"KBFI\",\"72793524234\",\"72793494248\",\"KRNT\"],\"source\":\"obs\"},{\"datetime\":\"07:00:00\",\"datetimeEpoch\":1640185200,\"temp\":8.0,\"feelslike\":4.8,\"humidity\":89.03,\"dew\":6.3,\"precip\":0.026,\"precipprob\":100.0,\"snow\":0.0,\"snowdepth\":0.0,\"preciptype\":[\"rain\"],\"windgust\":42.5,\"windspeed\":20.3,\"winddir\":157.0,\"pressure\":1006.6,\"visibility\":16.0,\"cloudcover\":98.1,\"solarradiation\":124.0,\"solarenergy\":0.4,\"uvindex\":0.0,\"conditions\":\"Rain, Overcast\",\"icon\":\"rain\",\"stations\":[\"AT200\",\"72793024233\",\"KSEA\",\"KBFI\",\"72793524234\",\"72793494248\",\"KRNT\"],\"source\":\"obs\"},{\"datetime\":\"08:00:00\",\"datetimeEpoch\":1640188800,\"temp\":8.0,\"feelslike\":5.0,\"humidity\":87.05,\"dew\":5.9,\"precip\":0.0,\"precipprob\":0.0,\"snow\":0.0,\"snowdepth\":0.0,\"preciptype\":null,\"windgust\":37.1,\"windspeed\":18.2,\"winddir\":162.0,\"pressure\":1006.1,\"visibility\":16.0,\"cloudcover\":89.0,\"solarradiation\":5.0,\"solarenergy\":0.0,\"uvindex\":0.0,\"conditions\":\"Partially cloudy\",\"icon\":\"partly-cloudy-day\",\"stations\":[\"72793024233\",\"KSEA\",\"KBFI\",\"72793524234\",\"72793494248\",\"F0821\",\"KRNT\"],\"source\":\"obs\"},{\"datetime\":\"09:00:00\",\"datetimeEpoch\":1640192400,\"temp\":8.2,\"feelslike\":5.4,\"humidity\":87.81,\"dew\":6.3,\"precip\":0.0,\"precipprob\":0.0,\"snow\":0.0,\"snowdepth\":0.0,\"preciptype\":null,\"windgust\":37.1,\"windspeed\":17.1,\"winddir\":154.0,\"pressure\":1005.5,\"visibility\":14.8,\"cloudcover\":93.5,\"solarradiation\":10.0,\"solarenergy\":0.0,\"uvindex\":0.0,\"conditions\":\"Overcast\",\"icon\":\"cloudy\",\"stations\":[\"72793024233\",\"KSEA\",\"KBFI\",\"72793524234\",\"72793494248\",\"F0821\",\"KRNT\"],\"source\":\"obs\"},{\"datetime\":\"10:00:00\",\"datetimeEpoch\":1640196000,\"temp\":8.4,\"feelslike\":5.5,\"humidity\":83.7,\"dew\":5.8,\"precip\":0.0,\"precipprob\":0.0,\"snow\":0.0,\"snowdepth\":0.0,\"preciptype\":null,\"windgust\":null,\"windspeed\":19.1,\"winddir\":140.0,\"pressure\":1004.9,\"visibility\":16.0,\"cloudcover\":90.0,\"solarradiation\":50.0,\"solarenergy\":0.2,\"uvindex\":1.0,\"conditions\":\"Partially cloudy\",\"icon\":\"partly-cloudy-day\",\"stations\":[\"72793024233\",\"KSEA\",\"KBFI\",\"72793524234\",\"72793494248\",\"F0821\",\"KRNT\"],\"source\":\"obs\"},{\"datetime\":\"11:00:00\",\"datetimeEpoch\":1640199600,\"temp\":8.9,\"feelslike\":6.8,\"humidity\":80.92,\"dew\":5.8,\"precip\":0.0,\"precipprob\":0.0,\"snow\":0.0,\"snowdepth\":0.0,\"preciptype\":null,\"windgust\":null,\"windspeed\":13.5,\"winddir\":144.0,\"pressure\":1004.1,\"visibility\":16.0,\"cloudcover\":79.7,\"solarradiation\":74.0,\"solarenergy\":0.3,\"uvindex\":1.0,\"conditions\":\"Partially cloudy\",\"icon\":\"partly-cloudy-day\",\"stations\":[\"72793024233\",\"KSEA\",\"KBFI\",\"72793524234\",\"72793494248\",\"F0821\",\"KRNT\"],\"source\":\"obs\"},{\"datetime\":\"12:00:00\",\"datetimeEpoch\":1640203200,\"temp\":9.9,\"feelslike\":7.8,\"humidity\":74.35,\"dew\":5.5,\"precip\":0.0,\"precipprob\":0.0,\"snow\":0.0,\"snowdepth\":0.0,\"preciptype\":null,\"windgust\":null,\"windspeed\":15.2,\"winddir\":182.0,\"pressure\":1003.0,\"visibility\":16.0,\"cloudcover\":57.7,\"solarradiation\":110.0,\"solarenergy\":0.4,\"uvindex\":1.0,\"conditions\":\"Partially cloudy\",\"icon\":\"partly-cloudy-day\",\"stations\":[\"72793024233\",\"KSEA\",\"KBFI\",\"72793524234\",\"72793494248\",\"F0821\",\"KRNT\"],\"source\":\"obs\"},{\"datetime\":\"13:00:00\",\"datetimeEpoch\":1640206800,\"temp\":9.4,\"feelslike\":6.8,\"humidity\":79.39,\"dew\":6.0,\"precip\":0.051,\"precipprob\":100.0,\"snow\":0.0,\"snowdepth\":0.0,\"preciptype\":[\"rain\"],\"windgust\":null,\"windspeed\":18.8,\"winddir\":170.0,\"pressure\":1002.2,\"visibility\":13.7,\"cloudcover\":100.0,\"solarradiation\":74.0,\"solarenergy\":0.3,\"uvindex\":1.0,\"conditions\":\"Rain, Overcast\",\"icon\":\"rain\",\"stations\":[\"72793024233\",\"KSEA\",\"KBFI\",\"72793524234\",\"72793494248\",\"F0821\",\"KRNT\"],\"source\":\"obs\"},{\"datetime\":\"14:00:00\",\"datetimeEpoch\":1640210400,\"temp\":8.6,\"feelslike\":7.2,\"humidity\":86.74,\"dew\":6.5,\"precip\":1.197,\"precipprob\":100.0,\"snow\":0.0,\"snowdepth\":0.0,\"preciptype\":[\"rain\"],\"windgust\":null,\"windspeed\":8.5,\"winddir\":148.0,\"pressure\":1001.5,\"visibility\":7.2,\"cloudcover\":100.0,\"solarradiation\":22.0,\"solarenergy\":0.1,\"uvindex\":0.0,\"conditions\":\"Rain, Overcast\",\"icon\":\"rain\",\"stations\":[\"72793024233\",\"KSEA\",\"KBFI\",\"72793524234\",\"72793494248\",\"F0821\",\"KRNT\"],\"source\":\"obs\"},{\"datetime\":\"15:00:00\",\"datetimeEpoch\":1640214000,\"temp\":8.1,\"feelslike\":6.3,\"humidity\":90.02,\"dew\":6.6,\"precip\":2.144,\"precipprob\":100.0,\"snow\":0.0,\"snowdepth\":0.0,\"preciptype\":[\"rain\"],\"windgust\":31.7,\"windspeed\":10.9,\"winddir\":141.0,\"pressure\":1000.9,\"visibility\":6.3,\"cloudcover\":100.0,\"solarradiation\":15.0,\"solarenergy\":0.1,\"uvindex\":0.0,\"conditions\":\"Rain, Overcast\",\"icon\":\"rain\",\"stations\":[\"72793024233\",\"KSEA\",\"KBFI\",\"72793524234\",\"72793494248\",\"F0821\",\"KRNT\"],\"source\":\"obs\"},{\"datetime\":\"16:00:00\",\"datetimeEpoch\":1640217600,\"temp\":7.7,\"feelslike\":5.8,\"humidity\":88.94,\"dew\":5.9,\"precip\":3.395,\"precipprob\":100.0,\"snow\":0.0,\"snowdepth\":0.0,\"preciptype\":[\"rain\"],\"windgust\":null,\"windspeed\":10.3,\"winddir\":170.0,\"pressure\":1000.6,\"visibility\":5.8,\"cloudcover\":100.0,\"solarradiation\":8.0,\"solarenergy\":0.0,\"uvindex\":0.0,\"conditions\":\"Rain, Overcast\",\"icon\":\"rain\",\"stations\":[\"72793024233\",\"KSEA\",\"KBFI\",\"72793524234\",\"72793494248\",\"F0821\",\"KRNT\"],\"source\":\"obs\"},{\"datetime\":\"17:00:00\",\"datetimeEpoch\":1640221200,\"temp\":7.1,\"feelslike\":4.3,\"humidity\":93.03,\"dew\":6.1,\"precip\":0.725,\"precipprob\":100.0,\"snow\":0.0,\"snowdepth\":0.0,\"preciptype\":[\"rain\"],\"windgust\":null,\"windspeed\":15.5,\"winddir\":150.0,\"pressure\":1000.0,\"visibility\":15.7,\"cloudcover\":100.0,\"solarradiation\":2.0,\"solarenergy\":0.0,\"uvindex\":0.0,\"conditions\":\"Rain, Overcast\",\"icon\":\"rain\",\"stations\":[\"72793024233\",\"KSEA\",\"KBFI\",\"72793524234\",\"72793494248\",\"F9061\",\"KRNT\"],\"source\":\"obs\"},{\"datetime\":\"18:00:00\",\"datetimeEpoch\":1640224800,\"temp\":7.4,\"feelslike\":5.1,\"humidity\":94.15,\"dew\":6.5,\"precip\":0.051,\"precipprob\":100.0,\"snow\":0.0,\"snowdepth\":0.0,\"preciptype\":[\"rain\"],\"windgust\":null,\"windspeed\":12.0,\"winddir\":154.0,\"pressure\":999.3,\"visibility\":16.0,\"cloudcover\":100.0,\"solarradiation\":0.0,\"solarenergy\":0.0,\"uvindex\":0.0,\"conditions\":\"Rain, Overcast\",\"icon\":\"rain\",\"stations\":[\"72793024233\",\"KSEA\",\"KBFI\",\"72793524234\",\"72793494248\",\"KRNT\"],\"source\":\"obs\"},{\"datetime\":\"19:00:00\",\"datetimeEpoch\":1640228400,\"temp\":7.4,\"feelslike\":4.3,\"humidity\":90.78,\"dew\":5.9,\"precip\":0.0,\"precipprob\":0.0,\"snow\":0.0,\"snowdepth\":0.0,\"preciptype\":null,\"windgust\":null,\"windspeed\":18.1,\"winddir\":157.0,\"pressure\":998.4,\"visibility\":16.0,\"cloudcover\":100.0,\"solarradiation\":0.0,\"solarenergy\":0.0,\"uvindex\":0.0,\"conditions\":\"Overcast\",\"icon\":\"cloudy\",\"stations\":[\"72793024233\",\"KSEA\",\"KBFI\",\"72793524234\",\"72793494248\",\"KRNT\"],\"source\":\"obs\"},{\"datetime\":\"20:00:00\",\"datetimeEpoch\":1640232000,\"temp\":7.7,\"feelslike\":5.0,\"humidity\":87.07,\"dew\":5.7,\"precip\":0.0,\"precipprob\":0.0,\"snow\":0.0,\"snowdepth\":0.0,\"preciptype\":null,\"windgust\":null,\"windspeed\":15.7,\"winddir\":154.0,\"pressure\":998.1,\"visibility\":16.0,\"cloudcover\":100.0,\"solarradiation\":0.0,\"solarenergy\":0.0,\"uvindex\":0.0,\"conditions\":\"Overcast\",\"icon\":\"cloudy\",\"stations\":[\"72793024233\",\"KSEA\",\"KBFI\",\"72793524234\",\"72793494248\",\"KRNT\"],\"source\":\"obs\"},{\"datetime\":\"21:00:00\",\"datetimeEpoch\":1640235600,\"temp\":6.9,\"feelslike\":4.5,\"humidity\":90.93,\"dew\":5.5,\"precip\":0.0,\"precipprob\":0.0,\"snow\":0.0,\"snowdepth\":0.0,\"preciptype\":null,\"windgust\":null,\"windspeed\":12.4,\"winddir\":159.0,\"pressure\":996.8,\"visibility\":16.0,\"cloudcover\":100.0,\"solarradiation\":0.0,\"solarenergy\":0.0,\"uvindex\":0.0,\"conditions\":\"Overcast\",\"icon\":\"cloudy\",\"stations\":[\"72793024233\",\"KSEA\",\"KBFI\",\"72793524234\",\"72793494248\",\"KRNT\"],\"source\":\"obs\"},{\"datetime\":\"22:00:00\",\"datetimeEpoch\":1640239200,\"temp\":7.4,\"feelslike\":4.7,\"humidity\":87.25,\"dew\":5.4,\"precip\":0.025,\"precipprob\":100.0,\"snow\":0.0,\"snowdepth\":0.0,\"preciptype\":[\"rain\"],\"windgust\":null,\"windspeed\":14.9,\"winddir\":152.0,\"pressure\":996.5,\"visibility\":16.0,\"cloudcover\":100.0,\"solarradiation\":0.0,\"solarenergy\":0.0,\"uvindex\":0.0,\"conditions\":\"Rain, Overcast\",\"icon\":\"rain\",\"stations\":[\"72793024233\",\"KSEA\",\"KBFI\",\"72793524234\",\"72793494248\",\"KRNT\"],\"source\":\"obs\"},{\"datetime\":\"23:00:00\",\"datetimeEpoch\":1640242800,\"temp\":7.8,\"feelslike\":5.7,\"humidity\":83.26,\"dew\":5.1,\"precip\":0.322,\"precipprob\":100.0,\"snow\":0.0,\"snowdepth\":0.0,\"preciptype\":[\"rain\"],\"windgust\":null,\"windspeed\":11.5,\"winddir\":150.0,\"pressure\":995.9,\"visibility\":16.0,\"cloudcover\":100.0,\"solarradiation\":0.0,\"solarenergy\":0.0,\"uvindex\":0.0,\"conditions\":\"Rain, Overcast\",\"icon\":\"rain\",\"stations\":[\"72793024233\",\"KSEA\",\"KBFI\",\"72793524234\",\"72793494248\",\"KRNT\"],\"source\":\"obs\"}]}],\"stations\":{\"AT200\":{\"distance\":37393.0,\"latitude\":47.6,\"longitude\":-122.834,\"useCount\":0,\"id\":\"AT200\",\"name\":\"KB2SKP Bremerton WA US\",\"quality\":0,\"contribution\":0.0},\"72793024233\":{\"distance\":19676.0,\"latitude\":47.444,\"longitude\":-122.314,\"useCount\":0,\"id\":\"72793024233\",\"name\":\"SEATTLE TACOMA AIRPORT, WA US\",\"quality\":100,\"contribution\":0.0},\"KSEA\":{\"distance\":19178.0,\"latitude\":47.45,\"longitude\":-122.3,\"useCount\":0,\"id\":\"KSEA\",\"name\":\"KSEA\",\"quality\":100,\"contribution\":0.0},\"KBFI\":{\"distance\":10443.0,\"latitude\":47.53,\"longitude\":-122.3,\"useCount\":0,\"id\":\"KBFI\",\"name\":\"KBFI\",\"quality\":100,\"contribution\":0.0},\"D9722\":{\"distance\":39571.0,\"latitude\":47.87,\"longitude\":-121.96,\"useCount\":0,\"id\":\"D9722\",\"name\":\"DW9722 Monroe WA US\",\"quality\":0,\"contribution\":0.0},\"72793524234\":{\"distance\":10391.0,\"latitude\":47.53,\"longitude\":-122.301,\"useCount\":0,\"id\":\"72793524234\",\"name\":\"SEATTLE BOEING FIELD, WA US\",\"quality\":100,\"contribution\":0.0},\"72793494248\":{\"distance\":16894.0,\"latitude\":47.493,\"longitude\":-122.214,\"useCount\":0,\"id\":\"72793494248\",\"name\":\"RENTON MUNICIPAL AIRPORT, WA US\",\"quality\":100,\"contribution\":0.0},\"F0821\":{\"distance\":1957.0,\"latitude\":47.612,\"longitude\":-122.314,\"useCount\":0,\"id\":\"F0821\",\"name\":\"FW0821 Seattle WA US\",\"quality\":0,\"contribution\":0.0},\"F9061\":{\"distance\":6447.0,\"latitude\":47.568,\"longitude\":-122.372,\"useCount\":0,\"id\":\"F9061\",\"name\":\"FW9061 Seattle WA US\",\"quality\":0,\"contribution\":0.0},\"KRNT\":{\"distance\":16022.0,\"latitude\":47.5,\"longitude\":-122.22,\"useCount\":0,\"id\":\"KRNT\",\"name\":\"KRNT\",\"quality\":100,\"contribution\":0.0}}}\n",
      "{'queryCost': 24, 'latitude': 47.62048706590659, 'longitude': -122.33667448624294, 'resolvedAddress': '47.62048706590659,-122.33667448624294', 'address': '47.62048706590659,-122.33667448624294', 'timezone': 'America/Los_Angeles', 'tzoffset': -8.0, 'days': [{'datetime': '2021-12-22', 'datetimeEpoch': 1640160000, 'tempmax': 9.9, 'tempmin': 4.8, 'temp': 7.9, 'feelslikemax': 7.8, 'feelslikemin': 2.0, 'feelslike': 5.3, 'dew': 6.0, 'humidity': 87.9, 'precip': 12.191, 'precipprob': 100.0, 'precipcover': 58.33, 'preciptype': ['rain'], 'snow': 0.0, 'snowdepth': 0.0, 'windgust': 42.5, 'windspeed': 23.4, 'winddir': 157.3, 'pressure': 1003.3, 'cloudcover': 96.2, 'visibility': 13.3, 'solarradiation': 49.4, 'solarenergy': 4.3, 'uvindex': 1.0, 'sunrise': '07:55:35', 'sunriseEpoch': 1640188535, 'sunset': '16:20:53', 'sunsetEpoch': 1640218853, 'moonphase': 0.62, 'conditions': 'Rain, Overcast', 'description': 'Cloudy skies throughout the day with a chance of rain throughout the day.', 'icon': 'rain', 'stations': ['AT200', '72793024233', 'KSEA', 'KBFI', 'D9722', '72793524234', '72793494248', 'F0821', 'F9061', 'KRNT'], 'source': 'obs', 'hours': [{'datetime': '00:00:00', 'datetimeEpoch': 1640160000, 'temp': 4.8, 'feelslike': 2.0, 'humidity': 97.6, 'dew': 4.5, 'precip': 1.194, 'precipprob': 100.0, 'snow': 0.0, 'snowdepth': 0.0, 'preciptype': ['rain'], 'windgust': None, 'windspeed': 12.7, 'winddir': 152.0, 'pressure': 1008.6, 'visibility': 5.2, 'cloudcover': 100.0, 'solarradiation': 13.0, 'solarenergy': 0.0, 'uvindex': 0.0, 'conditions': 'Rain, Overcast', 'icon': 'rain', 'stations': ['72793024233', 'KSEA', 'KBFI', 'D9722', '72793524234', '72793494248', 'KRNT'], 'source': 'obs'}, {'datetime': '01:00:00', 'datetimeEpoch': 1640163600, 'temp': 6.6, 'feelslike': 3.1, 'humidity': 93.77, 'dew': 5.6, 'precip': 0.0, 'precipprob': 0.0, 'snow': 0.0, 'snowdepth': 0.0, 'preciptype': None, 'windgust': 33.5, 'windspeed': 20.1, 'winddir': 179.0, 'pressure': 1008.4, 'visibility': 12.0, 'cloudcover': 100.0, 'solarradiation': 53.0, 'solarenergy': 0.2, 'uvindex': 0.0, 'conditions': 'Overcast', 'icon': 'cloudy', 'stations': ['72793024233', 'KSEA', 'KBFI', 'D9722', '72793524234', '72793494248', 'KRNT'], 'source': 'obs'}, {'datetime': '02:00:00', 'datetimeEpoch': 1640167200, 'temp': 8.3, 'feelslike': 5.7, 'humidity': 87.77, 'dew': 6.4, 'precip': 0.0, 'precipprob': 0.0, 'snow': 0.0, 'snowdepth': 0.0, 'preciptype': None, 'windgust': 29.5, 'windspeed': 15.7, 'winddir': 179.0, 'pressure': 1009.0, 'visibility': 11.6, 'cloudcover': 100.0, 'solarradiation': 112.0, 'solarenergy': 0.4, 'uvindex': 0.0, 'conditions': 'Overcast', 'icon': 'cloudy', 'stations': ['72793024233', 'KSEA', 'KBFI', 'D9722', '72793524234', '72793494248', 'KRNT'], 'source': 'obs'}, {'datetime': '03:00:00', 'datetimeEpoch': 1640170800, 'temp': 8.3, 'feelslike': 5.4, 'humidity': 87.77, 'dew': 6.4, 'precip': 0.296, 'precipprob': 100.0, 'snow': 0.0, 'snowdepth': 0.0, 'preciptype': ['rain'], 'windgust': 35.3, 'windspeed': 18.0, 'winddir': 175.0, 'pressure': 1008.8, 'visibility': 15.5, 'cloudcover': 100.0, 'solarradiation': 143.0, 'solarenergy': 0.5, 'uvindex': 0.0, 'conditions': 'Rain, Overcast', 'icon': 'rain', 'stations': ['72793024233', 'KSEA', 'KBFI', 'D9722', '72793524234', '72793494248', 'KRNT'], 'source': 'obs'}, {'datetime': '04:00:00', 'datetimeEpoch': 1640174400, 'temp': 8.0, 'feelslike': 4.6, 'humidity': 89.88, 'dew': 6.5, 'precip': 2.126, 'precipprob': 100.0, 'snow': 0.0, 'snowdepth': 0.0, 'preciptype': ['rain'], 'windgust': None, 'windspeed': 23.4, 'winddir': 95.0, 'pressure': 1008.2, 'visibility': 12.4, 'cloudcover': 100.0, 'solarradiation': 292.0, 'solarenergy': 1.1, 'uvindex': 0.0, 'conditions': 'Rain, Overcast', 'icon': 'rain', 'stations': ['72793024233', 'KSEA', 'KBFI', 'D9722', '72793524234', '72793494248', 'KRNT'], 'source': 'obs'}, {'datetime': '05:00:00', 'datetimeEpoch': 1640178000, 'temp': 8.0, 'feelslike': 5.7, 'humidity': 89.55, 'dew': 6.4, 'precip': 0.325, 'precipprob': 100.0, 'snow': 0.0, 'snowdepth': 0.0, 'preciptype': ['rain'], 'windgust': 37.1, 'windspeed': 13.0, 'winddir': 177.0, 'pressure': 1007.6, 'visibility': 9.7, 'cloudcover': 100.0, 'solarradiation': 15.0, 'solarenergy': 0.1, 'uvindex': 0.0, 'conditions': 'Rain, Overcast', 'icon': 'rain', 'stations': ['AT200', '72793024233', 'KSEA', 'KBFI', '72793524234', '72793494248', 'KRNT'], 'source': 'obs'}, {'datetime': '06:00:00', 'datetimeEpoch': 1640181600, 'temp': 8.2, 'feelslike': 5.3, 'humidity': 89.16, 'dew': 6.5, 'precip': 0.314, 'precipprob': 100.0, 'snow': 0.0, 'snowdepth': 0.0, 'preciptype': ['rain'], 'windgust': 40.7, 'windspeed': 17.8, 'winddir': 173.0, 'pressure': 1007.2, 'visibility': 13.7, 'cloudcover': 100.0, 'solarradiation': 63.0, 'solarenergy': 0.2, 'uvindex': 0.0, 'conditions': 'Rain, Overcast', 'icon': 'rain', 'stations': ['AT200', '72793024233', 'KSEA', 'KBFI', '72793524234', '72793494248', 'KRNT'], 'source': 'obs'}, {'datetime': '07:00:00', 'datetimeEpoch': 1640185200, 'temp': 8.0, 'feelslike': 4.8, 'humidity': 89.03, 'dew': 6.3, 'precip': 0.026, 'precipprob': 100.0, 'snow': 0.0, 'snowdepth': 0.0, 'preciptype': ['rain'], 'windgust': 42.5, 'windspeed': 20.3, 'winddir': 157.0, 'pressure': 1006.6, 'visibility': 16.0, 'cloudcover': 98.1, 'solarradiation': 124.0, 'solarenergy': 0.4, 'uvindex': 0.0, 'conditions': 'Rain, Overcast', 'icon': 'rain', 'stations': ['AT200', '72793024233', 'KSEA', 'KBFI', '72793524234', '72793494248', 'KRNT'], 'source': 'obs'}, {'datetime': '08:00:00', 'datetimeEpoch': 1640188800, 'temp': 8.0, 'feelslike': 5.0, 'humidity': 87.05, 'dew': 5.9, 'precip': 0.0, 'precipprob': 0.0, 'snow': 0.0, 'snowdepth': 0.0, 'preciptype': None, 'windgust': 37.1, 'windspeed': 18.2, 'winddir': 162.0, 'pressure': 1006.1, 'visibility': 16.0, 'cloudcover': 89.0, 'solarradiation': 5.0, 'solarenergy': 0.0, 'uvindex': 0.0, 'conditions': 'Partially cloudy', 'icon': 'partly-cloudy-day', 'stations': ['72793024233', 'KSEA', 'KBFI', '72793524234', '72793494248', 'F0821', 'KRNT'], 'source': 'obs'}, {'datetime': '09:00:00', 'datetimeEpoch': 1640192400, 'temp': 8.2, 'feelslike': 5.4, 'humidity': 87.81, 'dew': 6.3, 'precip': 0.0, 'precipprob': 0.0, 'snow': 0.0, 'snowdepth': 0.0, 'preciptype': None, 'windgust': 37.1, 'windspeed': 17.1, 'winddir': 154.0, 'pressure': 1005.5, 'visibility': 14.8, 'cloudcover': 93.5, 'solarradiation': 10.0, 'solarenergy': 0.0, 'uvindex': 0.0, 'conditions': 'Overcast', 'icon': 'cloudy', 'stations': ['72793024233', 'KSEA', 'KBFI', '72793524234', '72793494248', 'F0821', 'KRNT'], 'source': 'obs'}, {'datetime': '10:00:00', 'datetimeEpoch': 1640196000, 'temp': 8.4, 'feelslike': 5.5, 'humidity': 83.7, 'dew': 5.8, 'precip': 0.0, 'precipprob': 0.0, 'snow': 0.0, 'snowdepth': 0.0, 'preciptype': None, 'windgust': None, 'windspeed': 19.1, 'winddir': 140.0, 'pressure': 1004.9, 'visibility': 16.0, 'cloudcover': 90.0, 'solarradiation': 50.0, 'solarenergy': 0.2, 'uvindex': 1.0, 'conditions': 'Partially cloudy', 'icon': 'partly-cloudy-day', 'stations': ['72793024233', 'KSEA', 'KBFI', '72793524234', '72793494248', 'F0821', 'KRNT'], 'source': 'obs'}, {'datetime': '11:00:00', 'datetimeEpoch': 1640199600, 'temp': 8.9, 'feelslike': 6.8, 'humidity': 80.92, 'dew': 5.8, 'precip': 0.0, 'precipprob': 0.0, 'snow': 0.0, 'snowdepth': 0.0, 'preciptype': None, 'windgust': None, 'windspeed': 13.5, 'winddir': 144.0, 'pressure': 1004.1, 'visibility': 16.0, 'cloudcover': 79.7, 'solarradiation': 74.0, 'solarenergy': 0.3, 'uvindex': 1.0, 'conditions': 'Partially cloudy', 'icon': 'partly-cloudy-day', 'stations': ['72793024233', 'KSEA', 'KBFI', '72793524234', '72793494248', 'F0821', 'KRNT'], 'source': 'obs'}, {'datetime': '12:00:00', 'datetimeEpoch': 1640203200, 'temp': 9.9, 'feelslike': 7.8, 'humidity': 74.35, 'dew': 5.5, 'precip': 0.0, 'precipprob': 0.0, 'snow': 0.0, 'snowdepth': 0.0, 'preciptype': None, 'windgust': None, 'windspeed': 15.2, 'winddir': 182.0, 'pressure': 1003.0, 'visibility': 16.0, 'cloudcover': 57.7, 'solarradiation': 110.0, 'solarenergy': 0.4, 'uvindex': 1.0, 'conditions': 'Partially cloudy', 'icon': 'partly-cloudy-day', 'stations': ['72793024233', 'KSEA', 'KBFI', '72793524234', '72793494248', 'F0821', 'KRNT'], 'source': 'obs'}, {'datetime': '13:00:00', 'datetimeEpoch': 1640206800, 'temp': 9.4, 'feelslike': 6.8, 'humidity': 79.39, 'dew': 6.0, 'precip': 0.051, 'precipprob': 100.0, 'snow': 0.0, 'snowdepth': 0.0, 'preciptype': ['rain'], 'windgust': None, 'windspeed': 18.8, 'winddir': 170.0, 'pressure': 1002.2, 'visibility': 13.7, 'cloudcover': 100.0, 'solarradiation': 74.0, 'solarenergy': 0.3, 'uvindex': 1.0, 'conditions': 'Rain, Overcast', 'icon': 'rain', 'stations': ['72793024233', 'KSEA', 'KBFI', '72793524234', '72793494248', 'F0821', 'KRNT'], 'source': 'obs'}, {'datetime': '14:00:00', 'datetimeEpoch': 1640210400, 'temp': 8.6, 'feelslike': 7.2, 'humidity': 86.74, 'dew': 6.5, 'precip': 1.197, 'precipprob': 100.0, 'snow': 0.0, 'snowdepth': 0.0, 'preciptype': ['rain'], 'windgust': None, 'windspeed': 8.5, 'winddir': 148.0, 'pressure': 1001.5, 'visibility': 7.2, 'cloudcover': 100.0, 'solarradiation': 22.0, 'solarenergy': 0.1, 'uvindex': 0.0, 'conditions': 'Rain, Overcast', 'icon': 'rain', 'stations': ['72793024233', 'KSEA', 'KBFI', '72793524234', '72793494248', 'F0821', 'KRNT'], 'source': 'obs'}, {'datetime': '15:00:00', 'datetimeEpoch': 1640214000, 'temp': 8.1, 'feelslike': 6.3, 'humidity': 90.02, 'dew': 6.6, 'precip': 2.144, 'precipprob': 100.0, 'snow': 0.0, 'snowdepth': 0.0, 'preciptype': ['rain'], 'windgust': 31.7, 'windspeed': 10.9, 'winddir': 141.0, 'pressure': 1000.9, 'visibility': 6.3, 'cloudcover': 100.0, 'solarradiation': 15.0, 'solarenergy': 0.1, 'uvindex': 0.0, 'conditions': 'Rain, Overcast', 'icon': 'rain', 'stations': ['72793024233', 'KSEA', 'KBFI', '72793524234', '72793494248', 'F0821', 'KRNT'], 'source': 'obs'}, {'datetime': '16:00:00', 'datetimeEpoch': 1640217600, 'temp': 7.7, 'feelslike': 5.8, 'humidity': 88.94, 'dew': 5.9, 'precip': 3.395, 'precipprob': 100.0, 'snow': 0.0, 'snowdepth': 0.0, 'preciptype': ['rain'], 'windgust': None, 'windspeed': 10.3, 'winddir': 170.0, 'pressure': 1000.6, 'visibility': 5.8, 'cloudcover': 100.0, 'solarradiation': 8.0, 'solarenergy': 0.0, 'uvindex': 0.0, 'conditions': 'Rain, Overcast', 'icon': 'rain', 'stations': ['72793024233', 'KSEA', 'KBFI', '72793524234', '72793494248', 'F0821', 'KRNT'], 'source': 'obs'}, {'datetime': '17:00:00', 'datetimeEpoch': 1640221200, 'temp': 7.1, 'feelslike': 4.3, 'humidity': 93.03, 'dew': 6.1, 'precip': 0.725, 'precipprob': 100.0, 'snow': 0.0, 'snowdepth': 0.0, 'preciptype': ['rain'], 'windgust': None, 'windspeed': 15.5, 'winddir': 150.0, 'pressure': 1000.0, 'visibility': 15.7, 'cloudcover': 100.0, 'solarradiation': 2.0, 'solarenergy': 0.0, 'uvindex': 0.0, 'conditions': 'Rain, Overcast', 'icon': 'rain', 'stations': ['72793024233', 'KSEA', 'KBFI', '72793524234', '72793494248', 'F9061', 'KRNT'], 'source': 'obs'}, {'datetime': '18:00:00', 'datetimeEpoch': 1640224800, 'temp': 7.4, 'feelslike': 5.1, 'humidity': 94.15, 'dew': 6.5, 'precip': 0.051, 'precipprob': 100.0, 'snow': 0.0, 'snowdepth': 0.0, 'preciptype': ['rain'], 'windgust': None, 'windspeed': 12.0, 'winddir': 154.0, 'pressure': 999.3, 'visibility': 16.0, 'cloudcover': 100.0, 'solarradiation': 0.0, 'solarenergy': 0.0, 'uvindex': 0.0, 'conditions': 'Rain, Overcast', 'icon': 'rain', 'stations': ['72793024233', 'KSEA', 'KBFI', '72793524234', '72793494248', 'KRNT'], 'source': 'obs'}, {'datetime': '19:00:00', 'datetimeEpoch': 1640228400, 'temp': 7.4, 'feelslike': 4.3, 'humidity': 90.78, 'dew': 5.9, 'precip': 0.0, 'precipprob': 0.0, 'snow': 0.0, 'snowdepth': 0.0, 'preciptype': None, 'windgust': None, 'windspeed': 18.1, 'winddir': 157.0, 'pressure': 998.4, 'visibility': 16.0, 'cloudcover': 100.0, 'solarradiation': 0.0, 'solarenergy': 0.0, 'uvindex': 0.0, 'conditions': 'Overcast', 'icon': 'cloudy', 'stations': ['72793024233', 'KSEA', 'KBFI', '72793524234', '72793494248', 'KRNT'], 'source': 'obs'}, {'datetime': '20:00:00', 'datetimeEpoch': 1640232000, 'temp': 7.7, 'feelslike': 5.0, 'humidity': 87.07, 'dew': 5.7, 'precip': 0.0, 'precipprob': 0.0, 'snow': 0.0, 'snowdepth': 0.0, 'preciptype': None, 'windgust': None, 'windspeed': 15.7, 'winddir': 154.0, 'pressure': 998.1, 'visibility': 16.0, 'cloudcover': 100.0, 'solarradiation': 0.0, 'solarenergy': 0.0, 'uvindex': 0.0, 'conditions': 'Overcast', 'icon': 'cloudy', 'stations': ['72793024233', 'KSEA', 'KBFI', '72793524234', '72793494248', 'KRNT'], 'source': 'obs'}, {'datetime': '21:00:00', 'datetimeEpoch': 1640235600, 'temp': 6.9, 'feelslike': 4.5, 'humidity': 90.93, 'dew': 5.5, 'precip': 0.0, 'precipprob': 0.0, 'snow': 0.0, 'snowdepth': 0.0, 'preciptype': None, 'windgust': None, 'windspeed': 12.4, 'winddir': 159.0, 'pressure': 996.8, 'visibility': 16.0, 'cloudcover': 100.0, 'solarradiation': 0.0, 'solarenergy': 0.0, 'uvindex': 0.0, 'conditions': 'Overcast', 'icon': 'cloudy', 'stations': ['72793024233', 'KSEA', 'KBFI', '72793524234', '72793494248', 'KRNT'], 'source': 'obs'}, {'datetime': '22:00:00', 'datetimeEpoch': 1640239200, 'temp': 7.4, 'feelslike': 4.7, 'humidity': 87.25, 'dew': 5.4, 'precip': 0.025, 'precipprob': 100.0, 'snow': 0.0, 'snowdepth': 0.0, 'preciptype': ['rain'], 'windgust': None, 'windspeed': 14.9, 'winddir': 152.0, 'pressure': 996.5, 'visibility': 16.0, 'cloudcover': 100.0, 'solarradiation': 0.0, 'solarenergy': 0.0, 'uvindex': 0.0, 'conditions': 'Rain, Overcast', 'icon': 'rain', 'stations': ['72793024233', 'KSEA', 'KBFI', '72793524234', '72793494248', 'KRNT'], 'source': 'obs'}, {'datetime': '23:00:00', 'datetimeEpoch': 1640242800, 'temp': 7.8, 'feelslike': 5.7, 'humidity': 83.26, 'dew': 5.1, 'precip': 0.322, 'precipprob': 100.0, 'snow': 0.0, 'snowdepth': 0.0, 'preciptype': ['rain'], 'windgust': None, 'windspeed': 11.5, 'winddir': 150.0, 'pressure': 995.9, 'visibility': 16.0, 'cloudcover': 100.0, 'solarradiation': 0.0, 'solarenergy': 0.0, 'uvindex': 0.0, 'conditions': 'Rain, Overcast', 'icon': 'rain', 'stations': ['72793024233', 'KSEA', 'KBFI', '72793524234', '72793494248', 'KRNT'], 'source': 'obs'}]}], 'stations': {'AT200': {'distance': 37393.0, 'latitude': 47.6, 'longitude': -122.834, 'useCount': 0, 'id': 'AT200', 'name': 'KB2SKP Bremerton WA US', 'quality': 0, 'contribution': 0.0}, '72793024233': {'distance': 19676.0, 'latitude': 47.444, 'longitude': -122.314, 'useCount': 0, 'id': '72793024233', 'name': 'SEATTLE TACOMA AIRPORT, WA US', 'quality': 100, 'contribution': 0.0}, 'KSEA': {'distance': 19178.0, 'latitude': 47.45, 'longitude': -122.3, 'useCount': 0, 'id': 'KSEA', 'name': 'KSEA', 'quality': 100, 'contribution': 0.0}, 'KBFI': {'distance': 10443.0, 'latitude': 47.53, 'longitude': -122.3, 'useCount': 0, 'id': 'KBFI', 'name': 'KBFI', 'quality': 100, 'contribution': 0.0}, 'D9722': {'distance': 39571.0, 'latitude': 47.87, 'longitude': -121.96, 'useCount': 0, 'id': 'D9722', 'name': 'DW9722 Monroe WA US', 'quality': 0, 'contribution': 0.0}, '72793524234': {'distance': 10391.0, 'latitude': 47.53, 'longitude': -122.301, 'useCount': 0, 'id': '72793524234', 'name': 'SEATTLE BOEING FIELD, WA US', 'quality': 100, 'contribution': 0.0}, '72793494248': {'distance': 16894.0, 'latitude': 47.493, 'longitude': -122.214, 'useCount': 0, 'id': '72793494248', 'name': 'RENTON MUNICIPAL AIRPORT, WA US', 'quality': 100, 'contribution': 0.0}, 'F0821': {'distance': 1957.0, 'latitude': 47.612, 'longitude': -122.314, 'useCount': 0, 'id': 'F0821', 'name': 'FW0821 Seattle WA US', 'quality': 0, 'contribution': 0.0}, 'F9061': {'distance': 6447.0, 'latitude': 47.568, 'longitude': -122.372, 'useCount': 0, 'id': 'F9061', 'name': 'FW9061 Seattle WA US', 'quality': 0, 'contribution': 0.0}, 'KRNT': {'distance': 16022.0, 'latitude': 47.5, 'longitude': -122.22, 'useCount': 0, 'id': 'KRNT', 'name': 'KRNT', 'quality': 100, 'contribution': 0.0}}}\n"
     ]
    }
   ],
   "source": [
    "weather_data = get_weather_visualcrossing(t[0].x, t[0].y, \"2021-12-22T05:00:00\", weather_apikey)\n",
    "print(weather_data)\n",
    "\n"
   ]
  },
  {
   "cell_type": "code",
   "execution_count": null,
   "id": "71fcd341-14d5-4f13-8c1b-30ddcfaf6ca9",
   "metadata": {},
   "outputs": [],
   "source": []
  }
 ],
 "metadata": {
  "kernelspec": {
   "display_name": "crime-prediction",
   "language": "python",
   "name": "crime-prediction"
  },
  "language_info": {
   "codemirror_mode": {
    "name": "ipython",
    "version": 3
   },
   "file_extension": ".py",
   "mimetype": "text/x-python",
   "name": "python",
   "nbconvert_exporter": "python",
   "pygments_lexer": "ipython3",
   "version": "3.13.5"
  }
 },
 "nbformat": 4,
 "nbformat_minor": 5
}
