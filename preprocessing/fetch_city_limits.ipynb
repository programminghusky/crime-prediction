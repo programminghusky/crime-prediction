{
 "cells": [
  {
   "cell_type": "code",
   "execution_count": 13,
   "id": "96b5d020-39f2-4f89-89db-0309346f21aa",
   "metadata": {},
   "outputs": [],
   "source": [
    "import pandas as pd\n",
    "import geopandas as gpd\n",
    "import numpy as np\n",
    "from datetime import datetime\n",
    "from shapely.geometry import Point\n",
    "import random\n",
    "import pyproj\n",
    "import os\n",
    "os.chdir(\"D:/Projects/crime-prediction\")"
   ]
  },
  {
   "cell_type": "code",
   "execution_count": 14,
   "id": "c85e85d1-be8c-4a55-88fc-2cb1031a7a69",
   "metadata": {},
   "outputs": [],
   "source": [
    "beats_file_path =\"data/beats-data.geojson\"\n",
    "water_area_path ='data/water_area/water_area.geojson'\n",
    "city_limits_path = 'data/preprocessed/city_limits.geojson'\n",
    "city_limits_outline_path = 'data/preprocessed/city_limits_outline.geojson'"
   ]
  },
  {
   "cell_type": "code",
   "execution_count": 15,
   "id": "432dafbf-3da8-4723-9eac-c5bb73051d2c",
   "metadata": {},
   "outputs": [],
   "source": [
    "beats = gpd.read_file(beats_file_path)\n",
    "water_area_gdf = gpd.read_file(water_area_path)\n",
    "water_area_gdf = water_area_gdf.to_crs(\"EPSG:4326\")\n",
    "\n",
    "city_limits_gdf = gpd.GeoDataFrame(pd.DataFrame({\"City\": \"Seattle\"}, index=[0]), geometry=[beats.geometry.union_all()], crs=\"EPSG:4326\")\n",
    "city_limits_gdf.to_file(city_limits_outline_path, driver=\"GeoJSON\")\n",
    "city_limits_gdf = city_limits_gdf.overlay(water_area_gdf, how='difference')\n",
    "city_limits_gdf.to_file(city_limits_path, driver=\"GeoJSON\")\n",
    "\n",
    "estimated_utm_crs = city_limits_gdf.estimate_utm_crs()\n",
    "city_limits_proj_gdf = city_limits_gdf.to_crs(estimated_utm_crs)\n",
    "city_limits_gdf['centroid'] = city_limits_proj_gdf.geometry.centroid.to_crs(city_limits_gdf.crs)\n",
    "city_limits_gdf.to_csv('data/preprocessed/city-limits.csv', index=False)"
   ]
  },
  {
   "cell_type": "code",
   "execution_count": null,
   "id": "64fb2c93-c706-46e1-9b12-fdb3615196ef",
   "metadata": {},
   "outputs": [],
   "source": []
  }
 ],
 "metadata": {
  "kernelspec": {
   "display_name": "Python 3 (ipykernel)",
   "language": "python",
   "name": "python3"
  },
  "language_info": {
   "codemirror_mode": {
    "name": "ipython",
    "version": 3
   },
   "file_extension": ".py",
   "mimetype": "text/x-python",
   "name": "python",
   "nbconvert_exporter": "python",
   "pygments_lexer": "ipython3",
   "version": "3.13.5"
  }
 },
 "nbformat": 4,
 "nbformat_minor": 5
}
