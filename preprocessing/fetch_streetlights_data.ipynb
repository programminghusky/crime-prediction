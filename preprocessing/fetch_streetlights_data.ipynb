{
 "cells": [
  {
   "cell_type": "code",
   "execution_count": 1,
   "id": "315775ee-7daa-49cf-8d79-d7931b887f57",
   "metadata": {},
   "outputs": [],
   "source": [
    "import numpy as np\n",
    "import pandas as pd\n",
    "import geopandas as gpd\n",
    "from shapely import wkt\n",
    "import matplotlib as plt\n",
    "import requests\n",
    "from urllib.parse import quote\n",
    "import json\n",
    "import pyproj\n",
    "import os\n",
    "os.chdir(\"D:/Projects/crime-prediction\")"
   ]
  },
  {
   "cell_type": "code",
   "execution_count": 2,
   "id": "43004d6e-8485-4cc7-82fc-2c794a2fb4e2",
   "metadata": {},
   "outputs": [],
   "source": [
    "steetlights_path = 'data/street_lights_data.geojson'"
   ]
  },
  {
   "cell_type": "code",
   "execution_count": 20,
   "id": "be9035fd-a2cf-432e-a3e6-e0f5cb019516",
   "metadata": {},
   "outputs": [],
   "source": [
    "def parse_streetlights_data():\n",
    "    gdf = gpd.read_file(steetlights_path) \\\n",
    "            .drop(columns = {\"OBJECTID\", \"SUBTYPECD\", \"HEIGHT\", \"ASSET_ID\", \"Field\"})\n",
    "    gdf = gdf[gdf[\"HasStreetlight\"] == \"Yes\"].drop(columns = {\"HasStreetlight\"})\n",
    "    return gdf"
   ]
  },
  {
   "cell_type": "code",
   "execution_count": 21,
   "id": "bd9d1013-87e9-4df6-951d-7fa581ce6146",
   "metadata": {},
   "outputs": [],
   "source": [
    "streetlights_gdf = parse_streetlights_data()\n"
   ]
  },
  {
   "cell_type": "code",
   "execution_count": 23,
   "id": "5b86758c-c5a3-4057-bce5-182631dc2856",
   "metadata": {},
   "outputs": [],
   "source": [
    "streetlights_gdf.to_file('data/preprocessed/streetlights_data.geojson', driver=\"GeoJSON\")"
   ]
  },
  {
   "cell_type": "code",
   "execution_count": null,
   "id": "8a012526-2a8d-4e6b-8e9c-7d9d2cfd0f3f",
   "metadata": {},
   "outputs": [],
   "source": []
  }
 ],
 "metadata": {
  "kernelspec": {
   "display_name": "Python 3 (ipykernel)",
   "language": "python",
   "name": "python3"
  },
  "language_info": {
   "codemirror_mode": {
    "name": "ipython",
    "version": 3
   },
   "file_extension": ".py",
   "mimetype": "text/x-python",
   "name": "python",
   "nbconvert_exporter": "python",
   "pygments_lexer": "ipython3",
   "version": "3.13.5"
  }
 },
 "nbformat": 4,
 "nbformat_minor": 5
}
