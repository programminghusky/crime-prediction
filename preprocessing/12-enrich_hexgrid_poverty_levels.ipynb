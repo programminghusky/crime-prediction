{
 "cells": [
  {
   "cell_type": "code",
   "execution_count": 65,
   "id": "99aa9188-e571-411e-868c-26d70a3862fc",
   "metadata": {},
   "outputs": [],
   "source": [
    "import numpy as np\n",
    "import pandas as pd\n",
    "import geopandas as gpd\n",
    "from shapely import wkt\n",
    "import json\n",
    "import datetime\n",
    "import pyproj\n",
    "import os\n",
    "os.chdir(\"D:/Projects/crime-prediction\")"
   ]
  },
  {
   "cell_type": "code",
   "execution_count": 66,
   "id": "fa4bf604-c747-4a4a-8710-f9ca7528abc2",
   "metadata": {},
   "outputs": [],
   "source": [
    "poverty_data_file_path = 'data/preprocessed/poverty_data.geojson'\n",
    "hex_grid_path = 'data/preprocessed/hex_grid.geojson'\n",
    "hex_grid_tract_intersections_path = 'data/preprocessed/hex_grid_census_tract_intersections.csv'"
   ]
  },
  {
   "cell_type": "code",
   "execution_count": 67,
   "id": "b9bab440-0e2e-4ea9-9afd-f0ed441efc19",
   "metadata": {},
   "outputs": [],
   "source": [
    "poverty_levels_gdf = gpd.read_file(poverty_data_file_path)"
   ]
  },
  {
   "cell_type": "code",
   "execution_count": 68,
   "id": "28773c54-d3bd-49ed-800d-b6d670e53f17",
   "metadata": {},
   "outputs": [
    {
     "name": "stdout",
     "output_type": "stream",
     "text": [
      "Index(['Tract Name', 'Tract Population', 'Tract Population Below Poverty',\n",
      "       'geometry'],\n",
      "      dtype='object')\n"
     ]
    }
   ],
   "source": [
    "print(poverty_levels_gdf.columns)"
   ]
  },
  {
   "cell_type": "code",
   "execution_count": 69,
   "id": "2abc4259-a179-4076-9256-e5e96de9e469",
   "metadata": {},
   "outputs": [],
   "source": [
    "def parse_hex_grid():\n",
    "    gdf = gpd.read_file(hex_grid_path)\n",
    "    return gdf"
   ]
  },
  {
   "cell_type": "code",
   "execution_count": 70,
   "id": "ce266d4c-8cdc-4be1-8d57-a02be2146c8b",
   "metadata": {},
   "outputs": [],
   "source": [
    "hex_grid_gdf = parse_hex_grid()"
   ]
  },
  {
   "cell_type": "code",
   "execution_count": 71,
   "id": "c3ad2f49-5b01-47b9-8093-276378495072",
   "metadata": {},
   "outputs": [],
   "source": [
    "def parse_grid_tract_data():\n",
    "    df = pd.read_csv(hex_grid_tract_intersections_path)\n",
    "    return df"
   ]
  },
  {
   "cell_type": "code",
   "execution_count": 72,
   "id": "ae7c09bc-7c0b-4751-a8ac-9d0c5a697554",
   "metadata": {},
   "outputs": [],
   "source": [
    "hex_grid_tract_intersections_df = parse_grid_tract_data()"
   ]
  },
  {
   "cell_type": "code",
   "execution_count": 73,
   "id": "4330600e-171b-4957-8531-fcc0e91a43db",
   "metadata": {},
   "outputs": [
    {
     "name": "stdout",
     "output_type": "stream",
     "text": [
      "Index(['Grid Id', 'Tract Name', 'Area Fraction', 'Tract Area Fraction'], dtype='object')\n"
     ]
    }
   ],
   "source": [
    "print(hex_grid_tract_intersections_df.columns)"
   ]
  },
  {
   "cell_type": "code",
   "execution_count": 74,
   "id": "b99768e8-dda9-4b1a-bfe1-f7984fc1909d",
   "metadata": {},
   "outputs": [
    {
     "name": "stdout",
     "output_type": "stream",
     "text": [
      "Index(['Grid Id', 'Grid Area', 'Streetlight Count', 'HouseHold Income',\n",
      "       'Building Count', 'White_Total', 'Black_Total', 'Color_Total',\n",
      "       '18_Under_Total', '65_Over_Total', 'geometry'],\n",
      "      dtype='object')\n"
     ]
    }
   ],
   "source": [
    "print(hex_grid_gdf.columns)"
   ]
  },
  {
   "cell_type": "code",
   "execution_count": 75,
   "id": "3ded8d82-e9ea-42d3-a07c-3c4a478cfa64",
   "metadata": {},
   "outputs": [],
   "source": [
    "hex_grid_tract_intersections_joined_df = pd.merge(hex_grid_gdf, hex_grid_tract_intersections_df, on='Grid Id', how='inner')"
   ]
  },
  {
   "cell_type": "code",
   "execution_count": 76,
   "id": "e4f73c09-8713-4ead-8afb-31eb4e390fbc",
   "metadata": {},
   "outputs": [
    {
     "name": "stdout",
     "output_type": "stream",
     "text": [
      "Index(['Grid Id', 'Grid Area', 'Streetlight Count', 'HouseHold Income',\n",
      "       'Building Count', 'White_Total', 'Black_Total', 'Color_Total',\n",
      "       '18_Under_Total', '65_Over_Total', 'geometry', 'Tract Name',\n",
      "       'Area Fraction', 'Tract Area Fraction'],\n",
      "      dtype='object')\n"
     ]
    }
   ],
   "source": [
    "print(hex_grid_tract_intersections_joined_df.columns)"
   ]
  },
  {
   "cell_type": "code",
   "execution_count": 62,
   "id": "c11459bc-1733-42c3-9f2a-b069182097ba",
   "metadata": {},
   "outputs": [],
   "source": [
    "def computeTractPovertyLevel(row):\n",
    "    return row['Tract Area Fraction'] * poverty_levels_gdf[poverty_levels_gdf['Tract Name'] == row['Tract Name']][['Tract Population', \n",
    "             'Tract Population Below Poverty']].reset_index(drop=True)\n",
    "        \n",
    "def computePovertyLevel(row):  \n",
    "    poverty_level = hex_grid_tract_intersections_joined_df[hex_grid_tract_intersections_joined_df['Grid Id'] == row['Grid Id']] \\\n",
    "        .apply(computeTractPovertyLevel, axis=1)\n",
    "    return poverty_level[poverty_level.index[0]].sum()\n",
    "    \n",
    "hex_grid_gdf[['Tract Population', \n",
    "             'Tract Population Below Poverty']] = hex_grid_gdf.apply(computeRaceAndAge, axis=1, result_type='expand')"
   ]
  },
  {
   "cell_type": "code",
   "execution_count": 63,
   "id": "9a29ee58-d16b-4cde-b34b-d9e6014af111",
   "metadata": {},
   "outputs": [
    {
     "name": "stdout",
     "output_type": "stream",
     "text": [
      "    Grid Id     Grid Area  Streetlight Count  HouseHold Income  \\\n",
      "11       11  78400.737054                  0     163205.858633   \n",
      "\n",
      "    Building Count                                           geometry  \\\n",
      "11               6  POLYGON ((-122.41966 47.65473, -122.41801 47.6...   \n",
      "\n",
      "    White_Total  Black_Total  Color_Total  18_Under_Total  65_Over_Total  \n",
      "11     53.73766     0.305308    16.835063       15.251601       9.317932  \n"
     ]
    }
   ],
   "source": [
    "print(hex_grid_gdf[hex_grid_gdf['Grid Id'] ==11])"
   ]
  },
  {
   "cell_type": "code",
   "execution_count": 64,
   "id": "a8f26f72-32a8-4058-9426-77824f66413e",
   "metadata": {},
   "outputs": [],
   "source": [
    "hex_grid_gdf.to_file('data/preprocessed/hex_grid.geojson', driver=\"GeoJSON\")"
   ]
  },
  {
   "cell_type": "code",
   "execution_count": null,
   "id": "1cf8ee3d-3216-45a2-a3e8-0fdd5a8b84ed",
   "metadata": {},
   "outputs": [],
   "source": []
  }
 ],
 "metadata": {
  "kernelspec": {
   "display_name": "crime-prediction",
   "language": "python",
   "name": "crime-prediction"
  },
  "language_info": {
   "codemirror_mode": {
    "name": "ipython",
    "version": 3
   },
   "file_extension": ".py",
   "mimetype": "text/x-python",
   "name": "python",
   "nbconvert_exporter": "python",
   "pygments_lexer": "ipython3",
   "version": "3.13.5"
  }
 },
 "nbformat": 4,
 "nbformat_minor": 5
}
