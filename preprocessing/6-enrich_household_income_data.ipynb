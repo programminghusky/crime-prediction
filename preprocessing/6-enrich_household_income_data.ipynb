{
 "cells": [
  {
   "cell_type": "code",
   "execution_count": 15,
   "id": "c94ffae6-6d1b-41af-acb0-706c89609d73",
   "metadata": {},
   "outputs": [],
   "source": [
    "import numpy as np\n",
    "import pandas as pd\n",
    "import geopandas as gpd\n",
    "from shapely import wkt\n",
    "import json\n",
    "import datetime\n",
    "import pyproj\n",
    "import os\n",
    "os.chdir(\"D:/Projects/crime-prediction\")\n",
    "pyproj.datadir.set_data_dir(\"D:/ProgramData/anaconda3/envs/crime-prediction/Library/share/proj\")"
   ]
  },
  {
   "cell_type": "code",
   "execution_count": 16,
   "id": "46bc00bb-5a71-4ae0-b246-69791f7c092f",
   "metadata": {},
   "outputs": [],
   "source": [
    "pre_processed_file_path = 'data/preprocessed/preprocessed-5.csv'\n",
    "household_income_data_file_path = 'data/preprocessed/household_income_data.geojson'"
   ]
  },
  {
   "cell_type": "code",
   "execution_count": 17,
   "id": "881a3e56-bea8-4117-a08a-73e1a95d5f35",
   "metadata": {},
   "outputs": [],
   "source": [
    "def parse_preprocessed_data():\n",
    "    df = pd.read_csv(\n",
    "                         pre_processed_file_path,\n",
    "                         parse_dates=['Offense Date'],                       \n",
    "                         dtype={\n",
    "                             'Precinct': 'category',\n",
    "                             'Offense Category': 'category',\n",
    "                             'Latitude': np.float32,\n",
    "                             'Longitude': np.float32\n",
    "                         }\n",
    "                        )\n",
    "    df[\"Id\"] = df.index\n",
    "    gdf = gpd.GeoDataFrame(df, geometry= df[\"geometry\"].apply(wkt.loads), crs='EPSG:4326')\n",
    "    return gdf"
   ]
  },
  {
   "cell_type": "code",
   "execution_count": 18,
   "id": "b30be3fb-c2a6-4a99-98b6-6e2a37f61531",
   "metadata": {},
   "outputs": [
    {
     "name": "stdout",
     "output_type": "stream",
     "text": [
      "1280004\n"
     ]
    }
   ],
   "source": [
    "crime_gdf = parse_preprocessed_data()\n",
    "print(len(crime_gdf))"
   ]
  },
  {
   "cell_type": "code",
   "execution_count": 19,
   "id": "929bbea8-1662-4b24-8670-98c49dd5f834",
   "metadata": {},
   "outputs": [],
   "source": [
    "household_income_gdf = gpd.read_file(household_income_data_file_path)"
   ]
  },
  {
   "cell_type": "code",
   "execution_count": 20,
   "id": "364ad482-6f64-4ff8-aca3-63e9ba4b6f12",
   "metadata": {},
   "outputs": [
    {
     "name": "stdout",
     "output_type": "stream",
     "text": [
      "Index(['Tract Name', 'HouseHold Income', 'geometry'], dtype='object')\n",
      "Index(['Report Number', 'Offense Date', 'Latitude', 'Longitude', 'Beat',\n",
      "       'Precinct', 'Sector', 'Neighborhood', 'Reporting Area',\n",
      "       'Offense Category', 'geometry', 'centroid', 'Temperature', 'Wind Speed',\n",
      "       'Precipitation', 'Visibility', 'Tract Name', 'Tract Population',\n",
      "       'Tract Population Below Poverty', 'White_Total', 'Black_Total',\n",
      "       'Color_Total', '18_Under_Total', '65_Over_Total', 'Id',\n",
      "       'StreetLight Count'],\n",
      "      dtype='object')\n"
     ]
    }
   ],
   "source": [
    "print(household_income_gdf.columns)\n",
    "print(crime_gdf.columns)"
   ]
  },
  {
   "cell_type": "code",
   "execution_count": 21,
   "id": "8462a237-8064-413c-8a7f-2d38258e7537",
   "metadata": {},
   "outputs": [
    {
     "name": "stdout",
     "output_type": "stream",
     "text": [
      "1280004\n"
     ]
    }
   ],
   "source": [
    "crime_gdf = gpd.sjoin(crime_gdf, household_income_gdf, how=\"left\", predicate=\"within\") \\\n",
    "                .drop(columns=['index_right']) \\\n",
    "                .groupby(\"Id\") \\\n",
    "                .first()\n",
    "print(len(crime_gdf))"
   ]
  },
  {
   "cell_type": "code",
   "execution_count": 22,
   "id": "28439656-9cc1-4b39-9536-736eecd47c79",
   "metadata": {},
   "outputs": [],
   "source": [
    "crime_gdf.to_csv('data/preprocessed/preprocessed-6.csv', index=False)"
   ]
  }
 ],
 "metadata": {
  "kernelspec": {
   "display_name": "Python 3 (ipykernel)",
   "language": "python",
   "name": "python3"
  },
  "language_info": {
   "codemirror_mode": {
    "name": "ipython",
    "version": 3
   },
   "file_extension": ".py",
   "mimetype": "text/x-python",
   "name": "python",
   "nbconvert_exporter": "python",
   "pygments_lexer": "ipython3",
   "version": "3.13.5"
  }
 },
 "nbformat": 4,
 "nbformat_minor": 5
}
