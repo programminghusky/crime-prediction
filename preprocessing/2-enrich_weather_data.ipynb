{
 "cells": [
  {
   "cell_type": "code",
   "execution_count": 1,
   "id": "4bf3fbc9-bd0e-4506-aec8-2549d2d2fcbf",
   "metadata": {},
   "outputs": [],
   "source": [
    "import numpy as np\n",
    "import pandas as pd\n",
    "import geopandas as gpd\n",
    "from shapely import wkt\n",
    "import json\n",
    "import datetime\n",
    "import pyproj\n",
    "import os\n",
    "os.chdir(\"D:/Projects/crime-prediction\")\n",
    "pyproj.datadir.set_data_dir(\"D:/ProgramData/anaconda3/envs/crime-prediction/Library/share/proj\")"
   ]
  },
  {
   "cell_type": "code",
   "execution_count": 9,
   "id": "2f9afd2e-a6d8-480c-a640-c24e40b09049",
   "metadata": {},
   "outputs": [],
   "source": [
    "pre_processed_file_path = 'data/preprocessed/preprocessed-1.csv'\n",
    "weather_data_file_path = 'data/preprocessed/weather_data.json'"
   ]
  },
  {
   "cell_type": "code",
   "execution_count": 10,
   "id": "0d19fcd5-6ead-4ec7-9ab7-89e3a1a8f684",
   "metadata": {},
   "outputs": [],
   "source": [
    "with open(weather_data_file_path, 'r') as f:\n",
    "    weather_data = json.load(f)"
   ]
  },
  {
   "cell_type": "code",
   "execution_count": 11,
   "id": "eba63256-24c3-48c3-a094-292059c8f171",
   "metadata": {},
   "outputs": [],
   "source": [
    "def parse_preprocessed_data():\n",
    "    df = pd.read_csv(\n",
    "                         pre_processed_file_path,\n",
    "                         parse_dates=['Offense Date'],                       \n",
    "                         dtype={\n",
    "                             'Precinct': 'category',\n",
    "                             'Offense Category': 'category',\n",
    "                             'Latitude': np.float32,\n",
    "                             'Longitude': np.float32\n",
    "                         }\n",
    "                        )\n",
    "    gdf = gpd.GeoDataFrame(df, geometry= df[\"geometry\"].apply(wkt.loads), crs='EPSG:4326')\n",
    "    return gdf"
   ]
  },
  {
   "cell_type": "code",
   "execution_count": 12,
   "id": "a4cc620f-5255-4150-b703-d677f7e241f1",
   "metadata": {},
   "outputs": [
    {
     "name": "stdout",
     "output_type": "stream",
     "text": [
      "1280004\n"
     ]
    }
   ],
   "source": [
    "gdf = parse_preprocessed_data()\n",
    "print(len(gdf))"
   ]
  },
  {
   "cell_type": "code",
   "execution_count": 13,
   "id": "9379b890-0445-4b1e-bb26-e90ae0f14b89",
   "metadata": {},
   "outputs": [],
   "source": [
    "def getWeatherForDate(date):\n",
    "    # Convert date to ISO format string (YYYY-MM-DD) by rounding to day and removing timezone info\n",
    "    day_str = date.round('D').replace(tzinfo=None).isoformat()\n",
    "    # Extract the hour component from the date\n",
    "    hour_of_day = date.hour\n",
    "    # Return weather data for the specified day and hour from the weather_data dictionary\n",
    "    return (weather_data[day_str][hour_of_day]['feelslike'], \n",
    "            weather_data[day_str][hour_of_day]['windspeed'],\n",
    "            weather_data[day_str][hour_of_day]['precip'],\n",
    "            weather_data[day_str][hour_of_day]['visibility']\n",
    "           )"
   ]
  },
  {
   "cell_type": "code",
   "execution_count": 14,
   "id": "5e6a5344-0d19-44c9-a99f-bf39ce1f3e74",
   "metadata": {},
   "outputs": [],
   "source": [
    "# Map weather data to each row in the geodataframe\n",
    "# - Extracts temperature (feelslike), wind speed, precipitation, and visibility\n",
    "# - Uses the getWeatherForDate function which takes an offense date and returns weather metrics\n",
    "# - The apply method processes each row individually and returns a Series of weather values\n",
    "# - Results are assigned to new columns in the geodataframe\n",
    "gdf[['Temperature', 'Wind Speed', 'Precipitation', 'Visibility']] = gdf.apply(lambda row: getWeatherForDate(row['Offense Date']), axis=1, result_type='expand')"
   ]
  },
  {
   "cell_type": "code",
   "execution_count": 15,
   "id": "b87fe699-4200-414a-99eb-ab6282f931c6",
   "metadata": {},
   "outputs": [],
   "source": [
    "gdf.to_csv('data/preprocessed/preprocessed-2.csv', index=False)"
   ]
  }
 ],
 "metadata": {
  "kernelspec": {
   "display_name": "Python 3 (ipykernel)",
   "language": "python",
   "name": "python3"
  },
  "language_info": {
   "codemirror_mode": {
    "name": "ipython",
    "version": 3
   },
   "file_extension": ".py",
   "mimetype": "text/x-python",
   "name": "python",
   "nbconvert_exporter": "python",
   "pygments_lexer": "ipython3",
   "version": "3.13.5"
  }
 },
 "nbformat": 4,
 "nbformat_minor": 5
}
