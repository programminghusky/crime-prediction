{
 "cells": [
  {
   "cell_type": "code",
   "execution_count": 13,
   "id": "b043c740-4259-474a-a11c-315b7e318557",
   "metadata": {},
   "outputs": [],
   "source": [
    "import pandas as pd\n",
    "import geopandas as gpd\n",
    "import numpy as np\n",
    "from datetime import datetime\n",
    "from shapely.geometry import Point\n",
    "import random\n",
    "import pyproj\n",
    "import os\n",
    "os.chdir(\"D:/Projects/crime-prediction\")"
   ]
  },
  {
   "cell_type": "code",
   "execution_count": 14,
   "id": "3ff574f3-f4ed-45d4-a8d6-d4b3d5950660",
   "metadata": {},
   "outputs": [],
   "source": [
    "building_outlines_path ='data/building_outlines.geojson'"
   ]
  },
  {
   "cell_type": "code",
   "execution_count": 15,
   "id": "2aabac76-8fcc-44ba-bbc0-83240b19ed6b",
   "metadata": {},
   "outputs": [],
   "source": [
    "def parse_builing_outlines():\n",
    "   gdf = gpd.read_file(building_outlines_path)\n",
    "   estimated_utm_crs = gdf.estimate_utm_crs()\n",
    "   gdf_projected = gdf.to_crs(estimated_utm_crs)\n",
    "   centroids_geometry = gdf_projected.geometry.centroid\n",
    "   gdf_projected = gpd.GeoDataFrame(gdf[['PIN']], geometry=centroids_geometry, crs=estimated_utm_crs)\n",
    "   gdf = gdf_projected.to_crs(gdf.crs)\n",
    "   return gdf "
   ]
  },
  {
   "cell_type": "code",
   "execution_count": 16,
   "id": "1fa49f0d-c6db-4234-b6d4-83a7a2fb96a4",
   "metadata": {},
   "outputs": [],
   "source": [
    "buildings_gdf = parse_builing_outlines()"
   ]
  },
  {
   "cell_type": "code",
   "execution_count": 17,
   "id": "7674a82a-4614-43e4-a141-baf7c1ccd750",
   "metadata": {},
   "outputs": [],
   "source": [
    "buildings_gdf.to_file('data/preprocessed/buildings_data.geojson', driver=\"GeoJSON\")"
   ]
  },
  {
   "cell_type": "code",
   "execution_count": null,
   "id": "b3380ed3-4199-4535-8975-05b5e7211ed6",
   "metadata": {},
   "outputs": [],
   "source": []
  },
  {
   "cell_type": "code",
   "execution_count": null,
   "id": "6500da7b-69f7-41b3-be75-113f317dec87",
   "metadata": {},
   "outputs": [],
   "source": []
  }
 ],
 "metadata": {
  "kernelspec": {
   "display_name": "Python 3 (ipykernel)",
   "language": "python",
   "name": "python3"
  },
  "language_info": {
   "codemirror_mode": {
    "name": "ipython",
    "version": 3
   },
   "file_extension": ".py",
   "mimetype": "text/x-python",
   "name": "python",
   "nbconvert_exporter": "python",
   "pygments_lexer": "ipython3",
   "version": "3.13.5"
  }
 },
 "nbformat": 4,
 "nbformat_minor": 5
}
