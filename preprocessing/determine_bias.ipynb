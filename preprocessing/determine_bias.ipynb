{
 "cells": [
  {
   "cell_type": "code",
   "execution_count": 29,
   "id": "cda2b02f-82b1-4370-acaf-edab70f5edb9",
   "metadata": {},
   "outputs": [],
   "source": [
    "import numpy as np\n",
    "import pandas as pd\n",
    "import geopandas as gpd\n",
    "from shapely import wkt\n",
    "import json\n",
    "import datetime\n",
    "import pyproj\n",
    "import os\n",
    "os.chdir(\"D:/Projects/crime-prediction\")\n",
    "pyproj.datadir.set_data_dir(\"D:/ProgramData/anaconda3/envs/crime-prediction/Library/share/proj\")"
   ]
  },
  {
   "cell_type": "code",
   "execution_count": 30,
   "id": "ec1c56c0-dbae-4fec-aa27-aa98577d48a2",
   "metadata": {},
   "outputs": [],
   "source": [
    "pre_processed_file_path = 'data/preprocessed/preprocessed-6.csv'"
   ]
  },
  {
   "cell_type": "code",
   "execution_count": 31,
   "id": "ebfc3473-f194-437c-9e98-d5b289a2b07f",
   "metadata": {},
   "outputs": [],
   "source": [
    "def parse_preprocessed_data():\n",
    "    df = pd.read_csv(\n",
    "                         pre_processed_file_path,\n",
    "                         parse_dates=['Offense Date'],                       \n",
    "                         dtype={\n",
    "                             'Precinct': 'category',\n",
    "                             'Offense Category': 'category',\n",
    "                             'Latitude': np.float32,\n",
    "                             'Longitude': np.float32\n",
    "                         }\n",
    "                        )\n",
    "    df[\"Id\"] = df.index\n",
    "    gdf = gpd.GeoDataFrame(df, geometry= df[\"geometry\"].apply(wkt.loads), crs='EPSG:4326')\n",
    "    return gdf"
   ]
  },
  {
   "cell_type": "code",
   "execution_count": 32,
   "id": "bbf0e031-63b5-47ca-ab1a-7362b9fb3544",
   "metadata": {},
   "outputs": [
    {
     "name": "stdout",
     "output_type": "stream",
     "text": [
      "1280004\n"
     ]
    }
   ],
   "source": [
    "crime_gdf = parse_preprocessed_data()\n",
    "print(len(crime_gdf))"
   ]
  },
  {
   "cell_type": "code",
   "execution_count": 33,
   "id": "df50b66e-ec38-4779-a594-e1aa2712d6b3",
   "metadata": {},
   "outputs": [
    {
     "name": "stdout",
     "output_type": "stream",
     "text": [
      "Index(['Report Number', 'Offense Date', 'Latitude', 'Longitude', 'Beat',\n",
      "       'Precinct', 'Sector', 'Neighborhood', 'Reporting Area',\n",
      "       'Offense Category', 'geometry', 'centroid', 'Temperature', 'Wind Speed',\n",
      "       'Precipitation', 'Visibility', 'Tract Name_left', 'Tract Population',\n",
      "       'Tract Population Below Poverty', 'White_Total', 'Black_Total',\n",
      "       'Color_Total', '18_Under_Total', '65_Over_Total', 'StreetLight Count',\n",
      "       'Tract Name_right', 'HouseHold Income', 'Id'],\n",
      "      dtype='object')\n"
     ]
    }
   ],
   "source": [
    "print(crime_gdf.columns)"
   ]
  },
  {
   "cell_type": "code",
   "execution_count": 34,
   "id": "bea2b5a9-9fc1-46cf-ad94-11357517fb1a",
   "metadata": {},
   "outputs": [],
   "source": [
    "crime_gdf[\"HouseHold Income Level\"] = pd.qcut(crime_gdf['HouseHold Income'], q=5, labels=['Q1 (lowest)', 'Q2', 'Q3', 'Q4', 'Q5 (highest)'])\n"
   ]
  },
  {
   "cell_type": "code",
   "execution_count": 47,
   "id": "00f1dae5-2b26-445c-85a4-63016975feb4",
   "metadata": {},
   "outputs": [
    {
     "name": "stderr",
     "output_type": "stream",
     "text": [
      "C:\\Users\\Vimil\\AppData\\Local\\Temp\\ipykernel_7868\\1669089214.py:2: DeprecationWarning: DataFrameGroupBy.apply operated on the grouping columns. This behavior is deprecated, and in a future version of pandas the grouping columns will be excluded from the operation. Either pass `include_groups=False` to exclude the groupings or explicitly select the grouping columns after groupby to silence this warning.\n",
      "  .apply(lambda  x: (len(x)/x.groupby('Tract Name_left')['Tract Population'].mean().sum()) * 1000) \\\n"
     ]
    }
   ],
   "source": [
    "reporting_rates = crime_gdf.groupby([\"HouseHold Income Level\", \"Year\"], observed=False) \\\n",
    "                           .apply(lambda  x: (len(x)/x.groupby('Tract Name_left')['Tract Population'].mean().sum()) * 1000) \\\n",
    "                           .rename('reports_per_1000')"
   ]
  },
  {
   "cell_type": "code",
   "execution_count": 50,
   "id": "91495c17-0964-4306-b512-84b046685db5",
   "metadata": {},
   "outputs": [
    {
     "name": "stdout",
     "output_type": "stream",
     "text": [
      "HouseHold Income Level  Year\n",
      "Q1 (lowest)             2008    189.289984\n",
      "                        2009    173.619032\n",
      "                        2010    179.812636\n",
      "                        2011    170.544855\n",
      "                        2012    158.815265\n",
      "                        2013    172.002718\n",
      "                        2014    186.179805\n",
      "                        2015    178.194742\n",
      "                        2016    181.148034\n",
      "                        2017    188.398066\n",
      "                        2018    194.300847\n",
      "                        2019    177.992873\n",
      "                        2020    184.424820\n",
      "                        2021    194.270464\n",
      "                        2022    191.926034\n",
      "                        2023    173.955089\n",
      "                        2024    182.477699\n",
      "                        2025     92.272637\n",
      "Q2                      2008    140.628388\n",
      "                        2009    146.246874\n",
      "                        2010    147.321811\n",
      "                        2011    143.797790\n",
      "                        2012    144.795155\n",
      "                        2013    155.954555\n",
      "                        2014    167.025300\n",
      "                        2015    154.899653\n",
      "                        2016    168.709738\n",
      "                        2017    172.499723\n",
      "                        2018    174.882316\n",
      "                        2019    155.688591\n",
      "                        2020    160.643787\n",
      "                        2021    153.527635\n",
      "                        2022    162.947188\n",
      "                        2023    157.605747\n",
      "                        2024    161.121724\n",
      "                        2025     75.957872\n",
      "Q3                      2008    169.330300\n",
      "                        2009    171.668045\n",
      "                        2010    166.971009\n",
      "                        2011    158.374140\n",
      "                        2012    147.650237\n",
      "                        2013    169.459576\n",
      "                        2014    174.061125\n",
      "                        2015    175.395509\n",
      "                        2016    189.002343\n",
      "                        2017    188.807917\n",
      "                        2018    197.814160\n",
      "                        2019    178.972151\n",
      "                        2020    160.819615\n",
      "                        2021    152.071925\n",
      "                        2022    166.841732\n",
      "                        2023    151.910329\n",
      "                        2024    157.332255\n",
      "                        2025     67.503732\n",
      "Q4                      2008    111.485169\n",
      "                        2009    117.439888\n",
      "                        2010    112.774489\n",
      "                        2011    103.220108\n",
      "                        2012    100.552035\n",
      "                        2013    108.325218\n",
      "                        2014    114.399181\n",
      "                        2015    113.609193\n",
      "                        2016    117.126874\n",
      "                        2017    119.004959\n",
      "                        2018    123.081594\n",
      "                        2019    110.106417\n",
      "                        2020    123.513851\n",
      "                        2021    112.364589\n",
      "                        2022    113.676267\n",
      "                        2023    107.691737\n",
      "                        2024    106.648357\n",
      "                        2025     49.083583\n",
      "Q5 (highest)            2008     79.419056\n",
      "                        2009     84.479513\n",
      "                        2010     83.087888\n",
      "                        2011     75.316471\n",
      "                        2012     71.460885\n",
      "                        2013     78.045503\n",
      "                        2014     85.973553\n",
      "                        2015     82.750524\n",
      "                        2016     86.407306\n",
      "                        2017     77.653920\n",
      "                        2018     75.057424\n",
      "                        2019     68.587268\n",
      "                        2020     88.353173\n",
      "                        2021     69.340312\n",
      "                        2022     69.328263\n",
      "                        2023     70.352404\n",
      "                        2024     68.093271\n",
      "                        2025     31.133860\n",
      "Name: reports_per_1000, dtype: float64\n"
     ]
    }
   ],
   "source": [
    "pd.set_option('display.max_rows', None)\n",
    "print(reporting_rates)"
   ]
  },
  {
   "cell_type": "code",
   "execution_count": 38,
   "id": "6bc3e9f0-9668-45c1-a01d-8fe76b30cb8e",
   "metadata": {},
   "outputs": [],
   "source": [
    "crime_gdf[\"Year\"] = crime_gdf['Offense Date'].dt.year"
   ]
  },
  {
   "cell_type": "code",
   "execution_count": 49,
   "id": "f75fac5b-d975-4405-97c1-ae29df54c854",
   "metadata": {},
   "outputs": [
    {
     "ename": "KeyboardInterrupt",
     "evalue": "",
     "output_type": "error",
     "traceback": [
      "\u001b[31m---------------------------------------------------------------------------\u001b[39m",
      "\u001b[31mKeyboardInterrupt\u001b[39m                         Traceback (most recent call last)",
      "\u001b[36mCell\u001b[39m\u001b[36m \u001b[39m\u001b[32mIn[49]\u001b[39m\u001b[32m, line 2\u001b[39m\n\u001b[32m      1\u001b[39m pd.set_option(\u001b[33m'\u001b[39m\u001b[33mdisplay.max_rows\u001b[39m\u001b[33m'\u001b[39m, \u001b[38;5;28;01mNone\u001b[39;00m)\n\u001b[32m----> \u001b[39m\u001b[32m2\u001b[39m \u001b[38;5;28;43mprint\u001b[39;49m\u001b[43m(\u001b[49m\u001b[43mcrime_gdf\u001b[49m\u001b[43m)\u001b[49m\n",
      "\u001b[36mFile \u001b[39m\u001b[32mD:\\ProgramData\\anaconda3\\Lib\\site-packages\\pandas\\core\\frame.py:1214\u001b[39m, in \u001b[36mDataFrame.__repr__\u001b[39m\u001b[34m(self)\u001b[39m\n\u001b[32m   1211\u001b[39m     \u001b[38;5;28;01mreturn\u001b[39;00m buf.getvalue()\n\u001b[32m   1213\u001b[39m repr_params = fmt.get_dataframe_repr_params()\n\u001b[32m-> \u001b[39m\u001b[32m1214\u001b[39m \u001b[38;5;28;01mreturn\u001b[39;00m \u001b[38;5;28;43mself\u001b[39;49m\u001b[43m.\u001b[49m\u001b[43mto_string\u001b[49m\u001b[43m(\u001b[49m\u001b[43m*\u001b[49m\u001b[43m*\u001b[49m\u001b[43mrepr_params\u001b[49m\u001b[43m)\u001b[49m\n",
      "\u001b[36mFile \u001b[39m\u001b[32mD:\\ProgramData\\anaconda3\\Lib\\site-packages\\pandas\\util\\_decorators.py:333\u001b[39m, in \u001b[36mdeprecate_nonkeyword_arguments.<locals>.decorate.<locals>.wrapper\u001b[39m\u001b[34m(*args, **kwargs)\u001b[39m\n\u001b[32m    327\u001b[39m \u001b[38;5;28;01mif\u001b[39;00m \u001b[38;5;28mlen\u001b[39m(args) > num_allow_args:\n\u001b[32m    328\u001b[39m     warnings.warn(\n\u001b[32m    329\u001b[39m         msg.format(arguments=_format_argument_list(allow_args)),\n\u001b[32m    330\u001b[39m         \u001b[38;5;167;01mFutureWarning\u001b[39;00m,\n\u001b[32m    331\u001b[39m         stacklevel=find_stack_level(),\n\u001b[32m    332\u001b[39m     )\n\u001b[32m--> \u001b[39m\u001b[32m333\u001b[39m \u001b[38;5;28;01mreturn\u001b[39;00m \u001b[43mfunc\u001b[49m\u001b[43m(\u001b[49m\u001b[43m*\u001b[49m\u001b[43margs\u001b[49m\u001b[43m,\u001b[49m\u001b[43m \u001b[49m\u001b[43m*\u001b[49m\u001b[43m*\u001b[49m\u001b[43mkwargs\u001b[49m\u001b[43m)\u001b[49m\n",
      "\u001b[36mFile \u001b[39m\u001b[32mD:\\ProgramData\\anaconda3\\Lib\\site-packages\\pandas\\core\\frame.py:1394\u001b[39m, in \u001b[36mDataFrame.to_string\u001b[39m\u001b[34m(self, buf, columns, col_space, header, index, na_rep, formatters, float_format, sparsify, index_names, justify, max_rows, max_cols, show_dimensions, decimal, line_width, min_rows, max_colwidth, encoding)\u001b[39m\n\u001b[32m   1375\u001b[39m \u001b[38;5;28;01mwith\u001b[39;00m option_context(\u001b[33m\"\u001b[39m\u001b[33mdisplay.max_colwidth\u001b[39m\u001b[33m\"\u001b[39m, max_colwidth):\n\u001b[32m   1376\u001b[39m     formatter = fmt.DataFrameFormatter(\n\u001b[32m   1377\u001b[39m         \u001b[38;5;28mself\u001b[39m,\n\u001b[32m   1378\u001b[39m         columns=columns,\n\u001b[32m   (...)\u001b[39m\u001b[32m   1392\u001b[39m         decimal=decimal,\n\u001b[32m   1393\u001b[39m     )\n\u001b[32m-> \u001b[39m\u001b[32m1394\u001b[39m     \u001b[38;5;28;01mreturn\u001b[39;00m \u001b[43mfmt\u001b[49m\u001b[43m.\u001b[49m\u001b[43mDataFrameRenderer\u001b[49m\u001b[43m(\u001b[49m\u001b[43mformatter\u001b[49m\u001b[43m)\u001b[49m\u001b[43m.\u001b[49m\u001b[43mto_string\u001b[49m\u001b[43m(\u001b[49m\n\u001b[32m   1395\u001b[39m \u001b[43m        \u001b[49m\u001b[43mbuf\u001b[49m\u001b[43m=\u001b[49m\u001b[43mbuf\u001b[49m\u001b[43m,\u001b[49m\n\u001b[32m   1396\u001b[39m \u001b[43m        \u001b[49m\u001b[43mencoding\u001b[49m\u001b[43m=\u001b[49m\u001b[43mencoding\u001b[49m\u001b[43m,\u001b[49m\n\u001b[32m   1397\u001b[39m \u001b[43m        \u001b[49m\u001b[43mline_width\u001b[49m\u001b[43m=\u001b[49m\u001b[43mline_width\u001b[49m\u001b[43m,\u001b[49m\n\u001b[32m   1398\u001b[39m \u001b[43m    \u001b[49m\u001b[43m)\u001b[49m\n",
      "\u001b[36mFile \u001b[39m\u001b[32mD:\\ProgramData\\anaconda3\\Lib\\site-packages\\pandas\\io\\formats\\format.py:962\u001b[39m, in \u001b[36mDataFrameRenderer.to_string\u001b[39m\u001b[34m(self, buf, encoding, line_width)\u001b[39m\n\u001b[32m    959\u001b[39m \u001b[38;5;28;01mfrom\u001b[39;00m\u001b[38;5;250m \u001b[39m\u001b[34;01mpandas\u001b[39;00m\u001b[34;01m.\u001b[39;00m\u001b[34;01mio\u001b[39;00m\u001b[34;01m.\u001b[39;00m\u001b[34;01mformats\u001b[39;00m\u001b[34;01m.\u001b[39;00m\u001b[34;01mstring\u001b[39;00m\u001b[38;5;250m \u001b[39m\u001b[38;5;28;01mimport\u001b[39;00m StringFormatter\n\u001b[32m    961\u001b[39m string_formatter = StringFormatter(\u001b[38;5;28mself\u001b[39m.fmt, line_width=line_width)\n\u001b[32m--> \u001b[39m\u001b[32m962\u001b[39m string = \u001b[43mstring_formatter\u001b[49m\u001b[43m.\u001b[49m\u001b[43mto_string\u001b[49m\u001b[43m(\u001b[49m\u001b[43m)\u001b[49m\n\u001b[32m    963\u001b[39m \u001b[38;5;28;01mreturn\u001b[39;00m save_to_buffer(string, buf=buf, encoding=encoding)\n",
      "\u001b[36mFile \u001b[39m\u001b[32mD:\\ProgramData\\anaconda3\\Lib\\site-packages\\pandas\\io\\formats\\string.py:29\u001b[39m, in \u001b[36mStringFormatter.to_string\u001b[39m\u001b[34m(self)\u001b[39m\n\u001b[32m     28\u001b[39m \u001b[38;5;28;01mdef\u001b[39;00m\u001b[38;5;250m \u001b[39m\u001b[34mto_string\u001b[39m(\u001b[38;5;28mself\u001b[39m) -> \u001b[38;5;28mstr\u001b[39m:\n\u001b[32m---> \u001b[39m\u001b[32m29\u001b[39m     text = \u001b[38;5;28;43mself\u001b[39;49m\u001b[43m.\u001b[49m\u001b[43m_get_string_representation\u001b[49m\u001b[43m(\u001b[49m\u001b[43m)\u001b[49m\n\u001b[32m     30\u001b[39m     \u001b[38;5;28;01mif\u001b[39;00m \u001b[38;5;28mself\u001b[39m.fmt.should_show_dimensions:\n\u001b[32m     31\u001b[39m         text = \u001b[33mf\u001b[39m\u001b[33m\"\u001b[39m\u001b[38;5;132;01m{\u001b[39;00mtext\u001b[38;5;132;01m}\u001b[39;00m\u001b[38;5;132;01m{\u001b[39;00m\u001b[38;5;28mself\u001b[39m.fmt.dimensions_info\u001b[38;5;132;01m}\u001b[39;00m\u001b[33m\"\u001b[39m\n",
      "\u001b[36mFile \u001b[39m\u001b[32mD:\\ProgramData\\anaconda3\\Lib\\site-packages\\pandas\\io\\formats\\string.py:44\u001b[39m, in \u001b[36mStringFormatter._get_string_representation\u001b[39m\u001b[34m(self)\u001b[39m\n\u001b[32m     41\u001b[39m \u001b[38;5;28;01mif\u001b[39;00m \u001b[38;5;28mself\u001b[39m.fmt.frame.empty:\n\u001b[32m     42\u001b[39m     \u001b[38;5;28;01mreturn\u001b[39;00m \u001b[38;5;28mself\u001b[39m._empty_info_line\n\u001b[32m---> \u001b[39m\u001b[32m44\u001b[39m strcols = \u001b[38;5;28;43mself\u001b[39;49m\u001b[43m.\u001b[49m\u001b[43m_get_strcols\u001b[49m\u001b[43m(\u001b[49m\u001b[43m)\u001b[49m\n\u001b[32m     46\u001b[39m \u001b[38;5;28;01mif\u001b[39;00m \u001b[38;5;28mself\u001b[39m.line_width \u001b[38;5;129;01mis\u001b[39;00m \u001b[38;5;28;01mNone\u001b[39;00m:\n\u001b[32m     47\u001b[39m     \u001b[38;5;66;03m# no need to wrap around just print the whole frame\u001b[39;00m\n\u001b[32m     48\u001b[39m     \u001b[38;5;28;01mreturn\u001b[39;00m \u001b[38;5;28mself\u001b[39m.adj.adjoin(\u001b[32m1\u001b[39m, *strcols)\n",
      "\u001b[36mFile \u001b[39m\u001b[32mD:\\ProgramData\\anaconda3\\Lib\\site-packages\\pandas\\io\\formats\\string.py:35\u001b[39m, in \u001b[36mStringFormatter._get_strcols\u001b[39m\u001b[34m(self)\u001b[39m\n\u001b[32m     34\u001b[39m \u001b[38;5;28;01mdef\u001b[39;00m\u001b[38;5;250m \u001b[39m\u001b[34m_get_strcols\u001b[39m(\u001b[38;5;28mself\u001b[39m) -> \u001b[38;5;28mlist\u001b[39m[\u001b[38;5;28mlist\u001b[39m[\u001b[38;5;28mstr\u001b[39m]]:\n\u001b[32m---> \u001b[39m\u001b[32m35\u001b[39m     strcols = \u001b[38;5;28;43mself\u001b[39;49m\u001b[43m.\u001b[49m\u001b[43mfmt\u001b[49m\u001b[43m.\u001b[49m\u001b[43mget_strcols\u001b[49m\u001b[43m(\u001b[49m\u001b[43m)\u001b[49m\n\u001b[32m     36\u001b[39m     \u001b[38;5;28;01mif\u001b[39;00m \u001b[38;5;28mself\u001b[39m.fmt.is_truncated:\n\u001b[32m     37\u001b[39m         strcols = \u001b[38;5;28mself\u001b[39m._insert_dot_separators(strcols)\n",
      "\u001b[36mFile \u001b[39m\u001b[32mD:\\ProgramData\\anaconda3\\Lib\\site-packages\\pandas\\io\\formats\\format.py:476\u001b[39m, in \u001b[36mDataFrameFormatter.get_strcols\u001b[39m\u001b[34m(self)\u001b[39m\n\u001b[32m    472\u001b[39m \u001b[38;5;28;01mdef\u001b[39;00m\u001b[38;5;250m \u001b[39m\u001b[34mget_strcols\u001b[39m(\u001b[38;5;28mself\u001b[39m) -> \u001b[38;5;28mlist\u001b[39m[\u001b[38;5;28mlist\u001b[39m[\u001b[38;5;28mstr\u001b[39m]]:\n\u001b[32m    473\u001b[39m \u001b[38;5;250m    \u001b[39m\u001b[33;03m\"\"\"\u001b[39;00m\n\u001b[32m    474\u001b[39m \u001b[33;03m    Render a DataFrame to a list of columns (as lists of strings).\u001b[39;00m\n\u001b[32m    475\u001b[39m \u001b[33;03m    \"\"\"\u001b[39;00m\n\u001b[32m--> \u001b[39m\u001b[32m476\u001b[39m     strcols = \u001b[38;5;28;43mself\u001b[39;49m\u001b[43m.\u001b[49m\u001b[43m_get_strcols_without_index\u001b[49m\u001b[43m(\u001b[49m\u001b[43m)\u001b[49m\n\u001b[32m    478\u001b[39m     \u001b[38;5;28;01mif\u001b[39;00m \u001b[38;5;28mself\u001b[39m.index:\n\u001b[32m    479\u001b[39m         str_index = \u001b[38;5;28mself\u001b[39m._get_formatted_index(\u001b[38;5;28mself\u001b[39m.tr_frame)\n",
      "\u001b[36mFile \u001b[39m\u001b[32mD:\\ProgramData\\anaconda3\\Lib\\site-packages\\pandas\\io\\formats\\format.py:741\u001b[39m, in \u001b[36mDataFrameFormatter._get_strcols_without_index\u001b[39m\u001b[34m(self)\u001b[39m\n\u001b[32m    737\u001b[39m header_colwidth = \u001b[38;5;28mmax\u001b[39m(\n\u001b[32m    738\u001b[39m     \u001b[38;5;28mint\u001b[39m(\u001b[38;5;28mself\u001b[39m.col_space.get(c, \u001b[32m0\u001b[39m)), *(\u001b[38;5;28mself\u001b[39m.adj.len(x) \u001b[38;5;28;01mfor\u001b[39;00m x \u001b[38;5;129;01min\u001b[39;00m cheader)\n\u001b[32m    739\u001b[39m )\n\u001b[32m    740\u001b[39m fmt_values = \u001b[38;5;28mself\u001b[39m.format_col(i)\n\u001b[32m--> \u001b[39m\u001b[32m741\u001b[39m fmt_values = \u001b[43m_make_fixed_width\u001b[49m\u001b[43m(\u001b[49m\n\u001b[32m    742\u001b[39m \u001b[43m    \u001b[49m\u001b[43mfmt_values\u001b[49m\u001b[43m,\u001b[49m\u001b[43m \u001b[49m\u001b[38;5;28;43mself\u001b[39;49m\u001b[43m.\u001b[49m\u001b[43mjustify\u001b[49m\u001b[43m,\u001b[49m\u001b[43m \u001b[49m\u001b[43mminimum\u001b[49m\u001b[43m=\u001b[49m\u001b[43mheader_colwidth\u001b[49m\u001b[43m,\u001b[49m\u001b[43m \u001b[49m\u001b[43madj\u001b[49m\u001b[43m=\u001b[49m\u001b[38;5;28;43mself\u001b[39;49m\u001b[43m.\u001b[49m\u001b[43madj\u001b[49m\n\u001b[32m    743\u001b[39m \u001b[43m\u001b[49m\u001b[43m)\u001b[49m\n\u001b[32m    745\u001b[39m max_len = \u001b[38;5;28mmax\u001b[39m(*(\u001b[38;5;28mself\u001b[39m.adj.len(x) \u001b[38;5;28;01mfor\u001b[39;00m x \u001b[38;5;129;01min\u001b[39;00m fmt_values), header_colwidth)\n\u001b[32m    746\u001b[39m cheader = \u001b[38;5;28mself\u001b[39m.adj.justify(cheader, max_len, mode=\u001b[38;5;28mself\u001b[39m.justify)\n",
      "\u001b[36mFile \u001b[39m\u001b[32mD:\\ProgramData\\anaconda3\\Lib\\site-packages\\pandas\\io\\formats\\format.py:1755\u001b[39m, in \u001b[36m_make_fixed_width\u001b[39m\u001b[34m(strings, justify, minimum, adj)\u001b[39m\n\u001b[32m   1752\u001b[39m             x = x[: max_len - \u001b[32m3\u001b[39m] + \u001b[33m\"\u001b[39m\u001b[33m...\u001b[39m\u001b[33m\"\u001b[39m\n\u001b[32m   1753\u001b[39m     \u001b[38;5;28;01mreturn\u001b[39;00m x\n\u001b[32m-> \u001b[39m\u001b[32m1755\u001b[39m strings = [\u001b[43mjust\u001b[49m\u001b[43m(\u001b[49m\u001b[43mx\u001b[49m\u001b[43m)\u001b[49m \u001b[38;5;28;01mfor\u001b[39;00m x \u001b[38;5;129;01min\u001b[39;00m strings]\n\u001b[32m   1756\u001b[39m result = adjustment.justify(strings, max_len, mode=justify)\n\u001b[32m   1757\u001b[39m \u001b[38;5;28;01mreturn\u001b[39;00m result\n",
      "\u001b[36mFile \u001b[39m\u001b[32mD:\\ProgramData\\anaconda3\\Lib\\site-packages\\pandas\\io\\formats\\format.py:1749\u001b[39m, in \u001b[36m_make_fixed_width.<locals>.just\u001b[39m\u001b[34m(x)\u001b[39m\n\u001b[32m   1746\u001b[39m \u001b[38;5;28;01mif\u001b[39;00m conf_max \u001b[38;5;129;01mis\u001b[39;00m \u001b[38;5;129;01mnot\u001b[39;00m \u001b[38;5;28;01mNone\u001b[39;00m \u001b[38;5;129;01mand\u001b[39;00m max_len > conf_max:\n\u001b[32m   1747\u001b[39m     max_len = conf_max\n\u001b[32m-> \u001b[39m\u001b[32m1749\u001b[39m \u001b[38;5;28;01mdef\u001b[39;00m\u001b[38;5;250m \u001b[39m\u001b[34mjust\u001b[39m(x: \u001b[38;5;28mstr\u001b[39m) -> \u001b[38;5;28mstr\u001b[39m:\n\u001b[32m   1750\u001b[39m     \u001b[38;5;28;01mif\u001b[39;00m conf_max \u001b[38;5;129;01mis\u001b[39;00m \u001b[38;5;129;01mnot\u001b[39;00m \u001b[38;5;28;01mNone\u001b[39;00m:\n\u001b[32m   1751\u001b[39m         \u001b[38;5;28;01mif\u001b[39;00m (conf_max > \u001b[32m3\u001b[39m) & (adjustment.len(x) > max_len):\n",
      "\u001b[31mKeyboardInterrupt\u001b[39m: "
     ]
    }
   ],
   "source": [
    "pd.set_option('display.max_rows', None)\n",
    "print(crime_gdf)"
   ]
  },
  {
   "cell_type": "code",
   "execution_count": 43,
   "id": "01ef33a0-9bb3-48ae-a2e1-57be6baf92fd",
   "metadata": {},
   "outputs": [
    {
     "name": "stdout",
     "output_type": "stream",
     "text": [
      "Year\n",
      "2008    72404\n",
      "2009    74394\n",
      "2010    72493\n",
      "2011    68313\n",
      "2012    67104\n",
      "2013    72358\n",
      "2014    77410\n",
      "2015    75911\n",
      "2016    77602\n",
      "2017    78451\n",
      "2018    80135\n",
      "2019    72692\n",
      "2020    76437\n",
      "2021    70405\n",
      "2022    73762\n",
      "2023    69687\n",
      "2024    68723\n",
      "2025    31723\n",
      "dtype: int64\n"
     ]
    }
   ],
   "source": [
    " print(crime_gdf.groupby(\"Year\").size())"
   ]
  },
  {
   "cell_type": "code",
   "execution_count": 44,
   "id": "821d3826-4652-4477-9874-cb4f7abf5360",
   "metadata": {},
   "outputs": [
    {
     "name": "stdout",
     "output_type": "stream",
     "text": [
      "4517.209466766826\n"
     ]
    }
   ],
   "source": [
    "print(crime_gdf['Tract Population'].mean())"
   ]
  },
  {
   "cell_type": "code",
   "execution_count": null,
   "id": "7df9d360-a32f-400d-8832-62bcf7c3385e",
   "metadata": {},
   "outputs": [],
   "source": []
  }
 ],
 "metadata": {
  "kernelspec": {
   "display_name": "Python 3 (ipykernel)",
   "language": "python",
   "name": "python3"
  },
  "language_info": {
   "codemirror_mode": {
    "name": "ipython",
    "version": 3
   },
   "file_extension": ".py",
   "mimetype": "text/x-python",
   "name": "python",
   "nbconvert_exporter": "python",
   "pygments_lexer": "ipython3",
   "version": "3.13.5"
  }
 },
 "nbformat": 4,
 "nbformat_minor": 5
}
