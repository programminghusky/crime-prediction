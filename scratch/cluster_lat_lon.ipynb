{
 "cells": [
  {
   "cell_type": "code",
   "execution_count": 10,
   "id": "d706ecba-3262-41dd-b0f2-25cbe85b4247",
   "metadata": {},
   "outputs": [],
   "source": [
    "import numpy as np\n",
    "from sklearn.cluster import DBSCAN\n",
    "import pandas as pd\n",
    "import geopandas as gpd\n",
    "from shapely import wkt\n",
    "import matplotlib as plt\n",
    "import pyproj\n",
    "import os\n",
    "os.chdir(\"D:/Projects/crime-prediction\")\n",
    "pyproj.datadir.set_data_dir(\"D:/ProgramData/anaconda3/envs/crime-prediction/Library/share/proj\")"
   ]
  },
  {
   "cell_type": "code",
   "execution_count": 11,
   "id": "df9244ae-5e6a-4ec3-803a-a86e51c1756d",
   "metadata": {},
   "outputs": [],
   "source": [
    "\n",
    "    \n",
    "def cluster_lat_long(df, radius_km, min_samples):\n",
    "    df = df.reset_index()\n",
    "    coords_rad = np.radians(df[['Latitude', 'Longitude']].values)\n",
    "    kms_per_radian = 6371.0088\n",
    "    epsilon = radius_km / kms_per_radian\n",
    "    db = DBSCAN(eps=epsilon, min_samples=min_samples, algorithm=\"ball_tree\", metric=\"haversine\").fit(coords_rad)\n",
    "    \n",
    "    labels = db.labels_\n",
    "    core_samples_mask = np.zeros_like(labels, dtype=bool)\n",
    "    core_samples_mask[db.core_sample_indices_] = True\n",
    "\n",
    "    unique_labels = set(labels)\n",
    "  \n",
    "    core_samples_per_label = {}\n",
    "    for k in unique_labels:\n",
    "        # Get indices of points belonging to the current cluster k\n",
    "        class_member_mask = (labels == k)\n",
    "\n",
    "        # Find core samples within this cluster\n",
    "        cluster_core_samples_indices = df[class_member_mask & core_samples_mask]\n",
    "\n",
    "        # If there are core samples for this cluster, take the first one\n",
    "        if len(cluster_core_samples_indices) > 0:\n",
    "            core_samples_per_label[k] = cluster_core_samples_indices.iloc[0]\n",
    "\n",
    "    def m(x):\n",
    "     return pd.Series({\n",
    "             'ClusterLatitude': core_samples_per_label[labels[x.name]]['Latitude'],\n",
    "             'ClusterLongitude': core_samples_per_label[labels[x.name]]['Longitude']\n",
    "            })\n",
    "        \n",
    "    df[['ClusterLatitude', 'ClusterLongitude']] = df.apply(lambda x: m(x), axis=1)\n",
    "    return df"
   ]
  },
  {
   "cell_type": "code",
   "execution_count": 12,
   "id": "1fbd7230-2501-47ad-bd39-0fa77541c670",
   "metadata": {},
   "outputs": [],
   "source": [
    "pre_processed_file_path = 'data/preprocessed/preprocessed-1.csv'"
   ]
  },
  {
   "cell_type": "code",
   "execution_count": 13,
   "id": "6f359092-6e61-475b-8e49-7431d9d11f7e",
   "metadata": {},
   "outputs": [],
   "source": [
    "def parse_preprocessed_data_1():\n",
    "    df = pd.read_csv(\n",
    "                         pre_processed_file_path,\n",
    "                         parse_dates=['Offense Date'],                       \n",
    "                         dtype={\n",
    "                             'Precinct': 'category',\n",
    "                             'Offense Category': 'category',\n",
    "                             'Latitude': np.float32,\n",
    "                             'Longitude': np.float32\n",
    "                         }\n",
    "                        )\n",
    "    gdf = gpd.GeoDataFrame(df, geometry= df[\"geometry\"].apply(wkt.loads), crs='EPSG:4326')\n",
    "    return gdf"
   ]
  },
  {
   "cell_type": "code",
   "execution_count": 14,
   "id": "004c8bee-50bd-48b1-b0cd-fb91622c7d01",
   "metadata": {},
   "outputs": [],
   "source": [
    "gdf = parse_preprocessed_data_1()"
   ]
  },
  {
   "cell_type": "code",
   "execution_count": 15,
   "id": "6a8a2e96-9e27-42cf-9432-97dff91ddc7e",
   "metadata": {},
   "outputs": [
    {
     "name": "stdout",
     "output_type": "stream",
     "text": [
      "                               index    Latitude   Longitude  \\\n",
      "Offense Date Rounded Hour                                      \n",
      "1975-12-16 15:00:00       0   283435   47.538105 -122.267265   \n",
      "1979-02-09 14:00:00       0  1404346 -122.286972   47.608807   \n",
      "1981-02-15 05:00:00       0  1226176   47.508259 -122.383598   \n",
      "1981-08-22 20:00:00       0  1389347 -122.274963   47.545860   \n",
      "1988-09-29 02:00:00       0   715777   47.612679 -122.339386   \n",
      "...                              ...         ...         ...   \n",
      "2025-07-09 20:00:00       1   186880   47.661385 -122.333130   \n",
      "                          2   452330 -122.344925   47.619583   \n",
      "2025-07-09 22:00:00       0   155748   47.580246 -122.385208   \n",
      "                          1   933375   47.521038 -122.369347   \n",
      "2025-07-09 23:00:00       0  1450112 -122.302727   47.721024   \n",
      "\n",
      "                            Offense Date Rounded Hour  ClusterLatitude  \\\n",
      "Offense Date Rounded Hour                                                \n",
      "1975-12-16 15:00:00       0       1975-12-16 15:00:00        47.538105   \n",
      "1979-02-09 14:00:00       0       1979-02-09 14:00:00      -122.286972   \n",
      "1981-02-15 05:00:00       0       1981-02-15 05:00:00        47.508259   \n",
      "1981-08-22 20:00:00       0       1981-08-22 20:00:00      -122.274963   \n",
      "1988-09-29 02:00:00       0       1988-09-29 02:00:00        47.612679   \n",
      "...                                               ...              ...   \n",
      "2025-07-09 20:00:00       1       2025-07-09 20:00:00        47.663525   \n",
      "                          2       2025-07-09 20:00:00      -122.344925   \n",
      "2025-07-09 22:00:00       0       2025-07-09 22:00:00        47.580246   \n",
      "                          1       2025-07-09 22:00:00        47.580246   \n",
      "2025-07-09 23:00:00       0       2025-07-09 23:00:00      -122.302727   \n",
      "\n",
      "                             ClusterLongitude  \n",
      "Offense Date Rounded Hour                      \n",
      "1975-12-16 15:00:00       0       -122.267265  \n",
      "1979-02-09 14:00:00       0         47.608807  \n",
      "1981-02-15 05:00:00       0       -122.383598  \n",
      "1981-08-22 20:00:00       0         47.545860  \n",
      "1988-09-29 02:00:00       0       -122.339386  \n",
      "...                                       ...  \n",
      "2025-07-09 20:00:00       1       -122.303146  \n",
      "                          2         47.619583  \n",
      "2025-07-09 22:00:00       0       -122.385208  \n",
      "                          1       -122.385208  \n",
      "2025-07-09 23:00:00       0         47.721024  \n",
      "\n",
      "[1340339 rows x 6 columns]\n"
     ]
    }
   ],
   "source": [
    "gdf['Offense Date Rounded Hour'] = gdf['Offense Date'].dt.round('h')\n",
    "unique_combinations = gdf[['Latitude', 'Longitude','Offense Date Rounded Hour']].drop_duplicates()\n",
    "grouped_df = unique_combinations.groupby('Offense Date Rounded Hour')\n",
    "cf = grouped_df[['Latitude', 'Longitude','Offense Date Rounded Hour']].apply(lambda x: cluster_lat_long(x, radius_km=50,min_samples=1))\n",
    "print(cf)\n",
    "# group_counts =  grouped_df['Latitude'].size().to_frame().sort_values(by='Latitude', ascending=False)\n",
    "# print(group_counts[group_counts['Latitude']>1])"
   ]
  },
  {
   "cell_type": "code",
   "execution_count": 16,
   "id": "fd1ed2dc-1048-4c67-8359-e5a5b41214ca",
   "metadata": {},
   "outputs": [],
   "source": [
    "cf.to_csv('data/preprocessed/preprocessed-2.csv', index=False)"
   ]
  },
  {
   "cell_type": "code",
   "execution_count": 17,
   "id": "28bf783e-e1d1-4aad-bf5f-f4f4692c5aaf",
   "metadata": {},
   "outputs": [
    {
     "name": "stdout",
     "output_type": "stream",
     "text": [
      "                           Latitude\n",
      "Offense Date Rounded Hour          \n",
      "2020-03-08 00:00:00             295\n",
      "2020-05-01 00:00:00             247\n",
      "2020-03-15 00:00:00             220\n",
      "2020-04-01 00:00:00             162\n",
      "2020-05-10 00:00:00             142\n",
      "...                             ...\n",
      "2015-11-10 05:00:00               2\n",
      "2023-02-05 19:00:00               2\n",
      "2023-02-05 23:00:00               2\n",
      "2023-02-06 02:00:00               2\n",
      "2023-02-05 06:00:00               2\n",
      "\n",
      "[147811 rows x 1 columns]\n"
     ]
    }
   ],
   "source": [
    "group_counts =  grouped_df['Latitude'].size().to_frame().sort_values(by='Latitude', ascending=False)\n",
    "print(group_counts[group_counts['Latitude']>1])"
   ]
  },
  {
   "cell_type": "code",
   "execution_count": null,
   "id": "95199918-fe28-436b-a1bc-31060e42c6bb",
   "metadata": {},
   "outputs": [],
   "source": []
  }
 ],
 "metadata": {
  "kernelspec": {
   "display_name": "crime-prediction",
   "language": "python",
   "name": "crime-prediction"
  },
  "language_info": {
   "codemirror_mode": {
    "name": "ipython",
    "version": 3
   },
   "file_extension": ".py",
   "mimetype": "text/x-python",
   "name": "python",
   "nbconvert_exporter": "python",
   "pygments_lexer": "ipython3",
   "version": "3.13.5"
  }
 },
 "nbformat": 4,
 "nbformat_minor": 5
}
